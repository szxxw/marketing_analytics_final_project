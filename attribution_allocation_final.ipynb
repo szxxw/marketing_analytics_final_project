{
 "cells": [
  {
   "cell_type": "markdown",
   "metadata": {},
   "source": [
    "# Attribution and allocation"
   ]
  },
  {
   "cell_type": "code",
   "execution_count": 1,
   "metadata": {},
   "outputs": [
    {
     "name": "stdout",
     "output_type": "stream",
     "text": [
      "<class 'pandas.core.frame.DataFrame'>\n",
      "RangeIndex: 40 entries, 0 to 39\n",
      "Data columns (total 3 columns):\n",
      " #   Column     Non-Null Count  Dtype \n",
      "---  ------     --------------  ----- \n",
      " 0   channel    40 non-null     object\n",
      " 1   date       40 non-null     int64 \n",
      " 2   spend_AED  40 non-null     int64 \n",
      "dtypes: int64(2), object(1)\n",
      "memory usage: 1.1+ KB\n"
     ]
    }
   ],
   "source": [
    "import pandas as pd\n",
    "import numpy as np\n",
    "# read the channel spend dataset\n",
    "c_spend = pd.read_csv('channel_spend_graduate.csv')\n",
    "c_spend.info()"
   ]
  },
  {
   "cell_type": "code",
   "execution_count": 2,
   "metadata": {},
   "outputs": [
    {
     "name": "stdout",
     "output_type": "stream",
     "text": [
      "<class 'pandas.core.frame.DataFrame'>\n",
      "RangeIndex: 40 entries, 0 to 39\n",
      "Data columns (total 3 columns):\n",
      " #   Column     Non-Null Count  Dtype \n",
      "---  ------     --------------  ----- \n",
      " 0   channel    40 non-null     object\n",
      " 1   date       40 non-null     object\n",
      " 2   spend_AED  40 non-null     int64 \n",
      "dtypes: int64(1), object(2)\n",
      "memory usage: 1.1+ KB\n"
     ]
    }
   ],
   "source": [
    "# change the format of variable\n",
    "c_spend['date'] = c_spend.date.map(str)\n",
    "c_spend.info()"
   ]
  },
  {
   "cell_type": "code",
   "execution_count": 3,
   "metadata": {},
   "outputs": [],
   "source": [
    "# rewrite the format of datatime values\n",
    "for i in range(c_spend.shape[0]):\n",
    "    c_spend.iloc[i, 1] = '-'.join([c_spend.iloc[i, 1][:4],c_spend.iloc[i, 1][4:6]])"
   ]
  },
  {
   "cell_type": "code",
   "execution_count": 4,
   "metadata": {},
   "outputs": [
    {
     "data": {
      "text/html": [
       "<div>\n",
       "<style scoped>\n",
       "    .dataframe tbody tr th:only-of-type {\n",
       "        vertical-align: middle;\n",
       "    }\n",
       "\n",
       "    .dataframe tbody tr th {\n",
       "        vertical-align: top;\n",
       "    }\n",
       "\n",
       "    .dataframe thead th {\n",
       "        text-align: right;\n",
       "    }\n",
       "</style>\n",
       "<table border=\"1\" class=\"dataframe\">\n",
       "  <thead>\n",
       "    <tr style=\"text-align: right;\">\n",
       "      <th></th>\n",
       "      <th>channel</th>\n",
       "      <th>date</th>\n",
       "      <th>spend_AED</th>\n",
       "    </tr>\n",
       "  </thead>\n",
       "  <tbody>\n",
       "    <tr>\n",
       "      <th>0</th>\n",
       "      <td>bing</td>\n",
       "      <td>2019-07</td>\n",
       "      <td>400</td>\n",
       "    </tr>\n",
       "    <tr>\n",
       "      <th>1</th>\n",
       "      <td>display</td>\n",
       "      <td>2019-07</td>\n",
       "      <td>12</td>\n",
       "    </tr>\n",
       "  </tbody>\n",
       "</table>\n",
       "</div>"
      ],
      "text/plain": [
       "   channel     date  spend_AED\n",
       "0     bing  2019-07        400\n",
       "1  display  2019-07         12"
      ]
     },
     "execution_count": 4,
     "metadata": {},
     "output_type": "execute_result"
    }
   ],
   "source": [
    "c_spend.head(2)"
   ]
  },
  {
   "cell_type": "code",
   "execution_count": 5,
   "metadata": {},
   "outputs": [],
   "source": [
    "c_spend['date'] = pd.to_datetime(c_spend['date'])"
   ]
  },
  {
   "cell_type": "code",
   "execution_count": 6,
   "metadata": {},
   "outputs": [
    {
     "name": "stdout",
     "output_type": "stream",
     "text": [
      "<class 'pandas.core.frame.DataFrame'>\n",
      "RangeIndex: 40 entries, 0 to 39\n",
      "Data columns (total 3 columns):\n",
      " #   Column     Non-Null Count  Dtype         \n",
      "---  ------     --------------  -----         \n",
      " 0   channel    40 non-null     object        \n",
      " 1   date       40 non-null     datetime64[ns]\n",
      " 2   spend_AED  40 non-null     int64         \n",
      "dtypes: datetime64[ns](1), int64(1), object(1)\n",
      "memory usage: 1.1+ KB\n"
     ]
    }
   ],
   "source": [
    "c_spend.info()\n",
    "c_spend.to_csv('channel_spend.csv')   "
   ]
  },
  {
   "cell_type": "code",
   "execution_count": 7,
   "metadata": {},
   "outputs": [
    {
     "data": {
      "text/plain": [
       "355896"
      ]
     },
     "execution_count": 7,
     "metadata": {},
     "output_type": "execute_result"
    }
   ],
   "source": [
    "# calculate total channel spend\n",
    "total_c_s = c_spend.spend_AED.sum()\n",
    "total_c_s"
   ]
  },
  {
   "cell_type": "code",
   "execution_count": 8,
   "metadata": {},
   "outputs": [
    {
     "data": {
      "text/plain": [
       "channel\n",
       "bing         10800\n",
       "display        366\n",
       "facebook    113500\n",
       "search      222500\n",
       "youtube       8730\n",
       "Name: spend_AED, dtype: int64"
      ]
     },
     "execution_count": 8,
     "metadata": {},
     "output_type": "execute_result"
    }
   ],
   "source": [
    "# total spend of each channel\n",
    "c_spend.groupby('channel')['spend_AED'].agg('sum')"
   ]
  },
  {
   "cell_type": "markdown",
   "metadata": {},
   "source": [
    "# Compute channel spend"
   ]
  },
  {
   "cell_type": "code",
   "execution_count": 9,
   "metadata": {},
   "outputs": [],
   "source": [
    "not_in_trial = pd.read_csv('not_in_trial.csv')"
   ]
  },
  {
   "cell_type": "code",
   "execution_count": 10,
   "metadata": {},
   "outputs": [
    {
     "name": "stdout",
     "output_type": "stream",
     "text": [
      "<class 'pandas.core.frame.DataFrame'>\n",
      "RangeIndex: 218778 entries, 0 to 218777\n",
      "Data columns (total 35 columns):\n",
      " #   Column                        Non-Null Count   Dtype  \n",
      "---  ------                        --------------   -----  \n",
      " 0   Unnamed: 0                    218778 non-null  int64  \n",
      " 1   subid                         218778 non-null  int64  \n",
      " 2   package_type                  183627 non-null  object \n",
      " 3   num_weekly_services_utilized  112599 non-null  float64\n",
      " 4   preferred_genre               182870 non-null  object \n",
      " 5   intended_use                  215664 non-null  object \n",
      " 6   weekly_consumption_hour       182561 non-null  float64\n",
      " 7   num_ideal_streaming_services  111141 non-null  float64\n",
      " 8   age                           184880 non-null  float64\n",
      " 9   male_TF                       218574 non-null  object \n",
      " 10  country                       218778 non-null  object \n",
      " 11  attribution_technical         218778 non-null  object \n",
      " 12  attribution_survey            216574 non-null  object \n",
      " 13  op_sys                        206044 non-null  object \n",
      " 14  months_per_bill_period        218778 non-null  int64  \n",
      " 15  plan_type                     218778 non-null  object \n",
      " 16  monthly_price                 218778 non-null  float64\n",
      " 17  discount_price                218778 non-null  float64\n",
      " 18  account_creation_date         218778 non-null  object \n",
      " 19  trial_end_date                218778 non-null  object \n",
      " 20  initial_credit_card_declined  218778 non-null  bool   \n",
      " 21  join_fee                      185083 non-null  float64\n",
      " 22  language                      218778 non-null  object \n",
      " 23  payment_type                  88450 non-null   object \n",
      " 24  num_trial_days                218778 non-null  int64  \n",
      " 25  current_sub_TF                218778 non-null  bool   \n",
      " 26  payment_period                218778 non-null  int64  \n",
      " 27  last_payment                  132237 non-null  object \n",
      " 28  next_payment                  121400 non-null  object \n",
      " 29  cancel_date                   35935 non-null   object \n",
      " 30  trial_completed               218778 non-null  bool   \n",
      " 31  num_end_create                218778 non-null  object \n",
      " 32  discount_rate                 218778 non-null  float64\n",
      " 33  user_label                    218778 non-null  object \n",
      " 34  churn_TF                      132237 non-null  float64\n",
      "dtypes: bool(3), float64(9), int64(5), object(18)\n",
      "memory usage: 54.0+ MB\n"
     ]
    }
   ],
   "source": [
    "not_in_trial.info()"
   ]
  },
  {
   "cell_type": "code",
   "execution_count": 11,
   "metadata": {},
   "outputs": [],
   "source": [
    "sub_not_in_trial = not_in_trial.loc[:,['subid','account_creation_date','attribution_technical','attribution_survey','user_label','payment_period','discount_price']]"
   ]
  },
  {
   "cell_type": "code",
   "execution_count": 12,
   "metadata": {},
   "outputs": [],
   "source": [
    "def convert_to_datetime(df, columns):\n",
    "    for i in columns:\n",
    "        df[i] = pd.to_datetime(df[i])\n",
    "    return df\n",
    "date_columns = ['account_creation_date']"
   ]
  },
  {
   "cell_type": "code",
   "execution_count": 13,
   "metadata": {},
   "outputs": [],
   "source": [
    "sub_not_in_trial =convert_to_datetime(sub_not_in_trial, date_columns)"
   ]
  },
  {
   "cell_type": "code",
   "execution_count": 14,
   "metadata": {},
   "outputs": [],
   "source": [
    "# filter channel spend months\n",
    "channel_month = [1,2,7,8,9,10,11,12]\n",
    "channel = sub_not_in_trial[sub_not_in_trial['account_creation_date'].dt.month.isin(channel_month)]"
   ]
  },
  {
   "cell_type": "code",
   "execution_count": 15,
   "metadata": {},
   "outputs": [
    {
     "data": {
      "text/plain": [
       "attribution_technical\n",
       "bing          967\n",
       "display      1259\n",
       "facebook    72044\n",
       "search      22105\n",
       "youtube       734\n",
       "dtype: int64"
      ]
     },
     "execution_count": 15,
     "metadata": {},
     "output_type": "execute_result"
    }
   ],
   "source": [
    "# filter channel_type based on the value of attribution_technical\n",
    "channel_type = ['bing', 'search','youtube','display','facebook']\n",
    "channel_s = channel[channel['attribution_technical'].isin(channel_type)]\n",
    "channel_s.groupby('attribution_technical').size()"
   ]
  },
  {
   "cell_type": "code",
   "execution_count": 16,
   "metadata": {},
   "outputs": [
    {
     "data": {
      "text/plain": [
       "array(['not_churn', 'never_sub', 'churn'], dtype=object)"
      ]
     },
     "execution_count": 16,
     "metadata": {},
     "output_type": "execute_result"
    }
   ],
   "source": [
    "channel_s.user_label.unique()"
   ]
  },
  {
   "cell_type": "code",
   "execution_count": 17,
   "metadata": {},
   "outputs": [],
   "source": [
    "cac_channel = channel_s[channel_s['user_label'] != 'never_sub']"
   ]
  },
  {
   "cell_type": "code",
   "execution_count": 18,
   "metadata": {},
   "outputs": [
    {
     "data": {
      "text/plain": [
       "attribution_technical\n",
       "bing          506\n",
       "display       721\n",
       "facebook    40517\n",
       "search      15017\n",
       "youtube       583\n",
       "dtype: int64"
      ]
     },
     "execution_count": 18,
     "metadata": {},
     "output_type": "execute_result"
    }
   ],
   "source": [
    "# total converted users gained from each channel\n",
    "cac_channel.groupby('attribution_technical').size()"
   ]
  },
  {
   "cell_type": "code",
   "execution_count": 19,
   "metadata": {},
   "outputs": [
    {
     "name": "stdout",
     "output_type": "stream",
     "text": [
      "<class 'pandas.core.frame.DataFrame'>\n",
      "Int64Index: 57344 entries, 0 to 218776\n",
      "Data columns (total 7 columns):\n",
      " #   Column                 Non-Null Count  Dtype         \n",
      "---  ------                 --------------  -----         \n",
      " 0   subid                  57344 non-null  int64         \n",
      " 1   account_creation_date  57344 non-null  datetime64[ns]\n",
      " 2   attribution_technical  57344 non-null  object        \n",
      " 3   attribution_survey     57121 non-null  object        \n",
      " 4   user_label             57344 non-null  object        \n",
      " 5   payment_period         57344 non-null  int64         \n",
      " 6   discount_price         57344 non-null  float64       \n",
      "dtypes: datetime64[ns](1), float64(1), int64(2), object(3)\n",
      "memory usage: 3.5+ MB\n"
     ]
    }
   ],
   "source": [
    "cac_channel.info()"
   ]
  },
  {
   "cell_type": "code",
   "execution_count": 20,
   "metadata": {},
   "outputs": [
    {
     "name": "stderr",
     "output_type": "stream",
     "text": [
      "<ipython-input-20-c509e7b6ed53>:1: FutureWarning: Treating datetime data as categorical rather than numeric in `.describe` is deprecated and will be removed in a future version of pandas. Specify `datetime_is_numeric=True` to silence this warning and adopt the future behavior now.\n",
      "  cac_channel.account_creation_date.describe()\n"
     ]
    },
    {
     "data": {
      "text/plain": [
       "count                   57344\n",
       "unique                  57217\n",
       "top       2019-09-22 13:32:28\n",
       "freq                        2\n",
       "first     2019-07-01 00:04:29\n",
       "last      2020-02-29 23:56:41\n",
       "Name: account_creation_date, dtype: object"
      ]
     },
     "execution_count": 20,
     "metadata": {},
     "output_type": "execute_result"
    }
   ],
   "source": [
    "cac_channel.account_creation_date.describe()"
   ]
  },
  {
   "cell_type": "code",
   "execution_count": 21,
   "metadata": {},
   "outputs": [
    {
     "name": "stderr",
     "output_type": "stream",
     "text": [
      "<ipython-input-21-f5591eef9219>:1: SettingWithCopyWarning: \n",
      "A value is trying to be set on a copy of a slice from a DataFrame.\n",
      "Try using .loc[row_indexer,col_indexer] = value instead\n",
      "\n",
      "See the caveats in the documentation: https://pandas.pydata.org/pandas-docs/stable/user_guide/indexing.html#returning-a-view-versus-a-copy\n",
      "  cac_channel['months_per_bill_period'] = 4\n"
     ]
    }
   ],
   "source": [
    "cac_channel['months_per_bill_period'] = 4"
   ]
  },
  {
   "cell_type": "code",
   "execution_count": 22,
   "metadata": {},
   "outputs": [
    {
     "name": "stderr",
     "output_type": "stream",
     "text": [
      "<ipython-input-22-598b136df804>:1: SettingWithCopyWarning: \n",
      "A value is trying to be set on a copy of a slice from a DataFrame.\n",
      "Try using .loc[row_indexer,col_indexer] = value instead\n",
      "\n",
      "See the caveats in the documentation: https://pandas.pydata.org/pandas-docs/stable/user_guide/indexing.html#returning-a-view-versus-a-copy\n",
      "  cac_channel['month_year'] = cac_channel.account_creation_date.dt.to_period('M')\n"
     ]
    }
   ],
   "source": [
    "cac_channel['month_year'] = cac_channel.account_creation_date.dt.to_period('M')"
   ]
  },
  {
   "cell_type": "markdown",
   "metadata": {},
   "source": [
    "# Calculate the marginal cac"
   ]
  },
  {
   "cell_type": "code",
   "execution_count": 23,
   "metadata": {},
   "outputs": [],
   "source": [
    "\n",
    "month_user_channel = cac_channel.groupby(['month_year','attribution_technical']) \\\n",
    "                             .size() \\\n",
    "                             .reset_index(name='num_paying_user') \\\n",
    "                             #.sort_values(['count'], ascending=False) \\\n",
    "                             "
   ]
  },
  {
   "cell_type": "code",
   "execution_count": 24,
   "metadata": {},
   "outputs": [
    {
     "data": {
      "text/plain": [
       "57344"
      ]
     },
     "execution_count": 24,
     "metadata": {},
     "output_type": "execute_result"
    }
   ],
   "source": [
    "month_user_channel.num_paying_user.sum()"
   ]
  },
  {
   "cell_type": "code",
   "execution_count": 25,
   "metadata": {},
   "outputs": [
    {
     "data": {
      "text/html": [
       "<div>\n",
       "<style scoped>\n",
       "    .dataframe tbody tr th:only-of-type {\n",
       "        vertical-align: middle;\n",
       "    }\n",
       "\n",
       "    .dataframe tbody tr th {\n",
       "        vertical-align: top;\n",
       "    }\n",
       "\n",
       "    .dataframe thead th {\n",
       "        text-align: right;\n",
       "    }\n",
       "</style>\n",
       "<table border=\"1\" class=\"dataframe\">\n",
       "  <thead>\n",
       "    <tr style=\"text-align: right;\">\n",
       "      <th></th>\n",
       "      <th>month_year</th>\n",
       "      <th>channel</th>\n",
       "      <th>num_paying_user</th>\n",
       "    </tr>\n",
       "  </thead>\n",
       "  <tbody>\n",
       "    <tr>\n",
       "      <th>0</th>\n",
       "      <td>2019-07</td>\n",
       "      <td>bing</td>\n",
       "      <td>25</td>\n",
       "    </tr>\n",
       "    <tr>\n",
       "      <th>1</th>\n",
       "      <td>2019-07</td>\n",
       "      <td>display</td>\n",
       "      <td>7</td>\n",
       "    </tr>\n",
       "    <tr>\n",
       "      <th>2</th>\n",
       "      <td>2019-07</td>\n",
       "      <td>facebook</td>\n",
       "      <td>2058</td>\n",
       "    </tr>\n",
       "    <tr>\n",
       "      <th>3</th>\n",
       "      <td>2019-07</td>\n",
       "      <td>search</td>\n",
       "      <td>457</td>\n",
       "    </tr>\n",
       "    <tr>\n",
       "      <th>4</th>\n",
       "      <td>2019-07</td>\n",
       "      <td>youtube</td>\n",
       "      <td>1</td>\n",
       "    </tr>\n",
       "  </tbody>\n",
       "</table>\n",
       "</div>"
      ],
      "text/plain": [
       "  month_year   channel  num_paying_user\n",
       "0    2019-07      bing               25\n",
       "1    2019-07   display                7\n",
       "2    2019-07  facebook             2058\n",
       "3    2019-07    search              457\n",
       "4    2019-07   youtube                1"
      ]
     },
     "execution_count": 25,
     "metadata": {},
     "output_type": "execute_result"
    }
   ],
   "source": [
    "month_user_channel.rename(columns = {'attribution_technical':'channel'},inplace = True)\n",
    "month_user_channel.head()"
   ]
  },
  {
   "cell_type": "code",
   "execution_count": 26,
   "metadata": {},
   "outputs": [],
   "source": [
    "c_spend['month_year'] = c_spend.date.dt.to_period('M')"
   ]
  },
  {
   "cell_type": "code",
   "execution_count": 27,
   "metadata": {},
   "outputs": [
    {
     "data": {
      "text/html": [
       "<div>\n",
       "<style scoped>\n",
       "    .dataframe tbody tr th:only-of-type {\n",
       "        vertical-align: middle;\n",
       "    }\n",
       "\n",
       "    .dataframe tbody tr th {\n",
       "        vertical-align: top;\n",
       "    }\n",
       "\n",
       "    .dataframe thead th {\n",
       "        text-align: right;\n",
       "    }\n",
       "</style>\n",
       "<table border=\"1\" class=\"dataframe\">\n",
       "  <thead>\n",
       "    <tr style=\"text-align: right;\">\n",
       "      <th></th>\n",
       "      <th>channel</th>\n",
       "      <th>spend_AED</th>\n",
       "      <th>month_year</th>\n",
       "    </tr>\n",
       "  </thead>\n",
       "  <tbody>\n",
       "    <tr>\n",
       "      <th>0</th>\n",
       "      <td>bing</td>\n",
       "      <td>400</td>\n",
       "      <td>2019-07</td>\n",
       "    </tr>\n",
       "    <tr>\n",
       "      <th>1</th>\n",
       "      <td>display</td>\n",
       "      <td>12</td>\n",
       "      <td>2019-07</td>\n",
       "    </tr>\n",
       "    <tr>\n",
       "      <th>2</th>\n",
       "      <td>facebook</td>\n",
       "      <td>9000</td>\n",
       "      <td>2019-07</td>\n",
       "    </tr>\n",
       "    <tr>\n",
       "      <th>3</th>\n",
       "      <td>search</td>\n",
       "      <td>13000</td>\n",
       "      <td>2019-07</td>\n",
       "    </tr>\n",
       "    <tr>\n",
       "      <th>4</th>\n",
       "      <td>youtube</td>\n",
       "      <td>90</td>\n",
       "      <td>2019-07</td>\n",
       "    </tr>\n",
       "  </tbody>\n",
       "</table>\n",
       "</div>"
      ],
      "text/plain": [
       "    channel  spend_AED month_year\n",
       "0      bing        400    2019-07\n",
       "1   display         12    2019-07\n",
       "2  facebook       9000    2019-07\n",
       "3    search      13000    2019-07\n",
       "4   youtube         90    2019-07"
      ]
     },
     "execution_count": 27,
     "metadata": {},
     "output_type": "execute_result"
    }
   ],
   "source": [
    "c_spend.drop(columns = 'date', inplace = True)\n",
    "c_spend.head()"
   ]
  },
  {
   "cell_type": "code",
   "execution_count": 28,
   "metadata": {},
   "outputs": [],
   "source": [
    "# merge two dataframes\n",
    "new_cac = pd.merge(c_spend, month_user_channel, how='left', left_on=['channel','month_year'], right_on = ['channel','month_year'])"
   ]
  },
  {
   "cell_type": "code",
   "execution_count": 29,
   "metadata": {},
   "outputs": [],
   "source": [
    "new_cac['month_cac'] = new_cac['spend_AED']/new_cac['num_paying_user']"
   ]
  },
  {
   "cell_type": "code",
   "execution_count": 30,
   "metadata": {},
   "outputs": [],
   "source": [
    "new_cac.to_csv('new_cac.csv')"
   ]
  },
  {
   "cell_type": "code",
   "execution_count": 31,
   "metadata": {},
   "outputs": [],
   "source": [
    "# get each channel variables\n",
    "def separate_each_channel(df, channel_list):\n",
    "    df_list = []\n",
    "    for i in channel_list:\n",
    "        n_df = df[df.channel == i].sort_values('spend_AED')\n",
    "        # calculate marginal_spend\n",
    "        n_df['marginal_spend']= n_df['spend_AED'].iloc[[0]].append(n_df['spend_AED'].diff().iloc[1:8])\n",
    "        # calculate marginal_conversions\n",
    "        n_df['marginal_num_paying_user']= n_df['num_paying_user'].iloc[[0]].append(n_df['num_paying_user'].diff().iloc[1:8])\n",
    "        # calculate marginal CAC\n",
    "        n_df['marginal_CAC']= n_df['marginal_spend']/n_df['marginal_num_paying_user']\n",
    "        df_list.append(n_df)\n",
    "    return df_list"
   ]
  },
  {
   "cell_type": "code",
   "execution_count": 32,
   "metadata": {},
   "outputs": [],
   "source": [
    "channel_list = ['bing','display','facebook','search','youtube']\n",
    "df_list = separate_each_channel(df = new_cac, channel_list = channel_list)\n"
   ]
  },
  {
   "cell_type": "code",
   "execution_count": 33,
   "metadata": {},
   "outputs": [
    {
     "data": {
      "text/html": [
       "<div>\n",
       "<style scoped>\n",
       "    .dataframe tbody tr th:only-of-type {\n",
       "        vertical-align: middle;\n",
       "    }\n",
       "\n",
       "    .dataframe tbody tr th {\n",
       "        vertical-align: top;\n",
       "    }\n",
       "\n",
       "    .dataframe thead th {\n",
       "        text-align: right;\n",
       "    }\n",
       "</style>\n",
       "<table border=\"1\" class=\"dataframe\">\n",
       "  <thead>\n",
       "    <tr style=\"text-align: right;\">\n",
       "      <th></th>\n",
       "      <th>channel</th>\n",
       "      <th>spend_AED</th>\n",
       "      <th>month_year</th>\n",
       "      <th>num_paying_user</th>\n",
       "      <th>month_cac</th>\n",
       "      <th>marginal_spend</th>\n",
       "      <th>marginal_num_paying_user</th>\n",
       "      <th>marginal_CAC</th>\n",
       "    </tr>\n",
       "  </thead>\n",
       "  <tbody>\n",
       "    <tr>\n",
       "      <th>25</th>\n",
       "      <td>bing</td>\n",
       "      <td>300</td>\n",
       "      <td>2019-12</td>\n",
       "      <td>13</td>\n",
       "      <td>23.076923</td>\n",
       "      <td>300.0</td>\n",
       "      <td>13.0</td>\n",
       "      <td>23.076923</td>\n",
       "    </tr>\n",
       "    <tr>\n",
       "      <th>0</th>\n",
       "      <td>bing</td>\n",
       "      <td>400</td>\n",
       "      <td>2019-07</td>\n",
       "      <td>25</td>\n",
       "      <td>16.000000</td>\n",
       "      <td>100.0</td>\n",
       "      <td>12.0</td>\n",
       "      <td>8.333333</td>\n",
       "    </tr>\n",
       "    <tr>\n",
       "      <th>5</th>\n",
       "      <td>bing</td>\n",
       "      <td>900</td>\n",
       "      <td>2019-08</td>\n",
       "      <td>30</td>\n",
       "      <td>30.000000</td>\n",
       "      <td>500.0</td>\n",
       "      <td>5.0</td>\n",
       "      <td>100.000000</td>\n",
       "    </tr>\n",
       "    <tr>\n",
       "      <th>10</th>\n",
       "      <td>bing</td>\n",
       "      <td>1000</td>\n",
       "      <td>2019-09</td>\n",
       "      <td>51</td>\n",
       "      <td>19.607843</td>\n",
       "      <td>100.0</td>\n",
       "      <td>21.0</td>\n",
       "      <td>4.761905</td>\n",
       "    </tr>\n",
       "    <tr>\n",
       "      <th>15</th>\n",
       "      <td>bing</td>\n",
       "      <td>1100</td>\n",
       "      <td>2019-10</td>\n",
       "      <td>53</td>\n",
       "      <td>20.754717</td>\n",
       "      <td>100.0</td>\n",
       "      <td>2.0</td>\n",
       "      <td>50.000000</td>\n",
       "    </tr>\n",
       "    <tr>\n",
       "      <th>20</th>\n",
       "      <td>bing</td>\n",
       "      <td>1300</td>\n",
       "      <td>2019-11</td>\n",
       "      <td>60</td>\n",
       "      <td>21.666667</td>\n",
       "      <td>200.0</td>\n",
       "      <td>7.0</td>\n",
       "      <td>28.571429</td>\n",
       "    </tr>\n",
       "    <tr>\n",
       "      <th>30</th>\n",
       "      <td>bing</td>\n",
       "      <td>2100</td>\n",
       "      <td>2020-01</td>\n",
       "      <td>93</td>\n",
       "      <td>22.580645</td>\n",
       "      <td>800.0</td>\n",
       "      <td>33.0</td>\n",
       "      <td>24.242424</td>\n",
       "    </tr>\n",
       "    <tr>\n",
       "      <th>35</th>\n",
       "      <td>bing</td>\n",
       "      <td>3700</td>\n",
       "      <td>2020-02</td>\n",
       "      <td>181</td>\n",
       "      <td>20.441989</td>\n",
       "      <td>1600.0</td>\n",
       "      <td>88.0</td>\n",
       "      <td>18.181818</td>\n",
       "    </tr>\n",
       "  </tbody>\n",
       "</table>\n",
       "</div>"
      ],
      "text/plain": [
       "   channel  spend_AED month_year  num_paying_user  month_cac  marginal_spend  \\\n",
       "25    bing        300    2019-12               13  23.076923           300.0   \n",
       "0     bing        400    2019-07               25  16.000000           100.0   \n",
       "5     bing        900    2019-08               30  30.000000           500.0   \n",
       "10    bing       1000    2019-09               51  19.607843           100.0   \n",
       "15    bing       1100    2019-10               53  20.754717           100.0   \n",
       "20    bing       1300    2019-11               60  21.666667           200.0   \n",
       "30    bing       2100    2020-01               93  22.580645           800.0   \n",
       "35    bing       3700    2020-02              181  20.441989          1600.0   \n",
       "\n",
       "    marginal_num_paying_user  marginal_CAC  \n",
       "25                      13.0     23.076923  \n",
       "0                       12.0      8.333333  \n",
       "5                        5.0    100.000000  \n",
       "10                      21.0      4.761905  \n",
       "15                       2.0     50.000000  \n",
       "20                       7.0     28.571429  \n",
       "30                      33.0     24.242424  \n",
       "35                      88.0     18.181818  "
      ]
     },
     "execution_count": 33,
     "metadata": {},
     "output_type": "execute_result"
    }
   ],
   "source": [
    "bing = df_list[0]\n",
    "bing"
   ]
  },
  {
   "cell_type": "code",
   "execution_count": 34,
   "metadata": {},
   "outputs": [],
   "source": [
    "bing.to_csv('bing.csv')"
   ]
  },
  {
   "cell_type": "code",
   "execution_count": 35,
   "metadata": {},
   "outputs": [
    {
     "data": {
      "text/html": [
       "<div>\n",
       "<style scoped>\n",
       "    .dataframe tbody tr th:only-of-type {\n",
       "        vertical-align: middle;\n",
       "    }\n",
       "\n",
       "    .dataframe tbody tr th {\n",
       "        vertical-align: top;\n",
       "    }\n",
       "\n",
       "    .dataframe thead th {\n",
       "        text-align: right;\n",
       "    }\n",
       "</style>\n",
       "<table border=\"1\" class=\"dataframe\">\n",
       "  <thead>\n",
       "    <tr style=\"text-align: right;\">\n",
       "      <th></th>\n",
       "      <th>channel</th>\n",
       "      <th>spend_AED</th>\n",
       "      <th>month_year</th>\n",
       "      <th>num_paying_user</th>\n",
       "      <th>month_cac</th>\n",
       "      <th>marginal_spend</th>\n",
       "      <th>marginal_num_paying_user</th>\n",
       "      <th>marginal_CAC</th>\n",
       "    </tr>\n",
       "  </thead>\n",
       "  <tbody>\n",
       "    <tr>\n",
       "      <th>1</th>\n",
       "      <td>display</td>\n",
       "      <td>12</td>\n",
       "      <td>2019-07</td>\n",
       "      <td>7</td>\n",
       "      <td>1.714286</td>\n",
       "      <td>12.0</td>\n",
       "      <td>7.0</td>\n",
       "      <td>1.714286</td>\n",
       "    </tr>\n",
       "    <tr>\n",
       "      <th>11</th>\n",
       "      <td>display</td>\n",
       "      <td>13</td>\n",
       "      <td>2019-09</td>\n",
       "      <td>8</td>\n",
       "      <td>1.625000</td>\n",
       "      <td>1.0</td>\n",
       "      <td>1.0</td>\n",
       "      <td>1.000000</td>\n",
       "    </tr>\n",
       "    <tr>\n",
       "      <th>16</th>\n",
       "      <td>display</td>\n",
       "      <td>19</td>\n",
       "      <td>2019-10</td>\n",
       "      <td>28</td>\n",
       "      <td>0.678571</td>\n",
       "      <td>6.0</td>\n",
       "      <td>20.0</td>\n",
       "      <td>0.300000</td>\n",
       "    </tr>\n",
       "    <tr>\n",
       "      <th>6</th>\n",
       "      <td>display</td>\n",
       "      <td>20</td>\n",
       "      <td>2019-08</td>\n",
       "      <td>33</td>\n",
       "      <td>0.606061</td>\n",
       "      <td>1.0</td>\n",
       "      <td>5.0</td>\n",
       "      <td>0.200000</td>\n",
       "    </tr>\n",
       "    <tr>\n",
       "      <th>21</th>\n",
       "      <td>display</td>\n",
       "      <td>29</td>\n",
       "      <td>2019-11</td>\n",
       "      <td>65</td>\n",
       "      <td>0.446154</td>\n",
       "      <td>9.0</td>\n",
       "      <td>32.0</td>\n",
       "      <td>0.281250</td>\n",
       "    </tr>\n",
       "    <tr>\n",
       "      <th>26</th>\n",
       "      <td>display</td>\n",
       "      <td>31</td>\n",
       "      <td>2019-12</td>\n",
       "      <td>65</td>\n",
       "      <td>0.476923</td>\n",
       "      <td>2.0</td>\n",
       "      <td>0.0</td>\n",
       "      <td>inf</td>\n",
       "    </tr>\n",
       "    <tr>\n",
       "      <th>36</th>\n",
       "      <td>display</td>\n",
       "      <td>94</td>\n",
       "      <td>2020-02</td>\n",
       "      <td>189</td>\n",
       "      <td>0.497354</td>\n",
       "      <td>63.0</td>\n",
       "      <td>124.0</td>\n",
       "      <td>0.508065</td>\n",
       "    </tr>\n",
       "    <tr>\n",
       "      <th>31</th>\n",
       "      <td>display</td>\n",
       "      <td>148</td>\n",
       "      <td>2020-01</td>\n",
       "      <td>326</td>\n",
       "      <td>0.453988</td>\n",
       "      <td>54.0</td>\n",
       "      <td>137.0</td>\n",
       "      <td>0.394161</td>\n",
       "    </tr>\n",
       "  </tbody>\n",
       "</table>\n",
       "</div>"
      ],
      "text/plain": [
       "    channel  spend_AED month_year  num_paying_user  month_cac  marginal_spend  \\\n",
       "1   display         12    2019-07                7   1.714286            12.0   \n",
       "11  display         13    2019-09                8   1.625000             1.0   \n",
       "16  display         19    2019-10               28   0.678571             6.0   \n",
       "6   display         20    2019-08               33   0.606061             1.0   \n",
       "21  display         29    2019-11               65   0.446154             9.0   \n",
       "26  display         31    2019-12               65   0.476923             2.0   \n",
       "36  display         94    2020-02              189   0.497354            63.0   \n",
       "31  display        148    2020-01              326   0.453988            54.0   \n",
       "\n",
       "    marginal_num_paying_user  marginal_CAC  \n",
       "1                        7.0      1.714286  \n",
       "11                       1.0      1.000000  \n",
       "16                      20.0      0.300000  \n",
       "6                        5.0      0.200000  \n",
       "21                      32.0      0.281250  \n",
       "26                       0.0           inf  \n",
       "36                     124.0      0.508065  \n",
       "31                     137.0      0.394161  "
      ]
     },
     "execution_count": 35,
     "metadata": {},
     "output_type": "execute_result"
    }
   ],
   "source": [
    "display = df_list[1]\n",
    "display"
   ]
  },
  {
   "cell_type": "code",
   "execution_count": 36,
   "metadata": {},
   "outputs": [],
   "source": [
    "display.to_csv('display.csv')"
   ]
  },
  {
   "cell_type": "code",
   "execution_count": 37,
   "metadata": {},
   "outputs": [
    {
     "data": {
      "text/html": [
       "<div>\n",
       "<style scoped>\n",
       "    .dataframe tbody tr th:only-of-type {\n",
       "        vertical-align: middle;\n",
       "    }\n",
       "\n",
       "    .dataframe tbody tr th {\n",
       "        vertical-align: top;\n",
       "    }\n",
       "\n",
       "    .dataframe thead th {\n",
       "        text-align: right;\n",
       "    }\n",
       "</style>\n",
       "<table border=\"1\" class=\"dataframe\">\n",
       "  <thead>\n",
       "    <tr style=\"text-align: right;\">\n",
       "      <th></th>\n",
       "      <th>channel</th>\n",
       "      <th>spend_AED</th>\n",
       "      <th>month_year</th>\n",
       "      <th>num_paying_user</th>\n",
       "      <th>month_cac</th>\n",
       "      <th>marginal_spend</th>\n",
       "      <th>marginal_num_paying_user</th>\n",
       "      <th>marginal_CAC</th>\n",
       "    </tr>\n",
       "  </thead>\n",
       "  <tbody>\n",
       "    <tr>\n",
       "      <th>2</th>\n",
       "      <td>facebook</td>\n",
       "      <td>9000</td>\n",
       "      <td>2019-07</td>\n",
       "      <td>2058</td>\n",
       "      <td>4.373178</td>\n",
       "      <td>9000.0</td>\n",
       "      <td>2058.0</td>\n",
       "      <td>4.373178</td>\n",
       "    </tr>\n",
       "    <tr>\n",
       "      <th>12</th>\n",
       "      <td>facebook</td>\n",
       "      <td>10500</td>\n",
       "      <td>2019-09</td>\n",
       "      <td>3754</td>\n",
       "      <td>2.797017</td>\n",
       "      <td>1500.0</td>\n",
       "      <td>1696.0</td>\n",
       "      <td>0.884434</td>\n",
       "    </tr>\n",
       "    <tr>\n",
       "      <th>32</th>\n",
       "      <td>facebook</td>\n",
       "      <td>11000</td>\n",
       "      <td>2020-01</td>\n",
       "      <td>4103</td>\n",
       "      <td>2.680965</td>\n",
       "      <td>500.0</td>\n",
       "      <td>349.0</td>\n",
       "      <td>1.432665</td>\n",
       "    </tr>\n",
       "    <tr>\n",
       "      <th>7</th>\n",
       "      <td>facebook</td>\n",
       "      <td>13000</td>\n",
       "      <td>2019-08</td>\n",
       "      <td>4857</td>\n",
       "      <td>2.676549</td>\n",
       "      <td>2000.0</td>\n",
       "      <td>754.0</td>\n",
       "      <td>2.652520</td>\n",
       "    </tr>\n",
       "    <tr>\n",
       "      <th>37</th>\n",
       "      <td>facebook</td>\n",
       "      <td>14000</td>\n",
       "      <td>2020-02</td>\n",
       "      <td>4902</td>\n",
       "      <td>2.855977</td>\n",
       "      <td>1000.0</td>\n",
       "      <td>45.0</td>\n",
       "      <td>22.222222</td>\n",
       "    </tr>\n",
       "    <tr>\n",
       "      <th>27</th>\n",
       "      <td>facebook</td>\n",
       "      <td>16000</td>\n",
       "      <td>2019-12</td>\n",
       "      <td>6035</td>\n",
       "      <td>2.651201</td>\n",
       "      <td>2000.0</td>\n",
       "      <td>1133.0</td>\n",
       "      <td>1.765225</td>\n",
       "    </tr>\n",
       "    <tr>\n",
       "      <th>17</th>\n",
       "      <td>facebook</td>\n",
       "      <td>17000</td>\n",
       "      <td>2019-10</td>\n",
       "      <td>6311</td>\n",
       "      <td>2.693709</td>\n",
       "      <td>1000.0</td>\n",
       "      <td>276.0</td>\n",
       "      <td>3.623188</td>\n",
       "    </tr>\n",
       "    <tr>\n",
       "      <th>22</th>\n",
       "      <td>facebook</td>\n",
       "      <td>23000</td>\n",
       "      <td>2019-11</td>\n",
       "      <td>8497</td>\n",
       "      <td>2.706838</td>\n",
       "      <td>6000.0</td>\n",
       "      <td>2186.0</td>\n",
       "      <td>2.744739</td>\n",
       "    </tr>\n",
       "  </tbody>\n",
       "</table>\n",
       "</div>"
      ],
      "text/plain": [
       "     channel  spend_AED month_year  num_paying_user  month_cac  \\\n",
       "2   facebook       9000    2019-07             2058   4.373178   \n",
       "12  facebook      10500    2019-09             3754   2.797017   \n",
       "32  facebook      11000    2020-01             4103   2.680965   \n",
       "7   facebook      13000    2019-08             4857   2.676549   \n",
       "37  facebook      14000    2020-02             4902   2.855977   \n",
       "27  facebook      16000    2019-12             6035   2.651201   \n",
       "17  facebook      17000    2019-10             6311   2.693709   \n",
       "22  facebook      23000    2019-11             8497   2.706838   \n",
       "\n",
       "    marginal_spend  marginal_num_paying_user  marginal_CAC  \n",
       "2           9000.0                    2058.0      4.373178  \n",
       "12          1500.0                    1696.0      0.884434  \n",
       "32           500.0                     349.0      1.432665  \n",
       "7           2000.0                     754.0      2.652520  \n",
       "37          1000.0                      45.0     22.222222  \n",
       "27          2000.0                    1133.0      1.765225  \n",
       "17          1000.0                     276.0      3.623188  \n",
       "22          6000.0                    2186.0      2.744739  "
      ]
     },
     "execution_count": 37,
     "metadata": {},
     "output_type": "execute_result"
    }
   ],
   "source": [
    "facebook = df_list[2]\n",
    "facebook"
   ]
  },
  {
   "cell_type": "code",
   "execution_count": 38,
   "metadata": {},
   "outputs": [],
   "source": [
    "facebook.to_csv('facebook.csv')"
   ]
  },
  {
   "cell_type": "code",
   "execution_count": 39,
   "metadata": {},
   "outputs": [
    {
     "data": {
      "text/html": [
       "<div>\n",
       "<style scoped>\n",
       "    .dataframe tbody tr th:only-of-type {\n",
       "        vertical-align: middle;\n",
       "    }\n",
       "\n",
       "    .dataframe tbody tr th {\n",
       "        vertical-align: top;\n",
       "    }\n",
       "\n",
       "    .dataframe thead th {\n",
       "        text-align: right;\n",
       "    }\n",
       "</style>\n",
       "<table border=\"1\" class=\"dataframe\">\n",
       "  <thead>\n",
       "    <tr style=\"text-align: right;\">\n",
       "      <th></th>\n",
       "      <th>channel</th>\n",
       "      <th>spend_AED</th>\n",
       "      <th>month_year</th>\n",
       "      <th>num_paying_user</th>\n",
       "      <th>month_cac</th>\n",
       "      <th>marginal_spend</th>\n",
       "      <th>marginal_num_paying_user</th>\n",
       "      <th>marginal_CAC</th>\n",
       "    </tr>\n",
       "  </thead>\n",
       "  <tbody>\n",
       "    <tr>\n",
       "      <th>3</th>\n",
       "      <td>search</td>\n",
       "      <td>13000</td>\n",
       "      <td>2019-07</td>\n",
       "      <td>457</td>\n",
       "      <td>28.446389</td>\n",
       "      <td>13000.0</td>\n",
       "      <td>457.0</td>\n",
       "      <td>28.446389</td>\n",
       "    </tr>\n",
       "    <tr>\n",
       "      <th>8</th>\n",
       "      <td>search</td>\n",
       "      <td>18500</td>\n",
       "      <td>2019-08</td>\n",
       "      <td>1179</td>\n",
       "      <td>15.691264</td>\n",
       "      <td>5500.0</td>\n",
       "      <td>722.0</td>\n",
       "      <td>7.617729</td>\n",
       "    </tr>\n",
       "    <tr>\n",
       "      <th>13</th>\n",
       "      <td>search</td>\n",
       "      <td>19000</td>\n",
       "      <td>2019-09</td>\n",
       "      <td>1309</td>\n",
       "      <td>14.514897</td>\n",
       "      <td>500.0</td>\n",
       "      <td>130.0</td>\n",
       "      <td>3.846154</td>\n",
       "    </tr>\n",
       "    <tr>\n",
       "      <th>18</th>\n",
       "      <td>search</td>\n",
       "      <td>24000</td>\n",
       "      <td>2019-10</td>\n",
       "      <td>1684</td>\n",
       "      <td>14.251781</td>\n",
       "      <td>5000.0</td>\n",
       "      <td>375.0</td>\n",
       "      <td>13.333333</td>\n",
       "    </tr>\n",
       "    <tr>\n",
       "      <th>23</th>\n",
       "      <td>search</td>\n",
       "      <td>25000</td>\n",
       "      <td>2019-11</td>\n",
       "      <td>1866</td>\n",
       "      <td>13.397642</td>\n",
       "      <td>1000.0</td>\n",
       "      <td>182.0</td>\n",
       "      <td>5.494505</td>\n",
       "    </tr>\n",
       "    <tr>\n",
       "      <th>28</th>\n",
       "      <td>search</td>\n",
       "      <td>38000</td>\n",
       "      <td>2019-12</td>\n",
       "      <td>2701</td>\n",
       "      <td>14.068863</td>\n",
       "      <td>13000.0</td>\n",
       "      <td>835.0</td>\n",
       "      <td>15.568862</td>\n",
       "    </tr>\n",
       "    <tr>\n",
       "      <th>33</th>\n",
       "      <td>search</td>\n",
       "      <td>41000</td>\n",
       "      <td>2020-01</td>\n",
       "      <td>2862</td>\n",
       "      <td>14.325646</td>\n",
       "      <td>3000.0</td>\n",
       "      <td>161.0</td>\n",
       "      <td>18.633540</td>\n",
       "    </tr>\n",
       "    <tr>\n",
       "      <th>38</th>\n",
       "      <td>search</td>\n",
       "      <td>44000</td>\n",
       "      <td>2020-02</td>\n",
       "      <td>2959</td>\n",
       "      <td>14.869888</td>\n",
       "      <td>3000.0</td>\n",
       "      <td>97.0</td>\n",
       "      <td>30.927835</td>\n",
       "    </tr>\n",
       "  </tbody>\n",
       "</table>\n",
       "</div>"
      ],
      "text/plain": [
       "   channel  spend_AED month_year  num_paying_user  month_cac  marginal_spend  \\\n",
       "3   search      13000    2019-07              457  28.446389         13000.0   \n",
       "8   search      18500    2019-08             1179  15.691264          5500.0   \n",
       "13  search      19000    2019-09             1309  14.514897           500.0   \n",
       "18  search      24000    2019-10             1684  14.251781          5000.0   \n",
       "23  search      25000    2019-11             1866  13.397642          1000.0   \n",
       "28  search      38000    2019-12             2701  14.068863         13000.0   \n",
       "33  search      41000    2020-01             2862  14.325646          3000.0   \n",
       "38  search      44000    2020-02             2959  14.869888          3000.0   \n",
       "\n",
       "    marginal_num_paying_user  marginal_CAC  \n",
       "3                      457.0     28.446389  \n",
       "8                      722.0      7.617729  \n",
       "13                     130.0      3.846154  \n",
       "18                     375.0     13.333333  \n",
       "23                     182.0      5.494505  \n",
       "28                     835.0     15.568862  \n",
       "33                     161.0     18.633540  \n",
       "38                      97.0     30.927835  "
      ]
     },
     "execution_count": 39,
     "metadata": {},
     "output_type": "execute_result"
    }
   ],
   "source": [
    "search = df_list[3]\n",
    "search"
   ]
  },
  {
   "cell_type": "code",
   "execution_count": 40,
   "metadata": {},
   "outputs": [],
   "source": [
    "search.to_csv('search.csv')"
   ]
  },
  {
   "cell_type": "code",
   "execution_count": 41,
   "metadata": {},
   "outputs": [
    {
     "data": {
      "text/html": [
       "<div>\n",
       "<style scoped>\n",
       "    .dataframe tbody tr th:only-of-type {\n",
       "        vertical-align: middle;\n",
       "    }\n",
       "\n",
       "    .dataframe tbody tr th {\n",
       "        vertical-align: top;\n",
       "    }\n",
       "\n",
       "    .dataframe thead th {\n",
       "        text-align: right;\n",
       "    }\n",
       "</style>\n",
       "<table border=\"1\" class=\"dataframe\">\n",
       "  <thead>\n",
       "    <tr style=\"text-align: right;\">\n",
       "      <th></th>\n",
       "      <th>channel</th>\n",
       "      <th>spend_AED</th>\n",
       "      <th>month_year</th>\n",
       "      <th>num_paying_user</th>\n",
       "      <th>month_cac</th>\n",
       "      <th>marginal_spend</th>\n",
       "      <th>marginal_num_paying_user</th>\n",
       "      <th>marginal_CAC</th>\n",
       "    </tr>\n",
       "  </thead>\n",
       "  <tbody>\n",
       "    <tr>\n",
       "      <th>4</th>\n",
       "      <td>youtube</td>\n",
       "      <td>90</td>\n",
       "      <td>2019-07</td>\n",
       "      <td>1</td>\n",
       "      <td>90.000000</td>\n",
       "      <td>90.0</td>\n",
       "      <td>1.0</td>\n",
       "      <td>90.000000</td>\n",
       "    </tr>\n",
       "    <tr>\n",
       "      <th>14</th>\n",
       "      <td>youtube</td>\n",
       "      <td>100</td>\n",
       "      <td>2019-09</td>\n",
       "      <td>1</td>\n",
       "      <td>100.000000</td>\n",
       "      <td>10.0</td>\n",
       "      <td>0.0</td>\n",
       "      <td>inf</td>\n",
       "    </tr>\n",
       "    <tr>\n",
       "      <th>19</th>\n",
       "      <td>youtube</td>\n",
       "      <td>130</td>\n",
       "      <td>2019-10</td>\n",
       "      <td>7</td>\n",
       "      <td>18.571429</td>\n",
       "      <td>30.0</td>\n",
       "      <td>6.0</td>\n",
       "      <td>5.000000</td>\n",
       "    </tr>\n",
       "    <tr>\n",
       "      <th>9</th>\n",
       "      <td>youtube</td>\n",
       "      <td>180</td>\n",
       "      <td>2019-08</td>\n",
       "      <td>11</td>\n",
       "      <td>16.363636</td>\n",
       "      <td>50.0</td>\n",
       "      <td>4.0</td>\n",
       "      <td>12.500000</td>\n",
       "    </tr>\n",
       "    <tr>\n",
       "      <th>24</th>\n",
       "      <td>youtube</td>\n",
       "      <td>550</td>\n",
       "      <td>2019-11</td>\n",
       "      <td>36</td>\n",
       "      <td>15.277778</td>\n",
       "      <td>370.0</td>\n",
       "      <td>25.0</td>\n",
       "      <td>14.800000</td>\n",
       "    </tr>\n",
       "    <tr>\n",
       "      <th>29</th>\n",
       "      <td>youtube</td>\n",
       "      <td>900</td>\n",
       "      <td>2019-12</td>\n",
       "      <td>56</td>\n",
       "      <td>16.071429</td>\n",
       "      <td>350.0</td>\n",
       "      <td>20.0</td>\n",
       "      <td>17.500000</td>\n",
       "    </tr>\n",
       "    <tr>\n",
       "      <th>39</th>\n",
       "      <td>youtube</td>\n",
       "      <td>2420</td>\n",
       "      <td>2020-02</td>\n",
       "      <td>159</td>\n",
       "      <td>15.220126</td>\n",
       "      <td>1520.0</td>\n",
       "      <td>103.0</td>\n",
       "      <td>14.757282</td>\n",
       "    </tr>\n",
       "    <tr>\n",
       "      <th>34</th>\n",
       "      <td>youtube</td>\n",
       "      <td>4360</td>\n",
       "      <td>2020-01</td>\n",
       "      <td>312</td>\n",
       "      <td>13.974359</td>\n",
       "      <td>1940.0</td>\n",
       "      <td>153.0</td>\n",
       "      <td>12.679739</td>\n",
       "    </tr>\n",
       "  </tbody>\n",
       "</table>\n",
       "</div>"
      ],
      "text/plain": [
       "    channel  spend_AED month_year  num_paying_user   month_cac  \\\n",
       "4   youtube         90    2019-07                1   90.000000   \n",
       "14  youtube        100    2019-09                1  100.000000   \n",
       "19  youtube        130    2019-10                7   18.571429   \n",
       "9   youtube        180    2019-08               11   16.363636   \n",
       "24  youtube        550    2019-11               36   15.277778   \n",
       "29  youtube        900    2019-12               56   16.071429   \n",
       "39  youtube       2420    2020-02              159   15.220126   \n",
       "34  youtube       4360    2020-01              312   13.974359   \n",
       "\n",
       "    marginal_spend  marginal_num_paying_user  marginal_CAC  \n",
       "4             90.0                       1.0     90.000000  \n",
       "14            10.0                       0.0           inf  \n",
       "19            30.0                       6.0      5.000000  \n",
       "9             50.0                       4.0     12.500000  \n",
       "24           370.0                      25.0     14.800000  \n",
       "29           350.0                      20.0     17.500000  \n",
       "39          1520.0                     103.0     14.757282  \n",
       "34          1940.0                     153.0     12.679739  "
      ]
     },
     "execution_count": 41,
     "metadata": {},
     "output_type": "execute_result"
    }
   ],
   "source": [
    "youtube = df_list[4]\n",
    "youtube"
   ]
  },
  {
   "cell_type": "code",
   "execution_count": 42,
   "metadata": {},
   "outputs": [],
   "source": [
    "youtube.to_csv('youtube.csv')"
   ]
  },
  {
   "cell_type": "markdown",
   "metadata": {},
   "source": [
    "# Channel marketing optimazition\n",
    "- Assuming the total budget is 50,000 AED, and we can not spend more than the channel's highest historical month cost, how to spend it to get the most paying users?"
   ]
  },
  {
   "cell_type": "markdown",
   "metadata": {},
   "source": [
    "# 50,000 AED\n",
    "\n",
    "- 148 AED on display: get 326 users\n",
    "- 23,000 AED on facebook, get 8497 users\n",
    "- 400 AED on bing, get 25 users,\n",
    "- the rest 26452 on search get 1866 + expect(11452/15.57) = 2601 users\n",
    "\n",
    "- total users = 11449\n",
    "\n",
    "- comparision: spend 148 on display, 23,000 on facebook, the rest 26852 on search:\n",
    "- expect users = 326+8497+26852/14.07 = 10731\n",
    "\n",
    "conversion lift = (11449-10731)/10731 = 6.7%\n",
    "CAC = ( 50000/11449 - 50000/10731 ) -1 = - 1.29%"
   ]
  }
 ],
 "metadata": {
  "kernelspec": {
   "display_name": "Python 3",
   "language": "python",
   "name": "python3"
  },
  "language_info": {
   "codemirror_mode": {
    "name": "ipython",
    "version": 3
   },
   "file_extension": ".py",
   "mimetype": "text/x-python",
   "name": "python",
   "nbconvert_exporter": "python",
   "pygments_lexer": "ipython3",
   "version": "3.8.3"
  }
 },
 "nbformat": 4,
 "nbformat_minor": 4
}
