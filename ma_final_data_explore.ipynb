{
 "cells": [
  {
   "cell_type": "code",
   "execution_count": 1,
   "metadata": {},
   "outputs": [],
   "source": [
    "import pandas as pd\n",
    "import numpy as np\n",
    "from matplotlib import pyplot as plt"
   ]
  },
  {
   "cell_type": "code",
   "execution_count": 2,
   "metadata": {},
   "outputs": [],
   "source": [
    "df_d = pd.read_csv('subscribers.csv')"
   ]
  },
  {
   "cell_type": "code",
   "execution_count": 3,
   "metadata": {},
   "outputs": [
    {
     "data": {
      "text/plain": [
       "(227628, 31)"
      ]
     },
     "execution_count": 3,
     "metadata": {},
     "output_type": "execute_result"
    }
   ],
   "source": [
    "df_d.shape"
   ]
  },
  {
   "cell_type": "code",
   "execution_count": 4,
   "metadata": {},
   "outputs": [
    {
     "name": "stdout",
     "output_type": "stream",
     "text": [
      "<class 'pandas.core.frame.DataFrame'>\n",
      "RangeIndex: 227628 entries, 0 to 227627\n",
      "Data columns (total 31 columns):\n",
      " #   Column                        Non-Null Count   Dtype  \n",
      "---  ------                        --------------   -----  \n",
      " 0   Unnamed: 0                    227628 non-null  int64  \n",
      " 1   subid                         227628 non-null  int64  \n",
      " 2   package_type                  192054 non-null  object \n",
      " 3   num_weekly_services_utilized  117178 non-null  float64\n",
      " 4   preferred_genre               191302 non-null  object \n",
      " 5   intended_use                  224079 non-null  object \n",
      " 6   weekly_consumption_hour       189698 non-null  float64\n",
      " 7   num_ideal_streaming_services  115458 non-null  float64\n",
      " 8   age                           192459 non-null  float64\n",
      " 9   male_TF                       227359 non-null  object \n",
      " 10  country                       227628 non-null  object \n",
      " 11  attribution_technical         227628 non-null  object \n",
      " 12  attribution_survey            224984 non-null  object \n",
      " 13  op_sys                        214253 non-null  object \n",
      " 14  months_per_bill_period        227628 non-null  int64  \n",
      " 15  plan_type                     227628 non-null  object \n",
      " 16  monthly_price                 227628 non-null  float64\n",
      " 17  discount_price                227628 non-null  float64\n",
      " 18  account_creation_date         227628 non-null  object \n",
      " 19  trial_end_date                227628 non-null  object \n",
      " 20  initial_credit_card_declined  227628 non-null  bool   \n",
      " 21  join_fee                      192724 non-null  float64\n",
      " 22  language                      227628 non-null  object \n",
      " 23  payment_type                  92050 non-null   object \n",
      " 24  num_trial_days                227628 non-null  int64  \n",
      " 25  current_sub_TF                227628 non-null  bool   \n",
      " 26  payment_period                227628 non-null  int64  \n",
      " 27  last_payment                  132237 non-null  object \n",
      " 28  next_payment                  130250 non-null  object \n",
      " 29  cancel_date                   36831 non-null   object \n",
      " 30  trial_completed               227628 non-null  bool   \n",
      "dtypes: bool(3), float64(7), int64(5), object(16)\n",
      "memory usage: 49.3+ MB\n"
     ]
    }
   ],
   "source": [
    "df_d.info()"
   ]
  },
  {
   "cell_type": "code",
   "execution_count": 5,
   "metadata": {},
   "outputs": [],
   "source": [
    "# remove the 'Unnamed: 0' column\n",
    "df_d.drop(columns = 'Unnamed: 0', inplace = True)"
   ]
  },
  {
   "cell_type": "code",
   "execution_count": 7,
   "metadata": {},
   "outputs": [
    {
     "data": {
      "text/plain": [
       "count    227628.0\n",
       "mean          4.0\n",
       "std           0.0\n",
       "min           4.0\n",
       "25%           4.0\n",
       "50%           4.0\n",
       "75%           4.0\n",
       "max           4.0\n",
       "Name: months_per_bill_period, dtype: float64"
      ]
     },
     "execution_count": 7,
     "metadata": {},
     "output_type": "execute_result"
    }
   ],
   "source": [
    "# 4-month contracts\n",
    "df_d.months_per_bill_period.describe()\n",
    "# same value： 4"
   ]
  },
  {
   "cell_type": "code",
   "execution_count": 8,
   "metadata": {},
   "outputs": [
    {
     "data": {
      "text/plain": [
       "<bound method Series.unique of 0         21724479\n",
       "1         23383224\n",
       "2         26844789\n",
       "3         29417030\n",
       "4         26723159\n",
       "            ...   \n",
       "227623    21434712\n",
       "227624    25843074\n",
       "227625    24799085\n",
       "227626    21308040\n",
       "227627    20166335\n",
       "Name: subid, Length: 227628, dtype: int64>"
      ]
     },
     "execution_count": 8,
     "metadata": {},
     "output_type": "execute_result"
    }
   ],
   "source": [
    "# check unique subid\n",
    "df_d.subid.unique"
   ]
  },
  {
   "cell_type": "code",
   "execution_count": 9,
   "metadata": {},
   "outputs": [],
   "source": [
    "def convert_to_datetime(df, columns):\n",
    "    for i in columns:\n",
    "        df[i] = pd.to_datetime(df[i])\n",
    "    return df\n",
    "date_columns = ['account_creation_date', 'trial_end_date', 'cancel_date','last_payment','next_payment']"
   ]
  },
  {
   "cell_type": "code",
   "execution_count": 10,
   "metadata": {},
   "outputs": [],
   "source": [
    "df_n =convert_to_datetime(df_d, date_columns)"
   ]
  },
  {
   "cell_type": "code",
   "execution_count": 11,
   "metadata": {},
   "outputs": [],
   "source": [
    "df_n['num_end_create'] = df_n['trial_end_date'].subtract(df_n['account_creation_date'])"
   ]
  },
  {
   "cell_type": "code",
   "execution_count": 12,
   "metadata": {},
   "outputs": [
    {
     "data": {
      "text/plain": [
       "0"
      ]
     },
     "execution_count": 12,
     "metadata": {},
     "output_type": "execute_result"
    }
   ],
   "source": [
    "# confirm num_trial_days = difference of trial_end_date-account_creation_date\n",
    "sum(df_n['num_end_create'].dt.days != df_n['num_trial_days'])"
   ]
  },
  {
   "cell_type": "code",
   "execution_count": 13,
   "metadata": {},
   "outputs": [
    {
     "data": {
      "text/html": [
       "<div>\n",
       "<style scoped>\n",
       "    .dataframe tbody tr th:only-of-type {\n",
       "        vertical-align: middle;\n",
       "    }\n",
       "\n",
       "    .dataframe tbody tr th {\n",
       "        vertical-align: top;\n",
       "    }\n",
       "\n",
       "    .dataframe thead th {\n",
       "        text-align: right;\n",
       "    }\n",
       "</style>\n",
       "<table border=\"1\" class=\"dataframe\">\n",
       "  <thead>\n",
       "    <tr style=\"text-align: right;\">\n",
       "      <th></th>\n",
       "      <th>subid</th>\n",
       "      <th>package_type</th>\n",
       "      <th>num_weekly_services_utilized</th>\n",
       "      <th>preferred_genre</th>\n",
       "      <th>intended_use</th>\n",
       "      <th>weekly_consumption_hour</th>\n",
       "      <th>num_ideal_streaming_services</th>\n",
       "      <th>age</th>\n",
       "      <th>male_TF</th>\n",
       "      <th>country</th>\n",
       "      <th>...</th>\n",
       "      <th>language</th>\n",
       "      <th>payment_type</th>\n",
       "      <th>num_trial_days</th>\n",
       "      <th>current_sub_TF</th>\n",
       "      <th>payment_period</th>\n",
       "      <th>last_payment</th>\n",
       "      <th>next_payment</th>\n",
       "      <th>cancel_date</th>\n",
       "      <th>trial_completed</th>\n",
       "      <th>num_end_create</th>\n",
       "    </tr>\n",
       "  </thead>\n",
       "  <tbody>\n",
       "    <tr>\n",
       "      <th>0</th>\n",
       "      <td>21724479</td>\n",
       "      <td>economy</td>\n",
       "      <td>NA</td>\n",
       "      <td>comedy</td>\n",
       "      <td>access to exclusive content</td>\n",
       "      <td>NA</td>\n",
       "      <td>NA</td>\n",
       "      <td>NA</td>\n",
       "      <td>False</td>\n",
       "      <td>UAE</td>\n",
       "      <td>...</td>\n",
       "      <td>ar</td>\n",
       "      <td>Standard Charter</td>\n",
       "      <td>14</td>\n",
       "      <td>True</td>\n",
       "      <td>1</td>\n",
       "      <td>2020-02-07 21:44:16</td>\n",
       "      <td>2020-06-07 21:44:16</td>\n",
       "      <td>NA</td>\n",
       "      <td>True</td>\n",
       "      <td>14 days</td>\n",
       "    </tr>\n",
       "    <tr>\n",
       "      <th>1</th>\n",
       "      <td>23383224</td>\n",
       "      <td>base</td>\n",
       "      <td>NA</td>\n",
       "      <td>comedy</td>\n",
       "      <td>access to exclusive content</td>\n",
       "      <td>22.9516</td>\n",
       "      <td>NA</td>\n",
       "      <td>70</td>\n",
       "      <td>False</td>\n",
       "      <td>UAE</td>\n",
       "      <td>...</td>\n",
       "      <td>ar</td>\n",
       "      <td>NA</td>\n",
       "      <td>14</td>\n",
       "      <td>True</td>\n",
       "      <td>1</td>\n",
       "      <td>2020-03-15 15:44:35</td>\n",
       "      <td>2020-07-15 15:44:35</td>\n",
       "      <td>NA</td>\n",
       "      <td>True</td>\n",
       "      <td>14 days</td>\n",
       "    </tr>\n",
       "    <tr>\n",
       "      <th>2</th>\n",
       "      <td>26844789</td>\n",
       "      <td>enhanced</td>\n",
       "      <td>3</td>\n",
       "      <td>regional</td>\n",
       "      <td>replace OTT</td>\n",
       "      <td>36.0012</td>\n",
       "      <td>2</td>\n",
       "      <td>25</td>\n",
       "      <td>True</td>\n",
       "      <td>UAE</td>\n",
       "      <td>...</td>\n",
       "      <td>ar</td>\n",
       "      <td>NA</td>\n",
       "      <td>14</td>\n",
       "      <td>False</td>\n",
       "      <td>0</td>\n",
       "      <td>NA</td>\n",
       "      <td>NA</td>\n",
       "      <td>NA</td>\n",
       "      <td>True</td>\n",
       "      <td>14 days</td>\n",
       "    </tr>\n",
       "    <tr>\n",
       "      <th>3</th>\n",
       "      <td>29417030</td>\n",
       "      <td>base</td>\n",
       "      <td>NA</td>\n",
       "      <td>drama</td>\n",
       "      <td>replace OTT</td>\n",
       "      <td>20.0517</td>\n",
       "      <td>NA</td>\n",
       "      <td>30</td>\n",
       "      <td>False</td>\n",
       "      <td>UAE</td>\n",
       "      <td>...</td>\n",
       "      <td>ar</td>\n",
       "      <td>NA</td>\n",
       "      <td>14</td>\n",
       "      <td>False</td>\n",
       "      <td>0</td>\n",
       "      <td>NA</td>\n",
       "      <td>NA</td>\n",
       "      <td>NA</td>\n",
       "      <td>True</td>\n",
       "      <td>14 days</td>\n",
       "    </tr>\n",
       "    <tr>\n",
       "      <th>4</th>\n",
       "      <td>26723159</td>\n",
       "      <td>base</td>\n",
       "      <td>4</td>\n",
       "      <td>comedy</td>\n",
       "      <td>replace OTT</td>\n",
       "      <td>22.9516</td>\n",
       "      <td>3</td>\n",
       "      <td>28</td>\n",
       "      <td>False</td>\n",
       "      <td>UAE</td>\n",
       "      <td>...</td>\n",
       "      <td>ar</td>\n",
       "      <td>NA</td>\n",
       "      <td>14</td>\n",
       "      <td>True</td>\n",
       "      <td>2</td>\n",
       "      <td>2020-02-19 12:57:07</td>\n",
       "      <td>2020-06-19 12:57:07</td>\n",
       "      <td>NA</td>\n",
       "      <td>True</td>\n",
       "      <td>14 days</td>\n",
       "    </tr>\n",
       "    <tr>\n",
       "      <th>...</th>\n",
       "      <td>...</td>\n",
       "      <td>...</td>\n",
       "      <td>...</td>\n",
       "      <td>...</td>\n",
       "      <td>...</td>\n",
       "      <td>...</td>\n",
       "      <td>...</td>\n",
       "      <td>...</td>\n",
       "      <td>...</td>\n",
       "      <td>...</td>\n",
       "      <td>...</td>\n",
       "      <td>...</td>\n",
       "      <td>...</td>\n",
       "      <td>...</td>\n",
       "      <td>...</td>\n",
       "      <td>...</td>\n",
       "      <td>...</td>\n",
       "      <td>...</td>\n",
       "      <td>...</td>\n",
       "      <td>...</td>\n",
       "      <td>...</td>\n",
       "    </tr>\n",
       "    <tr>\n",
       "      <th>227623</th>\n",
       "      <td>21434712</td>\n",
       "      <td>enhanced</td>\n",
       "      <td>3</td>\n",
       "      <td>comedy</td>\n",
       "      <td>supplement OTT</td>\n",
       "      <td>28.7514</td>\n",
       "      <td>2</td>\n",
       "      <td>38</td>\n",
       "      <td>False</td>\n",
       "      <td>UAE</td>\n",
       "      <td>...</td>\n",
       "      <td>ar</td>\n",
       "      <td>NA</td>\n",
       "      <td>14</td>\n",
       "      <td>True</td>\n",
       "      <td>1</td>\n",
       "      <td>2019-12-01 14:12:33</td>\n",
       "      <td>2020-04-01 14:12:33</td>\n",
       "      <td>NA</td>\n",
       "      <td>True</td>\n",
       "      <td>14 days</td>\n",
       "    </tr>\n",
       "    <tr>\n",
       "      <th>227624</th>\n",
       "      <td>25843074</td>\n",
       "      <td>enhanced</td>\n",
       "      <td>2</td>\n",
       "      <td>comedy</td>\n",
       "      <td>replace OTT</td>\n",
       "      <td>27.3014</td>\n",
       "      <td>2</td>\n",
       "      <td>49</td>\n",
       "      <td>False</td>\n",
       "      <td>UAE</td>\n",
       "      <td>...</td>\n",
       "      <td>ar</td>\n",
       "      <td>Paypal</td>\n",
       "      <td>14</td>\n",
       "      <td>True</td>\n",
       "      <td>1</td>\n",
       "      <td>2019-12-20 18:02:13</td>\n",
       "      <td>2020-04-20 18:02:13</td>\n",
       "      <td>NA</td>\n",
       "      <td>True</td>\n",
       "      <td>14 days</td>\n",
       "    </tr>\n",
       "    <tr>\n",
       "      <th>227625</th>\n",
       "      <td>24799085</td>\n",
       "      <td>base</td>\n",
       "      <td>NA</td>\n",
       "      <td>comedy</td>\n",
       "      <td>access to exclusive content</td>\n",
       "      <td>31.6513</td>\n",
       "      <td>NA</td>\n",
       "      <td>45</td>\n",
       "      <td>False</td>\n",
       "      <td>UAE</td>\n",
       "      <td>...</td>\n",
       "      <td>ar</td>\n",
       "      <td>NA</td>\n",
       "      <td>14</td>\n",
       "      <td>True</td>\n",
       "      <td>1</td>\n",
       "      <td>2020-01-04 19:40:44</td>\n",
       "      <td>2020-05-04 19:40:44</td>\n",
       "      <td>NA</td>\n",
       "      <td>True</td>\n",
       "      <td>14 days</td>\n",
       "    </tr>\n",
       "    <tr>\n",
       "      <th>227626</th>\n",
       "      <td>21308040</td>\n",
       "      <td>base</td>\n",
       "      <td>NA</td>\n",
       "      <td>comedy</td>\n",
       "      <td>access to exclusive content</td>\n",
       "      <td>NA</td>\n",
       "      <td>NA</td>\n",
       "      <td>NA</td>\n",
       "      <td>False</td>\n",
       "      <td>UAE</td>\n",
       "      <td>...</td>\n",
       "      <td>ar</td>\n",
       "      <td>Paypal</td>\n",
       "      <td>14</td>\n",
       "      <td>True</td>\n",
       "      <td>1</td>\n",
       "      <td>2020-01-31 23:58:51</td>\n",
       "      <td>2020-05-31 23:58:51</td>\n",
       "      <td>NA</td>\n",
       "      <td>True</td>\n",
       "      <td>14 days</td>\n",
       "    </tr>\n",
       "    <tr>\n",
       "      <th>227627</th>\n",
       "      <td>20166335</td>\n",
       "      <td>base</td>\n",
       "      <td>NA</td>\n",
       "      <td>comedy</td>\n",
       "      <td>replace OTT</td>\n",
       "      <td>25.8515</td>\n",
       "      <td>NA</td>\n",
       "      <td>55</td>\n",
       "      <td>False</td>\n",
       "      <td>UAE</td>\n",
       "      <td>...</td>\n",
       "      <td>ar</td>\n",
       "      <td>NA</td>\n",
       "      <td>14</td>\n",
       "      <td>False</td>\n",
       "      <td>0</td>\n",
       "      <td>NA</td>\n",
       "      <td>NA</td>\n",
       "      <td>2019-12-09 00:00:00</td>\n",
       "      <td>False</td>\n",
       "      <td>14 days</td>\n",
       "    </tr>\n",
       "  </tbody>\n",
       "</table>\n",
       "<p>227628 rows × 31 columns</p>\n",
       "</div>"
      ],
      "text/plain": [
       "           subid package_type num_weekly_services_utilized preferred_genre  \\\n",
       "0       21724479      economy                           NA          comedy   \n",
       "1       23383224         base                           NA          comedy   \n",
       "2       26844789     enhanced                            3        regional   \n",
       "3       29417030         base                           NA           drama   \n",
       "4       26723159         base                            4          comedy   \n",
       "...          ...          ...                          ...             ...   \n",
       "227623  21434712     enhanced                            3          comedy   \n",
       "227624  25843074     enhanced                            2          comedy   \n",
       "227625  24799085         base                           NA          comedy   \n",
       "227626  21308040         base                           NA          comedy   \n",
       "227627  20166335         base                           NA          comedy   \n",
       "\n",
       "                       intended_use weekly_consumption_hour  \\\n",
       "0       access to exclusive content                      NA   \n",
       "1       access to exclusive content                 22.9516   \n",
       "2                       replace OTT                 36.0012   \n",
       "3                       replace OTT                 20.0517   \n",
       "4                       replace OTT                 22.9516   \n",
       "...                             ...                     ...   \n",
       "227623               supplement OTT                 28.7514   \n",
       "227624                  replace OTT                 27.3014   \n",
       "227625  access to exclusive content                 31.6513   \n",
       "227626  access to exclusive content                      NA   \n",
       "227627                  replace OTT                 25.8515   \n",
       "\n",
       "       num_ideal_streaming_services age male_TF country  ... language  \\\n",
       "0                                NA  NA   False     UAE  ...       ar   \n",
       "1                                NA  70   False     UAE  ...       ar   \n",
       "2                                 2  25    True     UAE  ...       ar   \n",
       "3                                NA  30   False     UAE  ...       ar   \n",
       "4                                 3  28   False     UAE  ...       ar   \n",
       "...                             ...  ..     ...     ...  ...      ...   \n",
       "227623                            2  38   False     UAE  ...       ar   \n",
       "227624                            2  49   False     UAE  ...       ar   \n",
       "227625                           NA  45   False     UAE  ...       ar   \n",
       "227626                           NA  NA   False     UAE  ...       ar   \n",
       "227627                           NA  55   False     UAE  ...       ar   \n",
       "\n",
       "            payment_type num_trial_days  current_sub_TF payment_period  \\\n",
       "0       Standard Charter             14            True              1   \n",
       "1                     NA             14            True              1   \n",
       "2                     NA             14           False              0   \n",
       "3                     NA             14           False              0   \n",
       "4                     NA             14            True              2   \n",
       "...                  ...            ...             ...            ...   \n",
       "227623                NA             14            True              1   \n",
       "227624            Paypal             14            True              1   \n",
       "227625                NA             14            True              1   \n",
       "227626            Paypal             14            True              1   \n",
       "227627                NA             14           False              0   \n",
       "\n",
       "               last_payment         next_payment          cancel_date  \\\n",
       "0       2020-02-07 21:44:16  2020-06-07 21:44:16                   NA   \n",
       "1       2020-03-15 15:44:35  2020-07-15 15:44:35                   NA   \n",
       "2                        NA                   NA                   NA   \n",
       "3                        NA                   NA                   NA   \n",
       "4       2020-02-19 12:57:07  2020-06-19 12:57:07                   NA   \n",
       "...                     ...                  ...                  ...   \n",
       "227623  2019-12-01 14:12:33  2020-04-01 14:12:33                   NA   \n",
       "227624  2019-12-20 18:02:13  2020-04-20 18:02:13                   NA   \n",
       "227625  2020-01-04 19:40:44  2020-05-04 19:40:44                   NA   \n",
       "227626  2020-01-31 23:58:51  2020-05-31 23:58:51                   NA   \n",
       "227627                   NA                   NA  2019-12-09 00:00:00   \n",
       "\n",
       "       trial_completed  num_end_create  \n",
       "0                 True         14 days  \n",
       "1                 True         14 days  \n",
       "2                 True         14 days  \n",
       "3                 True         14 days  \n",
       "4                 True         14 days  \n",
       "...                ...             ...  \n",
       "227623            True         14 days  \n",
       "227624            True         14 days  \n",
       "227625            True         14 days  \n",
       "227626            True         14 days  \n",
       "227627           False         14 days  \n",
       "\n",
       "[227628 rows x 31 columns]"
      ]
     },
     "execution_count": 13,
     "metadata": {},
     "output_type": "execute_result"
    }
   ],
   "source": [
    "df_n.fillna('NA')"
   ]
  },
  {
   "cell_type": "code",
   "execution_count": 18,
   "metadata": {},
   "outputs": [
    {
     "data": {
      "text/html": [
       "<div>\n",
       "<style scoped>\n",
       "    .dataframe tbody tr th:only-of-type {\n",
       "        vertical-align: middle;\n",
       "    }\n",
       "\n",
       "    .dataframe tbody tr th {\n",
       "        vertical-align: top;\n",
       "    }\n",
       "\n",
       "    .dataframe thead th {\n",
       "        text-align: right;\n",
       "    }\n",
       "</style>\n",
       "<table border=\"1\" class=\"dataframe\">\n",
       "  <thead>\n",
       "    <tr style=\"text-align: right;\">\n",
       "      <th></th>\n",
       "      <th>discount_price</th>\n",
       "      <th>discount_rate</th>\n",
       "      <th>monthly_price</th>\n",
       "      <th>num_trial_days</th>\n",
       "    </tr>\n",
       "    <tr>\n",
       "      <th>plan_type</th>\n",
       "      <th></th>\n",
       "      <th></th>\n",
       "      <th></th>\n",
       "      <th></th>\n",
       "    </tr>\n",
       "  </thead>\n",
       "  <tbody>\n",
       "    <tr>\n",
       "      <th>base_eur_14_day_trial</th>\n",
       "      <td>4.2205</td>\n",
       "      <td>0.049587</td>\n",
       "      <td>4.4407</td>\n",
       "      <td>14</td>\n",
       "    </tr>\n",
       "    <tr>\n",
       "      <th>base_uae_14_day_trial</th>\n",
       "      <td>4.5141</td>\n",
       "      <td>0.046512</td>\n",
       "      <td>4.7343</td>\n",
       "      <td>14</td>\n",
       "    </tr>\n",
       "    <tr>\n",
       "      <th>base_uae_no_trial_7_day_guarantee</th>\n",
       "      <td>4.4407</td>\n",
       "      <td>0.062016</td>\n",
       "      <td>4.7343</td>\n",
       "      <td>0</td>\n",
       "    </tr>\n",
       "    <tr>\n",
       "      <th>high_aud_14_day_trial</th>\n",
       "      <td>3.7801</td>\n",
       "      <td>0.055046</td>\n",
       "      <td>4.0003</td>\n",
       "      <td>14</td>\n",
       "    </tr>\n",
       "    <tr>\n",
       "      <th>high_jpy_14_day_trial</th>\n",
       "      <td>4.4407</td>\n",
       "      <td>0.054688</td>\n",
       "      <td>4.6976</td>\n",
       "      <td>14</td>\n",
       "    </tr>\n",
       "    <tr>\n",
       "      <th>high_sar_14_day_trial</th>\n",
       "      <td>4.0737</td>\n",
       "      <td>0.067227</td>\n",
       "      <td>4.3673</td>\n",
       "      <td>14</td>\n",
       "    </tr>\n",
       "    <tr>\n",
       "      <th>high_uae_14_day_trial</th>\n",
       "      <td>5.0279</td>\n",
       "      <td>0.014388</td>\n",
       "      <td>5.1013</td>\n",
       "      <td>14</td>\n",
       "    </tr>\n",
       "    <tr>\n",
       "      <th>low_eur_no_trial</th>\n",
       "      <td>1.1744</td>\n",
       "      <td>0.000000</td>\n",
       "      <td>1.1744</td>\n",
       "      <td>0</td>\n",
       "    </tr>\n",
       "    <tr>\n",
       "      <th>low_gbp_14_day_trial</th>\n",
       "      <td>4.3673</td>\n",
       "      <td>0.077519</td>\n",
       "      <td>4.7343</td>\n",
       "      <td>14</td>\n",
       "    </tr>\n",
       "    <tr>\n",
       "      <th>low_sar_no_trial</th>\n",
       "      <td>0.7707</td>\n",
       "      <td>0.045455</td>\n",
       "      <td>0.8074</td>\n",
       "      <td>0</td>\n",
       "    </tr>\n",
       "    <tr>\n",
       "      <th>low_uae_no_trial</th>\n",
       "      <td>1.0276</td>\n",
       "      <td>0.034483</td>\n",
       "      <td>1.0643</td>\n",
       "      <td>0</td>\n",
       "    </tr>\n",
       "  </tbody>\n",
       "</table>\n",
       "</div>"
      ],
      "text/plain": [
       "                                   discount_price  discount_rate  \\\n",
       "plan_type                                                          \n",
       "base_eur_14_day_trial                      4.2205       0.049587   \n",
       "base_uae_14_day_trial                      4.5141       0.046512   \n",
       "base_uae_no_trial_7_day_guarantee          4.4407       0.062016   \n",
       "high_aud_14_day_trial                      3.7801       0.055046   \n",
       "high_jpy_14_day_trial                      4.4407       0.054688   \n",
       "high_sar_14_day_trial                      4.0737       0.067227   \n",
       "high_uae_14_day_trial                      5.0279       0.014388   \n",
       "low_eur_no_trial                           1.1744       0.000000   \n",
       "low_gbp_14_day_trial                       4.3673       0.077519   \n",
       "low_sar_no_trial                           0.7707       0.045455   \n",
       "low_uae_no_trial                           1.0276       0.034483   \n",
       "\n",
       "                                   monthly_price  num_trial_days  \n",
       "plan_type                                                         \n",
       "base_eur_14_day_trial                     4.4407              14  \n",
       "base_uae_14_day_trial                     4.7343              14  \n",
       "base_uae_no_trial_7_day_guarantee         4.7343               0  \n",
       "high_aud_14_day_trial                     4.0003              14  \n",
       "high_jpy_14_day_trial                     4.6976              14  \n",
       "high_sar_14_day_trial                     4.3673              14  \n",
       "high_uae_14_day_trial                     5.1013              14  \n",
       "low_eur_no_trial                          1.1744               0  \n",
       "low_gbp_14_day_trial                      4.7343              14  \n",
       "low_sar_no_trial                          0.8074               0  \n",
       "low_uae_no_trial                          1.0643               0  "
      ]
     },
     "execution_count": 18,
     "metadata": {},
     "output_type": "execute_result"
    }
   ],
   "source": [
    "df1 = df_n.pivot_table(index = 'plan_type',values = ['num_trial_days', 'monthly_price', 'discount_rate'])\n",
    "df1"
   ]
  },
  {
   "cell_type": "markdown",
   "metadata": {},
   "source": [
    "2 types of num_trial_days: 0, 14"
   ]
  },
  {
   "cell_type": "code",
   "execution_count": 19,
   "metadata": {},
   "outputs": [
    {
     "data": {
      "text/html": [
       "<div>\n",
       "<style scoped>\n",
       "    .dataframe tbody tr th:only-of-type {\n",
       "        vertical-align: middle;\n",
       "    }\n",
       "\n",
       "    .dataframe tbody tr th {\n",
       "        vertical-align: top;\n",
       "    }\n",
       "\n",
       "    .dataframe thead th {\n",
       "        text-align: right;\n",
       "    }\n",
       "</style>\n",
       "<table border=\"1\" class=\"dataframe\">\n",
       "  <thead>\n",
       "    <tr style=\"text-align: right;\">\n",
       "      <th></th>\n",
       "      <th>count</th>\n",
       "      <th>min</th>\n",
       "      <th>max</th>\n",
       "      <th>sum</th>\n",
       "      <th>mean</th>\n",
       "    </tr>\n",
       "    <tr>\n",
       "      <th>plan_type</th>\n",
       "      <th></th>\n",
       "      <th></th>\n",
       "      <th></th>\n",
       "      <th></th>\n",
       "      <th></th>\n",
       "    </tr>\n",
       "  </thead>\n",
       "  <tbody>\n",
       "    <tr>\n",
       "      <th>base_eur_14_day_trial</th>\n",
       "      <td>18</td>\n",
       "      <td>0</td>\n",
       "      <td>2</td>\n",
       "      <td>12</td>\n",
       "      <td>0.666667</td>\n",
       "    </tr>\n",
       "    <tr>\n",
       "      <th>base_uae_14_day_trial</th>\n",
       "      <td>227096</td>\n",
       "      <td>0</td>\n",
       "      <td>3</td>\n",
       "      <td>179264</td>\n",
       "      <td>0.789375</td>\n",
       "    </tr>\n",
       "    <tr>\n",
       "      <th>base_uae_no_trial_7_day_guarantee</th>\n",
       "      <td>1</td>\n",
       "      <td>1</td>\n",
       "      <td>1</td>\n",
       "      <td>1</td>\n",
       "      <td>1.000000</td>\n",
       "    </tr>\n",
       "    <tr>\n",
       "      <th>high_aud_14_day_trial</th>\n",
       "      <td>2</td>\n",
       "      <td>0</td>\n",
       "      <td>3</td>\n",
       "      <td>3</td>\n",
       "      <td>1.500000</td>\n",
       "    </tr>\n",
       "    <tr>\n",
       "      <th>high_jpy_14_day_trial</th>\n",
       "      <td>1</td>\n",
       "      <td>1</td>\n",
       "      <td>1</td>\n",
       "      <td>1</td>\n",
       "      <td>1.000000</td>\n",
       "    </tr>\n",
       "    <tr>\n",
       "      <th>high_sar_14_day_trial</th>\n",
       "      <td>12</td>\n",
       "      <td>0</td>\n",
       "      <td>2</td>\n",
       "      <td>5</td>\n",
       "      <td>0.416667</td>\n",
       "    </tr>\n",
       "    <tr>\n",
       "      <th>high_uae_14_day_trial</th>\n",
       "      <td>325</td>\n",
       "      <td>0</td>\n",
       "      <td>2</td>\n",
       "      <td>393</td>\n",
       "      <td>1.209231</td>\n",
       "    </tr>\n",
       "    <tr>\n",
       "      <th>low_eur_no_trial</th>\n",
       "      <td>1</td>\n",
       "      <td>0</td>\n",
       "      <td>0</td>\n",
       "      <td>0</td>\n",
       "      <td>0.000000</td>\n",
       "    </tr>\n",
       "    <tr>\n",
       "      <th>low_gbp_14_day_trial</th>\n",
       "      <td>4</td>\n",
       "      <td>0</td>\n",
       "      <td>2</td>\n",
       "      <td>3</td>\n",
       "      <td>0.750000</td>\n",
       "    </tr>\n",
       "    <tr>\n",
       "      <th>low_sar_no_trial</th>\n",
       "      <td>1</td>\n",
       "      <td>1</td>\n",
       "      <td>1</td>\n",
       "      <td>1</td>\n",
       "      <td>1.000000</td>\n",
       "    </tr>\n",
       "    <tr>\n",
       "      <th>low_uae_no_trial</th>\n",
       "      <td>167</td>\n",
       "      <td>0</td>\n",
       "      <td>3</td>\n",
       "      <td>171</td>\n",
       "      <td>1.023952</td>\n",
       "    </tr>\n",
       "  </tbody>\n",
       "</table>\n",
       "</div>"
      ],
      "text/plain": [
       "                                    count  min  max     sum      mean\n",
       "plan_type                                                            \n",
       "base_eur_14_day_trial                  18    0    2      12  0.666667\n",
       "base_uae_14_day_trial              227096    0    3  179264  0.789375\n",
       "base_uae_no_trial_7_day_guarantee       1    1    1       1  1.000000\n",
       "high_aud_14_day_trial                   2    0    3       3  1.500000\n",
       "high_jpy_14_day_trial                   1    1    1       1  1.000000\n",
       "high_sar_14_day_trial                  12    0    2       5  0.416667\n",
       "high_uae_14_day_trial                 325    0    2     393  1.209231\n",
       "low_eur_no_trial                        1    0    0       0  0.000000\n",
       "low_gbp_14_day_trial                    4    0    2       3  0.750000\n",
       "low_sar_no_trial                        1    1    1       1  1.000000\n",
       "low_uae_no_trial                      167    0    3     171  1.023952"
      ]
     },
     "execution_count": 19,
     "metadata": {},
     "output_type": "execute_result"
    }
   ],
   "source": [
    "df_n.groupby('plan_type')['payment_period'].agg(['count','min', 'max', 'sum', 'mean',])"
   ]
  },
  {
   "cell_type": "markdown",
   "metadata": {},
   "source": [
    "# Question?\n",
    "why did this happend? when the trial_completed == True & current_sub_TF == True but the payment_period == 0?"
   ]
  },
  {
   "cell_type": "code",
   "execution_count": 20,
   "metadata": {},
   "outputs": [
    {
     "data": {
      "text/html": [
       "<div>\n",
       "<style scoped>\n",
       "    .dataframe tbody tr th:only-of-type {\n",
       "        vertical-align: middle;\n",
       "    }\n",
       "\n",
       "    .dataframe tbody tr th {\n",
       "        vertical-align: top;\n",
       "    }\n",
       "\n",
       "    .dataframe thead th {\n",
       "        text-align: right;\n",
       "    }\n",
       "</style>\n",
       "<table border=\"1\" class=\"dataframe\">\n",
       "  <thead>\n",
       "    <tr style=\"text-align: right;\">\n",
       "      <th>num_trial_days</th>\n",
       "      <th>0</th>\n",
       "      <th>14</th>\n",
       "    </tr>\n",
       "    <tr>\n",
       "      <th>plan_type</th>\n",
       "      <th></th>\n",
       "      <th></th>\n",
       "    </tr>\n",
       "  </thead>\n",
       "  <tbody>\n",
       "    <tr>\n",
       "      <th>base_eur_14_day_trial</th>\n",
       "      <td>0</td>\n",
       "      <td>18</td>\n",
       "    </tr>\n",
       "    <tr>\n",
       "      <th>base_uae_14_day_trial</th>\n",
       "      <td>0</td>\n",
       "      <td>227096</td>\n",
       "    </tr>\n",
       "    <tr>\n",
       "      <th>base_uae_no_trial_7_day_guarantee</th>\n",
       "      <td>1</td>\n",
       "      <td>0</td>\n",
       "    </tr>\n",
       "    <tr>\n",
       "      <th>high_aud_14_day_trial</th>\n",
       "      <td>0</td>\n",
       "      <td>2</td>\n",
       "    </tr>\n",
       "    <tr>\n",
       "      <th>high_jpy_14_day_trial</th>\n",
       "      <td>0</td>\n",
       "      <td>1</td>\n",
       "    </tr>\n",
       "    <tr>\n",
       "      <th>high_sar_14_day_trial</th>\n",
       "      <td>0</td>\n",
       "      <td>12</td>\n",
       "    </tr>\n",
       "    <tr>\n",
       "      <th>high_uae_14_day_trial</th>\n",
       "      <td>0</td>\n",
       "      <td>325</td>\n",
       "    </tr>\n",
       "    <tr>\n",
       "      <th>low_eur_no_trial</th>\n",
       "      <td>1</td>\n",
       "      <td>0</td>\n",
       "    </tr>\n",
       "    <tr>\n",
       "      <th>low_gbp_14_day_trial</th>\n",
       "      <td>0</td>\n",
       "      <td>4</td>\n",
       "    </tr>\n",
       "    <tr>\n",
       "      <th>low_sar_no_trial</th>\n",
       "      <td>1</td>\n",
       "      <td>0</td>\n",
       "    </tr>\n",
       "    <tr>\n",
       "      <th>low_uae_no_trial</th>\n",
       "      <td>167</td>\n",
       "      <td>0</td>\n",
       "    </tr>\n",
       "  </tbody>\n",
       "</table>\n",
       "</div>"
      ],
      "text/plain": [
       "num_trial_days                      0       14\n",
       "plan_type                                     \n",
       "base_eur_14_day_trial                0      18\n",
       "base_uae_14_day_trial                0  227096\n",
       "base_uae_no_trial_7_day_guarantee    1       0\n",
       "high_aud_14_day_trial                0       2\n",
       "high_jpy_14_day_trial                0       1\n",
       "high_sar_14_day_trial                0      12\n",
       "high_uae_14_day_trial                0     325\n",
       "low_eur_no_trial                     1       0\n",
       "low_gbp_14_day_trial                 0       4\n",
       "low_sar_no_trial                     1       0\n",
       "low_uae_no_trial                   167       0"
      ]
     },
     "execution_count": 20,
     "metadata": {},
     "output_type": "execute_result"
    }
   ],
   "source": [
    "pd.crosstab(index=df_n['plan_type'], columns = df_n['num_trial_days'])"
   ]
  },
  {
   "cell_type": "code",
   "execution_count": 355,
   "metadata": {},
   "outputs": [
    {
     "data": {
      "text/plain": [
       "current_sub_TF  trial_completed  payment_period\n",
       "False           False            0                 26227\n",
       "                                 1                   269\n",
       "                True             0                 60314\n",
       "                                 1                  9914\n",
       "                                 2                   654\n",
       "True            False            0                   896\n",
       "                True             0                  7954\n",
       "                                 1                 76785\n",
       "                                 2                 42267\n",
       "                                 3                  2348\n",
       "dtype: int64"
      ]
     },
     "execution_count": 355,
     "metadata": {},
     "output_type": "execute_result"
    }
   ],
   "source": [
    "df_n.groupby(['current_sub_TF', 'trial_completed', 'payment_period']).size()"
   ]
  },
  {
   "attachments": {
    "9eaf60ff-5b72-422e-a96c-f545b6059f66.png": {
     "image/png": "[encoded data removed]"
    }
   },
   "cell_type": "markdown",
   "metadata": {},
   "source": [
    "# Conclusion of user_type\n",
    "- total users 227628\n",
    "- 86541 never subscribe the OTT services\n",
    "- 896 people are still in trails\n",
    "- 121400 people are currently paying users\n",
    "- 10837 people churned\n",
    "\n",
    "However, we have 7954 users who completed trails and can access current contents but their payment period are all 0 (That is a contradiction.)\n",
    "\n",
    "- ab testing, what factor influent people leave us?\n",
    "join_fee, language(all users choose 'ar')\n",
    "![image.png](attachment:9eaf60ff-5b72-422e-a96c-f545b6059f66.png)"
   ]
  },
  {
   "cell_type": "code",
   "execution_count": 30,
   "metadata": {},
   "outputs": [
    {
     "data": {
      "text/plain": [
       "count     227628\n",
       "unique         1\n",
       "top           ar\n",
       "freq      227628\n",
       "Name: language, dtype: object"
      ]
     },
     "execution_count": 30,
     "metadata": {},
     "output_type": "execute_result"
    }
   ],
   "source": [
    "df_n.language.describe()"
   ]
  },
  {
   "cell_type": "code",
   "execution_count": 31,
   "metadata": {},
   "outputs": [
    {
     "data": {
      "text/plain": [
       "count    192724.000000\n",
       "mean          0.115145\n",
       "std           0.176971\n",
       "min          -0.660600\n",
       "25%           0.036700\n",
       "50%           0.036700\n",
       "75%           0.110100\n",
       "max           0.734000\n",
       "Name: join_fee, dtype: float64"
      ]
     },
     "execution_count": 31,
     "metadata": {},
     "output_type": "execute_result"
    }
   ],
   "source": [
    "df_n.join_fee.describe()"
   ]
  },
  {
   "cell_type": "code",
   "execution_count": 32,
   "metadata": {},
   "outputs": [
    {
     "data": {
      "text/plain": [
       "<matplotlib.axes._subplots.AxesSubplot at 0x1ea1bb70580>"
      ]
     },
     "execution_count": 32,
     "metadata": {},
     "output_type": "execute_result"
    },
    {
     "data": {
      "image/png": "[encoded data removed]",
      "text/plain": [
       "<Figure size 432x288 with 1 Axes>"
      ]
     },
     "metadata": {
      "needs_background": "light"
     },
     "output_type": "display_data"
    }
   ],
   "source": [
    "df_n.join_fee.hist(bins = 20)"
   ]
  },
  {
   "cell_type": "code",
   "execution_count": 33,
   "metadata": {},
   "outputs": [
    {
     "data": {
      "text/plain": [
       "count        227628\n",
       "unique            5\n",
       "top       not_churn\n",
       "freq         121400\n",
       "Name: user_label, dtype: object"
      ]
     },
     "execution_count": 33,
     "metadata": {},
     "output_type": "execute_result"
    }
   ],
   "source": [
    "# label users\n",
    "conditions = [(df_n['payment_period'] != 0) & (df_n['current_sub_TF'] == True), (df_n['payment_period']!= 0) & (df_n['current_sub_TF'] == False), (df_n['payment_period'] == 0) & (df_n['current_sub_TF'] == False), (df_n['payment_period'] == 0) & (df_n['current_sub_TF'] == True) & (df_n['trial_completed'] == False), (df_n['payment_period'] == 0) & (df_n['current_sub_TF'] == True) & (df_n['trial_completed'] == True)]\n",
    "choices  = ['not_churn','churn','never_sub','in_trial','strange']\n",
    "df_n['user_label'] = np.select(conditions, choices, default = np.nan)\n",
    "df_n['user_label'].describe()"
   ]
  },
  {
   "cell_type": "code",
   "execution_count": 34,
   "metadata": {},
   "outputs": [
    {
     "data": {
      "text/plain": [
       "user_label\n",
       "churn         10837\n",
       "in_trial        896\n",
       "never_sub     86541\n",
       "not_churn    121400\n",
       "strange        7954\n",
       "Name: language, dtype: int64"
      ]
     },
     "execution_count": 34,
     "metadata": {},
     "output_type": "execute_result"
    }
   ],
   "source": [
    "df_n.groupby('user_label')['language'].agg('count')"
   ]
  },
  {
   "cell_type": "markdown",
   "metadata": {},
   "source": [
    "# Get the churn model dataset"
   ]
  },
  {
   "cell_type": "code",
   "execution_count": 35,
   "metadata": {},
   "outputs": [
    {
     "data": {
      "text/plain": [
       "churn_TF\n",
       "0.0    121400\n",
       "1.0     10837\n",
       "Name: language, dtype: int64"
      ]
     },
     "execution_count": 35,
     "metadata": {},
     "output_type": "execute_result"
    }
   ],
   "source": [
    "# create a column of churn\n",
    "conditions = [df_n['user_label'] == 'churn', df_n['user_label'] == 'not_churn']\n",
    "choices = [1, 0]\n",
    "df_n['churn_TF'] = np.select(conditions, choices, default = np.nan)\n",
    "df_n.groupby('churn_TF').size()"
   ]
  },
  {
   "cell_type": "code",
   "execution_count": 36,
   "metadata": {},
   "outputs": [
    {
     "data": {
      "text/plain": [
       "(132237, 34)"
      ]
     },
     "execution_count": 36,
     "metadata": {},
     "output_type": "execute_result"
    }
   ],
   "source": [
    "# get the dataset for churn model\n",
    "churn = df_n[df_n['churn_TF'].isin([1,0])]\n",
    "churn.shape"
   ]
  },
  {
   "cell_type": "code",
   "execution_count": 37,
   "metadata": {},
   "outputs": [],
   "source": [
    "churn.to_csv('sub_churn_data.csv')"
   ]
  },
  {
   "cell_type": "code",
   "execution_count": 356,
   "metadata": {},
   "outputs": [
    {
     "data": {
      "text/plain": [
       "(218778, 34)"
      ]
     },
     "execution_count": 356,
     "metadata": {},
     "output_type": "execute_result"
    }
   ],
   "source": [
    "# get the dataset which removes users in trial and problematic records\n",
    "not_in_trial = df_n[df_n['user_label'].isin(['never_sub', 'churn', 'not_churn'])]\n",
    "not_in_trial.shape"
   ]
  },
  {
   "cell_type": "code",
   "execution_count": 357,
   "metadata": {},
   "outputs": [],
   "source": [
    "not_in_trial.to_csv('not_in_trial.csv')"
   ]
  },
  {
   "cell_type": "code",
   "execution_count": 358,
   "metadata": {},
   "outputs": [
    {
     "data": {
      "text/plain": [
       "user_label\n",
       "churn         10837\n",
       "never_sub     86541\n",
       "not_churn    121400\n",
       "dtype: int64"
      ]
     },
     "execution_count": 358,
     "metadata": {},
     "output_type": "execute_result"
    }
   ],
   "source": [
    "# compute the total conversion rate\n",
    "not_in_trial.groupby('user_label').size()"
   ]
  },
  {
   "cell_type": "code",
   "execution_count": 360,
   "metadata": {},
   "outputs": [
    {
     "data": {
      "text/plain": [
       "0.604434632367057"
      ]
     },
     "execution_count": 360,
     "metadata": {},
     "output_type": "execute_result"
    }
   ],
   "source": [
    "conversion_rate = (10837+121400)/not_in_trial.shape[0]\n",
    "conversion_rate "
   ]
  },
  {
   "cell_type": "markdown",
   "metadata": {},
   "source": [
    "# Attribution & Allocation\n"
   ]
  },
  {
   "cell_type": "code",
   "execution_count": 42,
   "metadata": {},
   "outputs": [],
   "source": [
    "# read the channel spend dataset\n",
    "c_spend = pd.read_csv('channel_spend_graduate.csv')"
   ]
  },
  {
   "cell_type": "code",
   "execution_count": 43,
   "metadata": {},
   "outputs": [
    {
     "name": "stdout",
     "output_type": "stream",
     "text": [
      "<class 'pandas.core.frame.DataFrame'>\n",
      "RangeIndex: 40 entries, 0 to 39\n",
      "Data columns (total 3 columns):\n",
      " #   Column     Non-Null Count  Dtype \n",
      "---  ------     --------------  ----- \n",
      " 0   channel    40 non-null     object\n",
      " 1   date       40 non-null     int64 \n",
      " 2   spend_AED  40 non-null     int64 \n",
      "dtypes: int64(2), object(1)\n",
      "memory usage: 1.1+ KB\n"
     ]
    }
   ],
   "source": [
    "c_spend.info()"
   ]
  },
  {
   "cell_type": "code",
   "execution_count": 44,
   "metadata": {},
   "outputs": [
    {
     "name": "stdout",
     "output_type": "stream",
     "text": [
      "<class 'pandas.core.frame.DataFrame'>\n",
      "RangeIndex: 40 entries, 0 to 39\n",
      "Data columns (total 3 columns):\n",
      " #   Column     Non-Null Count  Dtype \n",
      "---  ------     --------------  ----- \n",
      " 0   channel    40 non-null     object\n",
      " 1   date       40 non-null     object\n",
      " 2   spend_AED  40 non-null     int64 \n",
      "dtypes: int64(1), object(2)\n",
      "memory usage: 1.1+ KB\n"
     ]
    }
   ],
   "source": [
    "c_spend['date'] = c_spend.date.map(str)\n",
    "c_spend.info()"
   ]
  },
  {
   "cell_type": "code",
   "execution_count": 45,
   "metadata": {},
   "outputs": [],
   "source": [
    "# rewrite the format of datatime values\n",
    "for i in range(c_spend.shape[0]):\n",
    "    c_spend.iloc[i, 1] = '-'.join([c_spend.iloc[i, 1][:4],c_spend.iloc[i, 1][4:6]])"
   ]
  },
  {
   "cell_type": "code",
   "execution_count": 46,
   "metadata": {},
   "outputs": [
    {
     "data": {
      "text/html": [
       "<div>\n",
       "<style scoped>\n",
       "    .dataframe tbody tr th:only-of-type {\n",
       "        vertical-align: middle;\n",
       "    }\n",
       "\n",
       "    .dataframe tbody tr th {\n",
       "        vertical-align: top;\n",
       "    }\n",
       "\n",
       "    .dataframe thead th {\n",
       "        text-align: right;\n",
       "    }\n",
       "</style>\n",
       "<table border=\"1\" class=\"dataframe\">\n",
       "  <thead>\n",
       "    <tr style=\"text-align: right;\">\n",
       "      <th></th>\n",
       "      <th>channel</th>\n",
       "      <th>date</th>\n",
       "      <th>spend_AED</th>\n",
       "    </tr>\n",
       "  </thead>\n",
       "  <tbody>\n",
       "    <tr>\n",
       "      <th>0</th>\n",
       "      <td>bing</td>\n",
       "      <td>2019-07</td>\n",
       "      <td>400</td>\n",
       "    </tr>\n",
       "    <tr>\n",
       "      <th>1</th>\n",
       "      <td>display</td>\n",
       "      <td>2019-07</td>\n",
       "      <td>12</td>\n",
       "    </tr>\n",
       "    <tr>\n",
       "      <th>2</th>\n",
       "      <td>facebook</td>\n",
       "      <td>2019-07</td>\n",
       "      <td>9000</td>\n",
       "    </tr>\n",
       "    <tr>\n",
       "      <th>3</th>\n",
       "      <td>search</td>\n",
       "      <td>2019-07</td>\n",
       "      <td>13000</td>\n",
       "    </tr>\n",
       "    <tr>\n",
       "      <th>4</th>\n",
       "      <td>youtube</td>\n",
       "      <td>2019-07</td>\n",
       "      <td>90</td>\n",
       "    </tr>\n",
       "  </tbody>\n",
       "</table>\n",
       "</div>"
      ],
      "text/plain": [
       "    channel     date  spend_AED\n",
       "0      bing  2019-07        400\n",
       "1   display  2019-07         12\n",
       "2  facebook  2019-07       9000\n",
       "3    search  2019-07      13000\n",
       "4   youtube  2019-07         90"
      ]
     },
     "execution_count": 46,
     "metadata": {},
     "output_type": "execute_result"
    }
   ],
   "source": [
    "c_spend.head()"
   ]
  },
  {
   "cell_type": "code",
   "execution_count": 47,
   "metadata": {},
   "outputs": [],
   "source": [
    "c_spend['date'] = pd.to_datetime(c_spend['date'])"
   ]
  },
  {
   "cell_type": "code",
   "execution_count": 48,
   "metadata": {},
   "outputs": [
    {
     "name": "stdout",
     "output_type": "stream",
     "text": [
      "<class 'pandas.core.frame.DataFrame'>\n",
      "RangeIndex: 40 entries, 0 to 39\n",
      "Data columns (total 3 columns):\n",
      " #   Column     Non-Null Count  Dtype         \n",
      "---  ------     --------------  -----         \n",
      " 0   channel    40 non-null     object        \n",
      " 1   date       40 non-null     datetime64[ns]\n",
      " 2   spend_AED  40 non-null     int64         \n",
      "dtypes: datetime64[ns](1), int64(1), object(1)\n",
      "memory usage: 1.1+ KB\n"
     ]
    }
   ],
   "source": [
    "c_spend.info()\n",
    "c_spend.to_csv('channel_spend.csv')   "
   ]
  },
  {
   "cell_type": "markdown",
   "metadata": {},
   "source": [
    "# Calculate revenues"
   ]
  },
  {
   "cell_type": "code",
   "execution_count": 366,
   "metadata": {},
   "outputs": [
    {
     "data": {
      "text/plain": [
       "<matplotlib.axes._subplots.AxesSubplot at 0x1ea35a52ca0>"
      ]
     },
     "execution_count": 366,
     "metadata": {},
     "output_type": "execute_result"
    },
    {
     "data": {
      "image/png": "[encoded data removed]",
      "text/plain": [
       "<Figure size 432x288 with 1 Axes>"
      ]
     },
     "metadata": {
      "needs_background": "light"
     },
     "output_type": "display_data"
    }
   ],
   "source": [
    "not_in_trial.join_fee.plot(kind = 'hist') # find some records's join fees are < 0"
   ]
  },
  {
   "cell_type": "code",
   "execution_count": 369,
   "metadata": {},
   "outputs": [
    {
     "data": {
      "text/plain": [
       "(13, 34)"
      ]
     },
     "execution_count": 369,
     "metadata": {},
     "output_type": "execute_result"
    }
   ],
   "source": [
    "not_in_trial[not_in_trial.join_fee < 0].shape\n",
    "# 13 records with join fees < 0\n",
    "# decide to ignore them when sum join fees"
   ]
  },
  {
   "cell_type": "code",
   "execution_count": 372,
   "metadata": {},
   "outputs": [
    {
     "data": {
      "text/plain": [
       "count    185083.000000\n",
       "mean          0.111453\n",
       "std           0.175980\n",
       "min          -0.660600\n",
       "25%           0.036700\n",
       "50%           0.036700\n",
       "75%           0.036700\n",
       "max           0.734000\n",
       "Name: join_fee, dtype: float64"
      ]
     },
     "execution_count": 372,
     "metadata": {},
     "output_type": "execute_result"
    }
   ],
   "source": [
    "not_in_trial.join_fee.describe() \n",
    "# total case 185083"
   ]
  },
  {
   "cell_type": "code",
   "execution_count": 396,
   "metadata": {},
   "outputs": [
    {
     "data": {
      "text/plain": [
       "185070"
      ]
     },
     "execution_count": 396,
     "metadata": {},
     "output_type": "execute_result"
    }
   ],
   "source": [
    "# compute the total join fees\n",
    "31954+153116"
   ]
  },
  {
   "cell_type": "code",
   "execution_count": 373,
   "metadata": {},
   "outputs": [
    {
     "name": "stdout",
     "output_type": "stream",
     "text": [
      "31954\n",
      "153116\n"
     ]
    }
   ],
   "source": [
    "take_join_fee = not_in_trial[not_in_trial.join_fee>0].shape[0]# 153116 took join fee\n",
    "not_take_join_fee = not_in_trial[not_in_trial.join_fee == 0].shape[0] # 31954 not taken join fee\n",
    "print(not_take_join_fee) \n",
    "print(take_join_fee) "
   ]
  },
  {
   "cell_type": "code",
   "execution_count": 1,
   "metadata": {},
   "outputs": [
    {
     "data": {
      "text/plain": [
       "185070"
      ]
     },
     "execution_count": 1,
     "metadata": {},
     "output_type": "execute_result"
    }
   ],
   "source": [
    "# drop records with negative join fees (13 records)\n",
    "31954 + 153116 "
   ]
  },
  {
   "cell_type": "code",
   "execution_count": 391,
   "metadata": {},
   "outputs": [
    {
     "data": {
      "text/plain": [
       "array(['not_churn', 'churn'], dtype=object)"
      ]
     },
     "execution_count": 391,
     "metadata": {},
     "output_type": "execute_result"
    }
   ],
   "source": [
    "not_in_trial[(not_in_trial.join_fee>0) & (not_in_trial.user_label != 'never_sub')].user_label.unique()"
   ]
  },
  {
   "cell_type": "code",
   "execution_count": 377,
   "metadata": {},
   "outputs": [
    {
     "data": {
      "text/plain": [
       "0.587841897646229"
      ]
     },
     "execution_count": 377,
     "metadata": {},
     "output_type": "execute_result"
    }
   ],
   "source": [
    "# compute the conversion rate of people who are charged join fees\n",
    "take_fee_con_r = not_in_trial[(not_in_trial.join_fee>0) & (not_in_trial.user_label != 'never_sub')].shape[0]/take_join_fee\n",
    "take_fee_con_r"
   ]
  },
  {
   "cell_type": "code",
   "execution_count": 390,
   "metadata": {},
   "outputs": [
    {
     "data": {
      "text/plain": [
       "array(['not_churn', 'churn'], dtype=object)"
      ]
     },
     "execution_count": 390,
     "metadata": {},
     "output_type": "execute_result"
    }
   ],
   "source": [
    "not_in_trial[(not_in_trial.join_fee==0) & (not_in_trial.user_label != 'never_sub')].user_label.unique()"
   ]
  },
  {
   "cell_type": "code",
   "execution_count": 392,
   "metadata": {},
   "outputs": [
    {
     "data": {
      "text/plain": [
       "0.5605870939475496"
      ]
     },
     "execution_count": 392,
     "metadata": {},
     "output_type": "execute_result"
    }
   ],
   "source": [
    "# compute the conversion rate of people who are not charged join fees\n",
    "not_take_fee_con_r = not_in_trial[(not_in_trial.join_fee ==0) & (not_in_trial.user_label != 'never_sub')].shape[0]/not_take_join_fee\n",
    "not_take_fee_con_r"
   ]
  },
  {
   "cell_type": "code",
   "execution_count": 382,
   "metadata": {},
   "outputs": [
    {
     "data": {
      "text/plain": [
       "3245889.661999999"
      ]
     },
     "execution_count": 382,
     "metadata": {},
     "output_type": "execute_result"
    }
   ],
   "source": [
    "# revenue from paying users, payment * payment_period * months_per_bill_period\n",
    "discount_revenue = churn['discount_price']*churn['payment_period']*churn['months_per_bill_period']\n",
    "discount_revenue.sum()"
   ]
  },
  {
   "cell_type": "code",
   "execution_count": 62,
   "metadata": {},
   "outputs": [
    {
     "data": {
      "text/plain": [
       "3403951.7176000006"
      ]
     },
     "execution_count": 62,
     "metadata": {},
     "output_type": "execute_result"
    }
   ],
   "source": [
    "# revenue from paying users, payment * payment_period * months_per_bill_period\n",
    "n_discount_revenue = churn['monthly_price']*churn['payment_period']*churn['months_per_bill_period']\n",
    "n_discount_revenue.sum()"
   ]
  },
  {
   "cell_type": "code",
   "execution_count": 393,
   "metadata": {},
   "outputs": [
    {
     "name": "stdout",
     "output_type": "stream",
     "text": [
      "22193.3708\n",
      "22191.278899999998\n"
     ]
    }
   ],
   "source": [
    "# join fee for total users\n",
    "j1 = df_n[df_n.join_fee >= 0].join_fee.sum()\n",
    "j2 = df_n.join_fee.sum() \n",
    "print(j1)\n",
    "print(j2)"
   ]
  },
  {
   "cell_type": "code",
   "execution_count": 395,
   "metadata": {},
   "outputs": [
    {
     "data": {
      "text/plain": [
       "3268083.032799999"
      ]
     },
     "execution_count": 395,
     "metadata": {},
     "output_type": "execute_result"
    }
   ],
   "source": [
    "total_revenue = j1 + discount_revenue.sum()\n",
    "total_revenue"
   ]
  },
  {
   "cell_type": "markdown",
   "metadata": {},
   "source": [
    "# Attribution and allocation"
   ]
  },
  {
   "cell_type": "code",
   "execution_count": 399,
   "metadata": {},
   "outputs": [
    {
     "data": {
      "text/plain": [
       "355896"
      ]
     },
     "execution_count": 399,
     "metadata": {},
     "output_type": "execute_result"
    }
   ],
   "source": [
    "total_c_s = c_spend.spend_AED.sum()\n",
    "total_c_s"
   ]
  },
  {
   "cell_type": "code",
   "execution_count": 398,
   "metadata": {},
   "outputs": [
    {
     "data": {
      "text/plain": [
       "0.1089005378468241"
      ]
     },
     "execution_count": 398,
     "metadata": {},
     "output_type": "execute_result"
    }
   ],
   "source": [
    "total_c_s/total_revenue\n"
   ]
  },
  {
   "cell_type": "code",
   "execution_count": 408,
   "metadata": {},
   "outputs": [
    {
     "data": {
      "text/plain": [
       "channel\n",
       "bing         10800\n",
       "display        366\n",
       "facebook    113500\n",
       "search      222500\n",
       "youtube       8730\n",
       "Name: spend_AED, dtype: int64"
      ]
     },
     "execution_count": 408,
     "metadata": {},
     "output_type": "execute_result"
    }
   ],
   "source": [
    "c_spend.groupby('channel')['spend_AED'].agg('sum')"
   ]
  },
  {
   "cell_type": "markdown",
   "metadata": {},
   "source": [
    "# Compute channel spend"
   ]
  },
  {
   "cell_type": "code",
   "execution_count": 400,
   "metadata": {},
   "outputs": [],
   "source": [
    "# filter channel spend months\n",
    "channel_month = [1,2,7,8,9,10,11,12]\n",
    "channel = not_in_trial[not_in_trial['account_creation_date'].dt.month.isin(channel_month)]"
   ]
  },
  {
   "cell_type": "code",
   "execution_count": 401,
   "metadata": {},
   "outputs": [
    {
     "data": {
      "text/plain": [
       "count                  198843\n",
       "unique                 197494\n",
       "top       2019-12-28 16:35:34\n",
       "freq                        3\n",
       "first     2019-07-01 00:00:19\n",
       "last      2020-02-29 23:59:47\n",
       "Name: account_creation_date, dtype: object"
      ]
     },
     "execution_count": 401,
     "metadata": {},
     "output_type": "execute_result"
    }
   ],
   "source": [
    "channel.account_creation_date.describe()"
   ]
  },
  {
   "cell_type": "code",
   "execution_count": 406,
   "metadata": {},
   "outputs": [
    {
     "data": {
      "text/plain": [
       "attribution_technical\n",
       "bing          967\n",
       "display      1259\n",
       "facebook    72044\n",
       "search      22105\n",
       "youtube       734\n",
       "dtype: int64"
      ]
     },
     "execution_count": 406,
     "metadata": {},
     "output_type": "execute_result"
    }
   ],
   "source": [
    "channel_type = ['bing', 'search','youtube','display','facebook']\n",
    "channel_s = channel[channel['attribution_technical'].isin(channel_type)]\n",
    "channel_s.groupby('attribution_technical').size()"
   ]
  },
  {
   "cell_type": "code",
   "execution_count": 403,
   "metadata": {},
   "outputs": [
    {
     "data": {
      "text/plain": [
       "array(['not_churn', 'never_sub', 'churn'], dtype=object)"
      ]
     },
     "execution_count": 403,
     "metadata": {},
     "output_type": "execute_result"
    }
   ],
   "source": [
    "channel_s.user_label.unique()"
   ]
  },
  {
   "cell_type": "code",
   "execution_count": 404,
   "metadata": {},
   "outputs": [],
   "source": [
    "cac_channel = channel_s[channel_s['user_label'] != 'never_sub']"
   ]
  },
  {
   "cell_type": "code",
   "execution_count": 405,
   "metadata": {},
   "outputs": [
    {
     "data": {
      "text/plain": [
       "attribution_technical\n",
       "bing          506\n",
       "display       721\n",
       "facebook    40517\n",
       "search      15017\n",
       "youtube       583\n",
       "dtype: int64"
      ]
     },
     "execution_count": 405,
     "metadata": {},
     "output_type": "execute_result"
    }
   ],
   "source": [
    "cac_channel.groupby('attribution_technical').size()"
   ]
  },
  {
   "cell_type": "code",
   "execution_count": 414,
   "metadata": {},
   "outputs": [],
   "source": [
    "cac_channel.to_csv('cac_channel.csv')"
   ]
  },
  {
   "cell_type": "markdown",
   "metadata": {},
   "source": [
    "# label users: find conversion rate"
   ]
  },
  {
   "cell_type": "code",
   "execution_count": 77,
   "metadata": {},
   "outputs": [
    {
     "data": {
      "text/plain": [
       "current_sub_TF  payment_period  trial_completed\n",
       "False           0               False              26227\n",
       "                                True               60314\n",
       "                1               False                269\n",
       "                                True                9914\n",
       "                2               True                 654\n",
       "True            0               False                896\n",
       "                                True                7954\n",
       "                1               True               76785\n",
       "                2               True               42267\n",
       "                3               True                2348\n",
       "Name: language, dtype: int64"
      ]
     },
     "execution_count": 77,
     "metadata": {},
     "output_type": "execute_result"
    }
   ],
   "source": [
    "# based on 3 conditions: current_sub_TF, payment_period, trial_completed\n",
    "df_n.groupby(['current_sub_TF','payment_period','trial_completed',])['language'].count()"
   ]
  },
  {
   "cell_type": "code",
   "execution_count": 86,
   "metadata": {},
   "outputs": [
    {
     "data": {
      "text/plain": [
       "current_sub_TF  trial_completed  initial_credit_card_declined  payment_period\n",
       "False           False            False                         0                 24977\n",
       "                                                               1                   262\n",
       "                                 True                          0                  1250\n",
       "                                                               1                     7\n",
       "                True             False                         0                 57650\n",
       "                                                               1                  9330\n",
       "                                                               2                   613\n",
       "                                 True                          0                  2664\n",
       "                                                               1                   584\n",
       "                                                               2                    41\n",
       "True            False            False                         0                   843\n",
       "                                 True                          0                    53\n",
       "                True             False                         0                  7473\n",
       "                                                               1                 73229\n",
       "                                                               2                 39828\n",
       "                                                               3                  2220\n",
       "                                 True                          0                   481\n",
       "                                                               1                  3556\n",
       "                                                               2                  2439\n",
       "                                                               3                   128\n",
       "Name: language, dtype: int64"
      ]
     },
     "execution_count": 86,
     "metadata": {},
     "output_type": "execute_result"
    }
   ],
   "source": [
    "# based on 3 conditions: current_sub_TF, payment_period, trial_completed\n",
    "df_n.groupby(['current_sub_TF','trial_completed','initial_credit_card_declined','payment_period'])['language'].count()"
   ]
  },
  {
   "cell_type": "code",
   "execution_count": 89,
   "metadata": {},
   "outputs": [
    {
     "data": {
      "text/plain": [
       "0"
      ]
     },
     "execution_count": 89,
     "metadata": {},
     "output_type": "execute_result"
    }
   ],
   "source": [
    "# check if their last_payment is before the next_payment: yes, no problem\n",
    "len(df_n[df_n['next_payment']<df_n['last_payment']])"
   ]
  },
  {
   "cell_type": "code",
   "execution_count": 87,
   "metadata": {},
   "outputs": [],
   "source": [
    "# subset the dataset to understand type of users\n",
    "df_date = df_n.loc[:,['trial_end_date','last_payment','next_payment','cancel_date','current_sub_TF','trial_completed','payment_period','initial_credit_card_declined']]"
   ]
  },
  {
   "cell_type": "code",
   "execution_count": 88,
   "metadata": {},
   "outputs": [
    {
     "name": "stdout",
     "output_type": "stream",
     "text": [
      "<class 'pandas.core.frame.DataFrame'>\n",
      "RangeIndex: 227628 entries, 0 to 227627\n",
      "Data columns (total 8 columns):\n",
      " #   Column                        Non-Null Count   Dtype         \n",
      "---  ------                        --------------   -----         \n",
      " 0   trial_end_date                227628 non-null  datetime64[ns]\n",
      " 1   last_payment                  132237 non-null  datetime64[ns]\n",
      " 2   next_payment                  130250 non-null  datetime64[ns]\n",
      " 3   cancel_date                   36831 non-null   datetime64[ns]\n",
      " 4   current_sub_TF                227628 non-null  bool          \n",
      " 5   trial_completed               227628 non-null  bool          \n",
      " 6   payment_period                227628 non-null  int64         \n",
      " 7   initial_credit_card_declined  227628 non-null  bool          \n",
      "dtypes: bool(3), datetime64[ns](4), int64(1)\n",
      "memory usage: 9.3 MB\n"
     ]
    }
   ],
   "source": [
    "df_date.info()"
   ]
  },
  {
   "cell_type": "markdown",
   "metadata": {},
   "source": [
    "1. make sure last_payment < next_payment, checked last_payment < cancel_date\n",
    "- cancel_date (date user request to cancel service) < trial_end_date, (they want to leave anyway)\n",
    "cancel_date> trial_end_date, current_TF: True, (they are planning to churn), current_TF : FALSE: \n",
    "- last_payment(succssfully made payment) > trial_end_date(check payment_period, p = 0:shit, p=1,p=2,p=3(mius-1, get the previous renewal period) ), last_payment(succssfully made payment) < trial_end_date(convert to customer in trials )\n",
    "-cancel_date < trial_end_date: \n"
   ]
  },
  {
   "cell_type": "code",
   "execution_count": null,
   "metadata": {},
   "outputs": [],
   "source": [
    "# based on 3 conditions: current_sub_TF, payment_period, trial_completed\n",
    "df_date.groupby(['current_sub_TF','payment_period','trial_completed'])['cancel_date'].count()"
   ]
  },
  {
   "cell_type": "code",
   "execution_count": 106,
   "metadata": {},
   "outputs": [
    {
     "data": {
      "text/plain": [
       "0"
      ]
     },
     "execution_count": 106,
     "metadata": {},
     "output_type": "execute_result"
    }
   ],
   "source": [
    "len(df_date[df_date['last_payment']>df_date['next_payment']]) # "
   ]
  },
  {
   "cell_type": "code",
   "execution_count": 148,
   "metadata": {},
   "outputs": [
    {
     "data": {
      "text/plain": [
       "296"
      ]
     },
     "execution_count": 148,
     "metadata": {},
     "output_type": "execute_result"
    }
   ],
   "source": [
    "# ! problem:\n",
    "# last payment  should be < cancel_date, **problem: 296 大于cancel date: system problem?**\n",
    "len(df_date[df_date['last_payment']>df_date['cancel_date']]) # "
   ]
  },
  {
   "cell_type": "code",
   "execution_count": 92,
   "metadata": {},
   "outputs": [
    {
     "data": {
      "text/plain": [
       "0"
      ]
     },
     "execution_count": 92,
     "metadata": {},
     "output_type": "execute_result"
    }
   ],
   "source": [
    "# ! problem:\n",
    "# last payment  should be < cancel_date, **problem: 296 大于cancel date: system problem?**\n",
    "len(df_date[(df_date['last_payment']<df_date['trial_end_date']) & (df_date['current_sub_TF']== False)]) # "
   ]
  },
  {
   "cell_type": "code",
   "execution_count": 93,
   "metadata": {},
   "outputs": [
    {
     "data": {
      "text/plain": [
       "896"
      ]
     },
     "execution_count": 93,
     "metadata": {},
     "output_type": "execute_result"
    }
   ],
   "source": [
    "# ! problem:\n",
    "# last payment  should be < cancel_date, **problem: 296 大于cancel date: system problem?**\n",
    "len(df_date[df_date['next_payment']>df_date['cancel_date']]) # "
   ]
  },
  {
   "cell_type": "code",
   "execution_count": 94,
   "metadata": {},
   "outputs": [
    {
     "data": {
      "text/plain": [
       "0"
      ]
     },
     "execution_count": 94,
     "metadata": {},
     "output_type": "execute_result"
    }
   ],
   "source": [
    "# ! problem:\n",
    "# last payment  should be < cancel_date, **problem: 296 大于cancel date: system problem?**\n",
    "len(df_date[df_date['next_payment']<df_date['cancel_date']]) # "
   ]
  },
  {
   "cell_type": "code",
   "execution_count": 95,
   "metadata": {},
   "outputs": [
    {
     "data": {
      "text/plain": [
       "0"
      ]
     },
     "execution_count": 95,
     "metadata": {},
     "output_type": "execute_result"
    }
   ],
   "source": [
    "# ! problem:\n",
    "# last payment shbould be < cancel_date, **problem: 296 大于cancel date: system problem?**\n",
    "len(df_date[df_date['next_payment']<df_date['trial_end_date']]) # "
   ]
  },
  {
   "cell_type": "code",
   "execution_count": 96,
   "metadata": {},
   "outputs": [
    {
     "data": {
      "text/plain": [
       "9439"
      ]
     },
     "execution_count": 96,
     "metadata": {},
     "output_type": "execute_result"
    }
   ],
   "source": [
    "# ! problem:\n",
    "# last payment shbould be < cancel_date, **problem: 296 大于cancel date: system problem?**\n",
    "len(df_date[df_date['cancel_date']>df_date['trial_end_date']]) # "
   ]
  },
  {
   "cell_type": "code",
   "execution_count": 97,
   "metadata": {},
   "outputs": [
    {
     "data": {
      "text/plain": [
       "18"
      ]
     },
     "execution_count": 97,
     "metadata": {},
     "output_type": "execute_result"
    }
   ],
   "source": [
    "# ! problem:\n",
    "# last payment shbould be < cancel_date, **problem: 296 大于cancel date: system problem?**\n",
    "len(df_date[(df_date['cancel_date']>df_date['trial_end_date']) & (df_d['payment_period']==0)]) # "
   ]
  },
  {
   "cell_type": "code",
   "execution_count": 99,
   "metadata": {},
   "outputs": [
    {
     "data": {
      "text/plain": [
       "269"
      ]
     },
     "execution_count": 99,
     "metadata": {},
     "output_type": "execute_result"
    }
   ],
   "source": [
    "# ! problem:\n",
    "# last payment shbould be < cancel_date, **problem: 296 大于cancel date: system problem?**\n",
    "len(df_date[(df_date['cancel_date']<df_date['trial_end_date']) & (df_d['payment_period']!=0)]) # "
   ]
  },
  {
   "cell_type": "code",
   "execution_count": 98,
   "metadata": {},
   "outputs": [
    {
     "data": {
      "text/plain": [
       "0"
      ]
     },
     "execution_count": 98,
     "metadata": {},
     "output_type": "execute_result"
    }
   ],
   "source": [
    "# ! problem:\n",
    "# last payment shbould be < cancel_date, **problem: 296 大于cancel date: system problem?**\n",
    "len(df_date[(df_date['cancel_date']>df_date['trial_end_date']) & (df_d['current_sub_TF']== True) & (df_d['payment_period']==0)])"
   ]
  },
  {
   "cell_type": "code",
   "execution_count": 108,
   "metadata": {},
   "outputs": [],
   "source": [
    "df_date['last_payment_after_next_payment'] = False"
   ]
  },
  {
   "cell_type": "code",
   "execution_count": 110,
   "metadata": {},
   "outputs": [
    {
     "data": {
      "text/plain": [
       "count     227628\n",
       "unique         1\n",
       "top        False\n",
       "freq      227628\n",
       "Name: last_payment_after_next_payment, dtype: object"
      ]
     },
     "execution_count": 110,
     "metadata": {},
     "output_type": "execute_result"
    }
   ],
   "source": [
    "df_date['last_payment_after_next_payment'].describe()"
   ]
  },
  {
   "cell_type": "code",
   "execution_count": 130,
   "metadata": {},
   "outputs": [
    {
     "data": {
      "text/plain": [
       "0"
      ]
     },
     "execution_count": 130,
     "metadata": {},
     "output_type": "execute_result"
    }
   ],
   "source": [
    "len(df_date[df_date['cancel_date'] == y])"
   ]
  },
  {
   "cell_type": "code",
   "execution_count": 132,
   "metadata": {},
   "outputs": [
    {
     "data": {
      "text/plain": [
       "False"
      ]
     },
     "execution_count": 132,
     "metadata": {},
     "output_type": "execute_result"
    }
   ],
   "source": [
    "y =  numpy.datetime64('NaT')\n",
    "y == y"
   ]
  },
  {
   "cell_type": "code",
   "execution_count": 135,
   "metadata": {},
   "outputs": [
    {
     "data": {
      "text/html": [
       "<div>\n",
       "<style scoped>\n",
       "    .dataframe tbody tr th:only-of-type {\n",
       "        vertical-align: middle;\n",
       "    }\n",
       "\n",
       "    .dataframe tbody tr th {\n",
       "        vertical-align: top;\n",
       "    }\n",
       "\n",
       "    .dataframe thead th {\n",
       "        text-align: right;\n",
       "    }\n",
       "</style>\n",
       "<table border=\"1\" class=\"dataframe\">\n",
       "  <thead>\n",
       "    <tr style=\"text-align: right;\">\n",
       "      <th></th>\n",
       "      <th>trial_end_date</th>\n",
       "      <th>last_payment</th>\n",
       "      <th>next_payment</th>\n",
       "      <th>cancel_date</th>\n",
       "      <th>current_sub_TF</th>\n",
       "      <th>trial_completed</th>\n",
       "      <th>payment_period</th>\n",
       "      <th>initial_credit_card_declined</th>\n",
       "      <th>last_payment_before_next_payment</th>\n",
       "      <th>last_payment_after_next_payment</th>\n",
       "    </tr>\n",
       "  </thead>\n",
       "  <tbody>\n",
       "    <tr>\n",
       "      <th>0</th>\n",
       "      <td>2020-02-07 21:44:16</td>\n",
       "      <td>2020-02-07 21:44:16</td>\n",
       "      <td>2020-06-07 21:44:16</td>\n",
       "      <td>NaT</td>\n",
       "      <td>True</td>\n",
       "      <td>True</td>\n",
       "      <td>1</td>\n",
       "      <td>False</td>\n",
       "      <td>True</td>\n",
       "      <td>False</td>\n",
       "    </tr>\n",
       "    <tr>\n",
       "      <th>1</th>\n",
       "      <td>2020-03-15 15:44:35</td>\n",
       "      <td>2020-03-15 15:44:35</td>\n",
       "      <td>2020-07-15 15:44:35</td>\n",
       "      <td>NaT</td>\n",
       "      <td>True</td>\n",
       "      <td>True</td>\n",
       "      <td>1</td>\n",
       "      <td>False</td>\n",
       "      <td>True</td>\n",
       "      <td>False</td>\n",
       "    </tr>\n",
       "    <tr>\n",
       "      <th>2</th>\n",
       "      <td>2019-12-21 16:37:06</td>\n",
       "      <td>NaT</td>\n",
       "      <td>NaT</td>\n",
       "      <td>NaT</td>\n",
       "      <td>False</td>\n",
       "      <td>True</td>\n",
       "      <td>0</td>\n",
       "      <td>False</td>\n",
       "      <td>False</td>\n",
       "      <td>False</td>\n",
       "    </tr>\n",
       "    <tr>\n",
       "      <th>3</th>\n",
       "      <td>2020-02-10 16:09:32</td>\n",
       "      <td>NaT</td>\n",
       "      <td>NaT</td>\n",
       "      <td>NaT</td>\n",
       "      <td>False</td>\n",
       "      <td>True</td>\n",
       "      <td>0</td>\n",
       "      <td>False</td>\n",
       "      <td>False</td>\n",
       "      <td>False</td>\n",
       "    </tr>\n",
       "    <tr>\n",
       "      <th>4</th>\n",
       "      <td>2019-10-19 12:57:07</td>\n",
       "      <td>2020-02-19 12:57:07</td>\n",
       "      <td>2020-06-19 12:57:07</td>\n",
       "      <td>NaT</td>\n",
       "      <td>True</td>\n",
       "      <td>True</td>\n",
       "      <td>2</td>\n",
       "      <td>False</td>\n",
       "      <td>True</td>\n",
       "      <td>False</td>\n",
       "    </tr>\n",
       "  </tbody>\n",
       "</table>\n",
       "</div>"
      ],
      "text/plain": [
       "       trial_end_date        last_payment        next_payment cancel_date  \\\n",
       "0 2020-02-07 21:44:16 2020-02-07 21:44:16 2020-06-07 21:44:16         NaT   \n",
       "1 2020-03-15 15:44:35 2020-03-15 15:44:35 2020-07-15 15:44:35         NaT   \n",
       "2 2019-12-21 16:37:06                 NaT                 NaT         NaT   \n",
       "3 2020-02-10 16:09:32                 NaT                 NaT         NaT   \n",
       "4 2019-10-19 12:57:07 2020-02-19 12:57:07 2020-06-19 12:57:07         NaT   \n",
       "\n",
       "   current_sub_TF  trial_completed  payment_period  \\\n",
       "0            True             True               1   \n",
       "1            True             True               1   \n",
       "2           False             True               0   \n",
       "3           False             True               0   \n",
       "4            True             True               2   \n",
       "\n",
       "   initial_credit_card_declined  last_payment_before_next_payment  \\\n",
       "0                         False                              True   \n",
       "1                         False                              True   \n",
       "2                         False                             False   \n",
       "3                         False                             False   \n",
       "4                         False                              True   \n",
       "\n",
       "   last_payment_after_next_payment  \n",
       "0                            False  \n",
       "1                            False  \n",
       "2                            False  \n",
       "3                            False  \n",
       "4                            False  "
      ]
     },
     "execution_count": 135,
     "metadata": {},
     "output_type": "execute_result"
    }
   ],
   "source": [
    "df_date.head()"
   ]
  },
  {
   "cell_type": "code",
   "execution_count": 134,
   "metadata": {},
   "outputs": [
    {
     "data": {
      "text/plain": [
       "True"
      ]
     },
     "execution_count": 134,
     "metadata": {},
     "output_type": "execute_result"
    }
   ],
   "source": [
    "x = pd.NaT\n",
    "x is x"
   ]
  },
  {
   "cell_type": "code",
   "execution_count": 139,
   "metadata": {},
   "outputs": [
    {
     "data": {
      "text/plain": [
       "False"
      ]
     },
     "execution_count": 139,
     "metadata": {},
     "output_type": "execute_result"
    }
   ],
   "source": [
    "df_date.iloc[0,3]is not x"
   ]
  },
  {
   "cell_type": "code",
   "execution_count": 150,
   "metadata": {},
   "outputs": [
    {
     "data": {
      "text/plain": [
       "121400"
      ]
     },
     "execution_count": 150,
     "metadata": {},
     "output_type": "execute_result"
    }
   ],
   "source": [
    "bill_per = 4\n",
    "df_date['check_np'] = df_date['last_payment']+pd.DateOffset(months=bill_per)\n",
    "sum(df_date['check_np'] == df_date['next_payment']) # true"
   ]
  },
  {
   "cell_type": "code",
   "execution_count": null,
   "metadata": {},
   "outputs": [],
   "source": [
    "# period =0 "
   ]
  },
  {
   "cell_type": "code",
   "execution_count": 219,
   "metadata": {},
   "outputs": [
    {
     "data": {
      "text/plain": [
       "count       0\n",
       "unique      0\n",
       "top       NaN\n",
       "freq      NaN\n",
       "Name: last_payment, dtype: object"
      ]
     },
     "execution_count": 219,
     "metadata": {},
     "output_type": "execute_result"
    }
   ],
   "source": [
    "p0 = df_date[df_date['payment_period'] == 0]\n",
    "p0['last_payment'].describe()"
   ]
  },
  {
   "cell_type": "code",
   "execution_count": null,
   "metadata": {},
   "outputs": [],
   "source": [
    "# payment period = 1"
   ]
  },
  {
   "cell_type": "code",
   "execution_count": 217,
   "metadata": {},
   "outputs": [
    {
     "data": {
      "text/plain": [
       "count                   86968\n",
       "unique                  86607\n",
       "top       2020-03-14 19:26:26\n",
       "freq                        3\n",
       "first     2019-07-14 00:01:45\n",
       "last      2020-03-27 23:54:56\n",
       "Name: last_payment, dtype: object"
      ]
     },
     "execution_count": 217,
     "metadata": {},
     "output_type": "execute_result"
    }
   ],
   "source": [
    "p1 = df_date[df_date['payment_period'] == 1]\n",
    "p1['last_payment'].describe()"
   ]
  },
  {
   "cell_type": "code",
   "execution_count": 218,
   "metadata": {},
   "outputs": [
    {
     "data": {
      "text/plain": [
       "86968"
      ]
     },
     "execution_count": 218,
     "metadata": {},
     "output_type": "execute_result"
    }
   ],
   "source": [
    "sum(p1['last_payment'] == p1['trial_end_date'])"
   ]
  },
  {
   "cell_type": "code",
   "execution_count": null,
   "metadata": {},
   "outputs": [],
   "source": [
    "# period  = 2"
   ]
  },
  {
   "cell_type": "code",
   "execution_count": 209,
   "metadata": {},
   "outputs": [
    {
     "data": {
      "text/plain": [
       "count                   42921\n",
       "unique                  42773\n",
       "top       2020-02-29 12:16:18\n",
       "freq                        3\n",
       "first     2019-11-14 00:17:23\n",
       "last      2020-03-27 23:47:37\n",
       "Name: last_payment, dtype: object"
      ]
     },
     "execution_count": 209,
     "metadata": {},
     "output_type": "execute_result"
    }
   ],
   "source": [
    "p2 = df_date[df_date['payment_period'] == 2]\n",
    "p2['last_payment'].describe()"
   ]
  },
  {
   "cell_type": "code",
   "execution_count": 210,
   "metadata": {},
   "outputs": [
    {
     "data": {
      "text/plain": [
       "42921"
      ]
     },
     "execution_count": 210,
     "metadata": {},
     "output_type": "execute_result"
    }
   ],
   "source": [
    "sum(p2['last_payment'] == p2['trial_end_date']+pd.DateOffset(months= 4))"
   ]
  },
  {
   "cell_type": "code",
   "execution_count": 213,
   "metadata": {},
   "outputs": [
    {
     "data": {
      "text/plain": [
       "count                    2348\n",
       "unique                   2341\n",
       "top       2020-03-17 17:22:41\n",
       "freq                        2\n",
       "first     2020-03-14 00:01:31\n",
       "last      2020-03-27 23:19:39\n",
       "Name: last_payment, dtype: object"
      ]
     },
     "execution_count": 213,
     "metadata": {},
     "output_type": "execute_result"
    }
   ],
   "source": [
    "# period = 3\n",
    "p3 = df_date[df_date['payment_period'] == 3]\n",
    "p3['last_payment'].describe()"
   ]
  },
  {
   "cell_type": "code",
   "execution_count": 214,
   "metadata": {},
   "outputs": [
    {
     "data": {
      "text/plain": [
       "2348"
      ]
     },
     "execution_count": 214,
     "metadata": {},
     "output_type": "execute_result"
    }
   ],
   "source": [
    "sum(p3['last_payment'] == p3['trial_end_date']+pd.DateOffset(months= 8))"
   ]
  },
  {
   "cell_type": "code",
   "execution_count": 247,
   "metadata": {},
   "outputs": [
    {
     "data": {
      "text/plain": [
       "0"
      ]
     },
     "execution_count": 247,
     "metadata": {},
     "output_type": "execute_result"
    }
   ],
   "source": [
    "# cacel_date == trial_end_date, no cases\n",
    "c_e_t = df_date[df_date['cancel_date'] == df_date['trial_end_date']]\n",
    "c_e_t.shape[0]"
   ]
  },
  {
   "cell_type": "code",
   "execution_count": 224,
   "metadata": {},
   "outputs": [
    {
     "data": {
      "text/plain": [
       "27123"
      ]
     },
     "execution_count": 224,
     "metadata": {},
     "output_type": "execute_result"
    }
   ],
   "source": [
    "# cacel_date < trial_end_date, period == 0\n",
    "# want cancel after trial, and they success\n",
    "c_s_t = df_date[df_date['cancel_date'] < df_date['trial_end_date']]\n",
    "sum(c_s_t['payment_period'] == 0)"
   ]
  },
  {
   "cell_type": "code",
   "execution_count": 253,
   "metadata": {},
   "outputs": [
    {
     "name": "stdout",
     "output_type": "stream",
     "text": [
      "<class 'pandas.core.frame.DataFrame'>\n",
      "Int64Index: 27392 entries, 9 to 227627\n",
      "Data columns (total 16 columns):\n",
      " #   Column                            Non-Null Count  Dtype         \n",
      "---  ------                            --------------  -----         \n",
      " 0   trial_end_date                    27392 non-null  datetime64[ns]\n",
      " 1   last_payment                      269 non-null    datetime64[ns]\n",
      " 2   next_payment                      896 non-null    datetime64[ns]\n",
      " 3   cancel_date                       27392 non-null  datetime64[ns]\n",
      " 4   current_sub_TF                    27392 non-null  bool          \n",
      " 5   trial_completed                   27392 non-null  bool          \n",
      " 6   payment_period                    27392 non-null  int64         \n",
      " 7   initial_credit_card_declined      27392 non-null  bool          \n",
      " 8   last_payment_before_next_payment  27392 non-null  bool          \n",
      " 9   last_payment_after_next_payment   27392 non-null  bool          \n",
      " 10  check_np                          269 non-null    datetime64[ns]\n",
      " 11  con2_                             27392 non-null  bool          \n",
      " 12  con2                              27392 non-null  bool          \n",
      " 13  con3                              27392 non-null  datetime64[ns]\n",
      " 14  months                            27392 non-null  int64         \n",
      " 15  a                                 27392 non-null  int64         \n",
      "dtypes: bool(7), datetime64[ns](6), int64(3)\n",
      "memory usage: 2.3 MB\n"
     ]
    }
   ],
   "source": [
    "c_s_t.info()"
   ]
  },
  {
   "cell_type": "code",
   "execution_count": 242,
   "metadata": {},
   "outputs": [
    {
     "data": {
      "text/plain": [
       "269"
      ]
     },
     "execution_count": 242,
     "metadata": {},
     "output_type": "execute_result"
    }
   ],
   "source": [
    "# want cancel after trial, and they failed\n",
    "sum(c_s_t['payment_period'] != 0)"
   ]
  },
  {
   "cell_type": "code",
   "execution_count": 243,
   "metadata": {},
   "outputs": [
    {
     "data": {
      "text/plain": [
       "269"
      ]
     },
     "execution_count": 243,
     "metadata": {},
     "output_type": "execute_result"
    }
   ],
   "source": [
    "# want cancel after trial, and they failed, and they all churn after period =1\n",
    "sum(c_s_t['payment_period'] == 1)"
   ]
  },
  {
   "cell_type": "code",
   "execution_count": 254,
   "metadata": {},
   "outputs": [
    {
     "data": {
      "text/plain": [
       "27392"
      ]
     },
     "execution_count": 254,
     "metadata": {},
     "output_type": "execute_result"
    }
   ],
   "source": [
    "27123+269"
   ]
  },
  {
   "cell_type": "code",
   "execution_count": 256,
   "metadata": {},
   "outputs": [
    {
     "data": {
      "text/plain": [
       "36831"
      ]
     },
     "execution_count": 256,
     "metadata": {},
     "output_type": "execute_result"
    }
   ],
   "source": [
    "27392+9439"
   ]
  },
  {
   "cell_type": "code",
   "execution_count": 323,
   "metadata": {},
   "outputs": [
    {
     "data": {
      "text/plain": [
       "9394"
      ]
     },
     "execution_count": 323,
     "metadata": {},
     "output_type": "execute_result"
    }
   ],
   "source": [
    "# cancel_date > trial_end_date: last_payment+4 months > cancel_date > last_payment\n",
    "c_l_t = df_date[df_date['cancel_date'] > df_date['trial_end_date']]\n",
    "sum((c_l_t['cancel_date'] > c_l_t['last_payment']) & (c_l_t['cancel_date'] < (c_l_t['last_payment']+ pd.DateOffset(months= 4))))"
   ]
  },
  {
   "cell_type": "code",
   "execution_count": 293,
   "metadata": {},
   "outputs": [
    {
     "name": "stdout",
     "output_type": "stream",
     "text": [
      "<class 'pandas.core.frame.DataFrame'>\n",
      "Int64Index: 9439 entries, 10 to 227579\n",
      "Data columns (total 16 columns):\n",
      " #   Column                            Non-Null Count  Dtype         \n",
      "---  ------                            --------------  -----         \n",
      " 0   trial_end_date                    9439 non-null   datetime64[ns]\n",
      " 1   last_payment                      9421 non-null   datetime64[ns]\n",
      " 2   next_payment                      0 non-null      datetime64[ns]\n",
      " 3   cancel_date                       9439 non-null   datetime64[ns]\n",
      " 4   current_sub_TF                    9439 non-null   bool          \n",
      " 5   trial_completed                   9439 non-null   bool          \n",
      " 6   payment_period                    9439 non-null   int64         \n",
      " 7   initial_credit_card_declined      9439 non-null   bool          \n",
      " 8   last_payment_before_next_payment  9439 non-null   bool          \n",
      " 9   last_payment_after_next_payment   9439 non-null   bool          \n",
      " 10  check_np                          9421 non-null   datetime64[ns]\n",
      " 11  con2_                             9439 non-null   bool          \n",
      " 12  con2                              9439 non-null   bool          \n",
      " 13  con3                              9439 non-null   datetime64[ns]\n",
      " 14  months                            9439 non-null   int64         \n",
      " 15  a                                 9439 non-null   int64         \n",
      "dtypes: bool(7), datetime64[ns](6), int64(3)\n",
      "memory usage: 801.9 KB\n"
     ]
    }
   ],
   "source": [
    "c_l_t.info()"
   ]
  },
  {
   "cell_type": "code",
   "execution_count": 295,
   "metadata": {},
   "outputs": [
    {
     "data": {
      "text/plain": [
       "count    27.0\n",
       "mean      2.0\n",
       "std       0.0\n",
       "min       2.0\n",
       "25%       2.0\n",
       "50%       2.0\n",
       "75%       2.0\n",
       "max       2.0\n",
       "Name: payment_period, dtype: float64"
      ]
     },
     "execution_count": 295,
     "metadata": {},
     "output_type": "execute_result"
    }
   ],
   "source": [
    "# cancel_date > trial_end_date , cancel_date < last_paymentm period  == 2\n",
    "c_l_t[(c_l_t['cancel_date'] < c_l_t['last_payment'])].payment_period.describe()"
   ]
  },
  {
   "cell_type": "code",
   "execution_count": 296,
   "metadata": {},
   "outputs": [
    {
     "data": {
      "text/html": [
       "<div>\n",
       "<style scoped>\n",
       "    .dataframe tbody tr th:only-of-type {\n",
       "        vertical-align: middle;\n",
       "    }\n",
       "\n",
       "    .dataframe tbody tr th {\n",
       "        vertical-align: top;\n",
       "    }\n",
       "\n",
       "    .dataframe thead th {\n",
       "        text-align: right;\n",
       "    }\n",
       "</style>\n",
       "<table border=\"1\" class=\"dataframe\">\n",
       "  <thead>\n",
       "    <tr style=\"text-align: right;\">\n",
       "      <th></th>\n",
       "      <th>trial_end_date</th>\n",
       "      <th>last_payment</th>\n",
       "      <th>next_payment</th>\n",
       "      <th>cancel_date</th>\n",
       "      <th>current_sub_TF</th>\n",
       "      <th>trial_completed</th>\n",
       "      <th>payment_period</th>\n",
       "      <th>initial_credit_card_declined</th>\n",
       "      <th>last_payment_before_next_payment</th>\n",
       "      <th>last_payment_after_next_payment</th>\n",
       "      <th>check_np</th>\n",
       "      <th>con2_</th>\n",
       "      <th>con2</th>\n",
       "      <th>con3</th>\n",
       "      <th>months</th>\n",
       "      <th>a</th>\n",
       "    </tr>\n",
       "  </thead>\n",
       "  <tbody>\n",
       "    <tr>\n",
       "      <th>971</th>\n",
       "      <td>2019-07-19 19:56:55</td>\n",
       "      <td>2019-11-19 19:56:55</td>\n",
       "      <td>NaT</td>\n",
       "      <td>2019-11-19</td>\n",
       "      <td>False</td>\n",
       "      <td>True</td>\n",
       "      <td>2</td>\n",
       "      <td>False</td>\n",
       "      <td>False</td>\n",
       "      <td>False</td>\n",
       "      <td>2020-03-19 19:56:55</td>\n",
       "      <td>False</td>\n",
       "      <td>False</td>\n",
       "      <td>2020-03-19 07:49:43</td>\n",
       "      <td>8</td>\n",
       "      <td>8</td>\n",
       "    </tr>\n",
       "    <tr>\n",
       "      <th>19219</th>\n",
       "      <td>2019-07-26 14:26:18</td>\n",
       "      <td>2019-11-26 14:26:18</td>\n",
       "      <td>NaT</td>\n",
       "      <td>2019-11-26</td>\n",
       "      <td>False</td>\n",
       "      <td>True</td>\n",
       "      <td>2</td>\n",
       "      <td>False</td>\n",
       "      <td>False</td>\n",
       "      <td>False</td>\n",
       "      <td>2020-03-26 14:26:18</td>\n",
       "      <td>False</td>\n",
       "      <td>False</td>\n",
       "      <td>2020-03-26 02:19:06</td>\n",
       "      <td>8</td>\n",
       "      <td>8</td>\n",
       "    </tr>\n",
       "    <tr>\n",
       "      <th>21633</th>\n",
       "      <td>2019-07-15 14:10:28</td>\n",
       "      <td>2019-11-15 14:10:28</td>\n",
       "      <td>NaT</td>\n",
       "      <td>2019-11-15</td>\n",
       "      <td>False</td>\n",
       "      <td>True</td>\n",
       "      <td>2</td>\n",
       "      <td>False</td>\n",
       "      <td>False</td>\n",
       "      <td>False</td>\n",
       "      <td>2020-03-15 14:10:28</td>\n",
       "      <td>False</td>\n",
       "      <td>False</td>\n",
       "      <td>2020-03-15 02:03:16</td>\n",
       "      <td>8</td>\n",
       "      <td>8</td>\n",
       "    </tr>\n",
       "    <tr>\n",
       "      <th>27805</th>\n",
       "      <td>2019-07-14 20:05:24</td>\n",
       "      <td>2019-11-14 20:05:24</td>\n",
       "      <td>NaT</td>\n",
       "      <td>2019-11-14</td>\n",
       "      <td>False</td>\n",
       "      <td>True</td>\n",
       "      <td>2</td>\n",
       "      <td>False</td>\n",
       "      <td>False</td>\n",
       "      <td>False</td>\n",
       "      <td>2020-03-14 20:05:24</td>\n",
       "      <td>False</td>\n",
       "      <td>False</td>\n",
       "      <td>2020-03-14 07:58:12</td>\n",
       "      <td>8</td>\n",
       "      <td>8</td>\n",
       "    </tr>\n",
       "    <tr>\n",
       "      <th>35403</th>\n",
       "      <td>2019-07-17 20:15:23</td>\n",
       "      <td>2019-11-17 20:15:23</td>\n",
       "      <td>NaT</td>\n",
       "      <td>2019-11-17</td>\n",
       "      <td>False</td>\n",
       "      <td>True</td>\n",
       "      <td>2</td>\n",
       "      <td>False</td>\n",
       "      <td>False</td>\n",
       "      <td>False</td>\n",
       "      <td>2020-03-17 20:15:23</td>\n",
       "      <td>False</td>\n",
       "      <td>False</td>\n",
       "      <td>2020-03-17 08:08:11</td>\n",
       "      <td>8</td>\n",
       "      <td>8</td>\n",
       "    </tr>\n",
       "    <tr>\n",
       "      <th>38732</th>\n",
       "      <td>2019-07-20 18:26:49</td>\n",
       "      <td>2019-11-20 18:26:49</td>\n",
       "      <td>NaT</td>\n",
       "      <td>2019-11-20</td>\n",
       "      <td>False</td>\n",
       "      <td>True</td>\n",
       "      <td>2</td>\n",
       "      <td>False</td>\n",
       "      <td>False</td>\n",
       "      <td>False</td>\n",
       "      <td>2020-03-20 18:26:49</td>\n",
       "      <td>False</td>\n",
       "      <td>False</td>\n",
       "      <td>2020-03-20 06:19:37</td>\n",
       "      <td>8</td>\n",
       "      <td>8</td>\n",
       "    </tr>\n",
       "    <tr>\n",
       "      <th>41572</th>\n",
       "      <td>2019-07-14 19:54:27</td>\n",
       "      <td>2019-11-14 19:54:27</td>\n",
       "      <td>NaT</td>\n",
       "      <td>2019-11-14</td>\n",
       "      <td>False</td>\n",
       "      <td>True</td>\n",
       "      <td>2</td>\n",
       "      <td>False</td>\n",
       "      <td>False</td>\n",
       "      <td>False</td>\n",
       "      <td>2020-03-14 19:54:27</td>\n",
       "      <td>False</td>\n",
       "      <td>False</td>\n",
       "      <td>2020-03-14 07:47:15</td>\n",
       "      <td>8</td>\n",
       "      <td>8</td>\n",
       "    </tr>\n",
       "    <tr>\n",
       "      <th>49263</th>\n",
       "      <td>2019-07-26 15:20:54</td>\n",
       "      <td>2019-11-26 15:20:54</td>\n",
       "      <td>NaT</td>\n",
       "      <td>2019-11-26</td>\n",
       "      <td>False</td>\n",
       "      <td>True</td>\n",
       "      <td>2</td>\n",
       "      <td>False</td>\n",
       "      <td>False</td>\n",
       "      <td>False</td>\n",
       "      <td>2020-03-26 15:20:54</td>\n",
       "      <td>False</td>\n",
       "      <td>False</td>\n",
       "      <td>2020-03-26 03:13:42</td>\n",
       "      <td>8</td>\n",
       "      <td>8</td>\n",
       "    </tr>\n",
       "    <tr>\n",
       "      <th>65559</th>\n",
       "      <td>2019-07-26 12:49:30</td>\n",
       "      <td>2019-11-26 12:49:30</td>\n",
       "      <td>NaT</td>\n",
       "      <td>2019-11-26</td>\n",
       "      <td>False</td>\n",
       "      <td>True</td>\n",
       "      <td>2</td>\n",
       "      <td>False</td>\n",
       "      <td>False</td>\n",
       "      <td>False</td>\n",
       "      <td>2020-03-26 12:49:30</td>\n",
       "      <td>False</td>\n",
       "      <td>False</td>\n",
       "      <td>2020-03-26 00:42:18</td>\n",
       "      <td>8</td>\n",
       "      <td>8</td>\n",
       "    </tr>\n",
       "    <tr>\n",
       "      <th>71992</th>\n",
       "      <td>2019-07-17 23:18:42</td>\n",
       "      <td>2019-11-17 23:18:42</td>\n",
       "      <td>NaT</td>\n",
       "      <td>2019-11-17</td>\n",
       "      <td>False</td>\n",
       "      <td>True</td>\n",
       "      <td>2</td>\n",
       "      <td>True</td>\n",
       "      <td>False</td>\n",
       "      <td>False</td>\n",
       "      <td>2020-03-17 23:18:42</td>\n",
       "      <td>False</td>\n",
       "      <td>False</td>\n",
       "      <td>2020-03-17 11:11:30</td>\n",
       "      <td>8</td>\n",
       "      <td>8</td>\n",
       "    </tr>\n",
       "    <tr>\n",
       "      <th>72935</th>\n",
       "      <td>2019-07-21 03:20:56</td>\n",
       "      <td>2019-11-21 03:20:56</td>\n",
       "      <td>NaT</td>\n",
       "      <td>2019-11-21</td>\n",
       "      <td>False</td>\n",
       "      <td>True</td>\n",
       "      <td>2</td>\n",
       "      <td>False</td>\n",
       "      <td>False</td>\n",
       "      <td>False</td>\n",
       "      <td>2020-03-21 03:20:56</td>\n",
       "      <td>False</td>\n",
       "      <td>False</td>\n",
       "      <td>2020-03-20 15:13:44</td>\n",
       "      <td>8</td>\n",
       "      <td>8</td>\n",
       "    </tr>\n",
       "    <tr>\n",
       "      <th>77190</th>\n",
       "      <td>2019-07-22 02:35:21</td>\n",
       "      <td>2019-11-22 02:35:21</td>\n",
       "      <td>NaT</td>\n",
       "      <td>2019-11-22</td>\n",
       "      <td>False</td>\n",
       "      <td>True</td>\n",
       "      <td>2</td>\n",
       "      <td>False</td>\n",
       "      <td>False</td>\n",
       "      <td>False</td>\n",
       "      <td>2020-03-22 02:35:21</td>\n",
       "      <td>False</td>\n",
       "      <td>False</td>\n",
       "      <td>2020-03-21 14:28:09</td>\n",
       "      <td>8</td>\n",
       "      <td>8</td>\n",
       "    </tr>\n",
       "    <tr>\n",
       "      <th>95240</th>\n",
       "      <td>2019-07-20 22:25:18</td>\n",
       "      <td>2019-11-20 22:25:18</td>\n",
       "      <td>NaT</td>\n",
       "      <td>2019-11-20</td>\n",
       "      <td>False</td>\n",
       "      <td>True</td>\n",
       "      <td>2</td>\n",
       "      <td>False</td>\n",
       "      <td>False</td>\n",
       "      <td>False</td>\n",
       "      <td>2020-03-20 22:25:18</td>\n",
       "      <td>False</td>\n",
       "      <td>False</td>\n",
       "      <td>2020-03-20 10:18:06</td>\n",
       "      <td>8</td>\n",
       "      <td>8</td>\n",
       "    </tr>\n",
       "    <tr>\n",
       "      <th>101635</th>\n",
       "      <td>2019-07-14 00:40:06</td>\n",
       "      <td>2019-11-14 00:40:06</td>\n",
       "      <td>NaT</td>\n",
       "      <td>2019-11-14</td>\n",
       "      <td>False</td>\n",
       "      <td>True</td>\n",
       "      <td>2</td>\n",
       "      <td>False</td>\n",
       "      <td>False</td>\n",
       "      <td>False</td>\n",
       "      <td>2020-03-14 00:40:06</td>\n",
       "      <td>False</td>\n",
       "      <td>False</td>\n",
       "      <td>2020-03-13 12:32:54</td>\n",
       "      <td>8</td>\n",
       "      <td>8</td>\n",
       "    </tr>\n",
       "    <tr>\n",
       "      <th>104476</th>\n",
       "      <td>2019-07-15 02:41:37</td>\n",
       "      <td>2019-11-15 02:41:37</td>\n",
       "      <td>NaT</td>\n",
       "      <td>2019-11-15</td>\n",
       "      <td>False</td>\n",
       "      <td>True</td>\n",
       "      <td>2</td>\n",
       "      <td>False</td>\n",
       "      <td>False</td>\n",
       "      <td>False</td>\n",
       "      <td>2020-03-15 02:41:37</td>\n",
       "      <td>False</td>\n",
       "      <td>False</td>\n",
       "      <td>2020-03-14 14:34:25</td>\n",
       "      <td>8</td>\n",
       "      <td>8</td>\n",
       "    </tr>\n",
       "    <tr>\n",
       "      <th>107358</th>\n",
       "      <td>2019-07-17 00:49:39</td>\n",
       "      <td>2019-11-17 00:49:39</td>\n",
       "      <td>NaT</td>\n",
       "      <td>2019-11-17</td>\n",
       "      <td>False</td>\n",
       "      <td>True</td>\n",
       "      <td>2</td>\n",
       "      <td>False</td>\n",
       "      <td>False</td>\n",
       "      <td>False</td>\n",
       "      <td>2020-03-17 00:49:39</td>\n",
       "      <td>False</td>\n",
       "      <td>False</td>\n",
       "      <td>2020-03-16 12:42:27</td>\n",
       "      <td>8</td>\n",
       "      <td>8</td>\n",
       "    </tr>\n",
       "    <tr>\n",
       "      <th>109614</th>\n",
       "      <td>2019-07-16 07:09:12</td>\n",
       "      <td>2019-11-16 07:09:12</td>\n",
       "      <td>NaT</td>\n",
       "      <td>2019-11-16</td>\n",
       "      <td>False</td>\n",
       "      <td>True</td>\n",
       "      <td>2</td>\n",
       "      <td>False</td>\n",
       "      <td>False</td>\n",
       "      <td>False</td>\n",
       "      <td>2020-03-16 07:09:12</td>\n",
       "      <td>False</td>\n",
       "      <td>False</td>\n",
       "      <td>2020-03-15 19:02:00</td>\n",
       "      <td>8</td>\n",
       "      <td>8</td>\n",
       "    </tr>\n",
       "    <tr>\n",
       "      <th>113654</th>\n",
       "      <td>2019-07-19 17:52:08</td>\n",
       "      <td>2019-11-19 17:52:08</td>\n",
       "      <td>NaT</td>\n",
       "      <td>2019-11-19</td>\n",
       "      <td>False</td>\n",
       "      <td>True</td>\n",
       "      <td>2</td>\n",
       "      <td>False</td>\n",
       "      <td>False</td>\n",
       "      <td>False</td>\n",
       "      <td>2020-03-19 17:52:08</td>\n",
       "      <td>False</td>\n",
       "      <td>False</td>\n",
       "      <td>2020-03-19 05:44:56</td>\n",
       "      <td>8</td>\n",
       "      <td>8</td>\n",
       "    </tr>\n",
       "    <tr>\n",
       "      <th>117198</th>\n",
       "      <td>2019-07-16 19:44:52</td>\n",
       "      <td>2019-11-16 19:44:52</td>\n",
       "      <td>NaT</td>\n",
       "      <td>2019-11-16</td>\n",
       "      <td>False</td>\n",
       "      <td>True</td>\n",
       "      <td>2</td>\n",
       "      <td>False</td>\n",
       "      <td>False</td>\n",
       "      <td>False</td>\n",
       "      <td>2020-03-16 19:44:52</td>\n",
       "      <td>False</td>\n",
       "      <td>False</td>\n",
       "      <td>2020-03-16 07:37:40</td>\n",
       "      <td>8</td>\n",
       "      <td>8</td>\n",
       "    </tr>\n",
       "    <tr>\n",
       "      <th>124865</th>\n",
       "      <td>2019-07-24 17:14:08</td>\n",
       "      <td>2019-11-24 17:14:08</td>\n",
       "      <td>NaT</td>\n",
       "      <td>2019-11-24</td>\n",
       "      <td>False</td>\n",
       "      <td>True</td>\n",
       "      <td>2</td>\n",
       "      <td>False</td>\n",
       "      <td>False</td>\n",
       "      <td>False</td>\n",
       "      <td>2020-03-24 17:14:08</td>\n",
       "      <td>False</td>\n",
       "      <td>False</td>\n",
       "      <td>2020-03-24 05:06:56</td>\n",
       "      <td>8</td>\n",
       "      <td>8</td>\n",
       "    </tr>\n",
       "    <tr>\n",
       "      <th>125020</th>\n",
       "      <td>2019-07-22 19:06:35</td>\n",
       "      <td>2019-11-22 19:06:35</td>\n",
       "      <td>NaT</td>\n",
       "      <td>2019-11-22</td>\n",
       "      <td>False</td>\n",
       "      <td>True</td>\n",
       "      <td>2</td>\n",
       "      <td>True</td>\n",
       "      <td>False</td>\n",
       "      <td>False</td>\n",
       "      <td>2020-03-22 19:06:35</td>\n",
       "      <td>False</td>\n",
       "      <td>False</td>\n",
       "      <td>2020-03-22 06:59:23</td>\n",
       "      <td>8</td>\n",
       "      <td>8</td>\n",
       "    </tr>\n",
       "    <tr>\n",
       "      <th>138389</th>\n",
       "      <td>2019-07-17 05:10:21</td>\n",
       "      <td>2019-11-17 05:10:21</td>\n",
       "      <td>NaT</td>\n",
       "      <td>2019-11-17</td>\n",
       "      <td>False</td>\n",
       "      <td>True</td>\n",
       "      <td>2</td>\n",
       "      <td>False</td>\n",
       "      <td>False</td>\n",
       "      <td>False</td>\n",
       "      <td>2020-03-17 05:10:21</td>\n",
       "      <td>False</td>\n",
       "      <td>False</td>\n",
       "      <td>2020-03-16 17:03:09</td>\n",
       "      <td>8</td>\n",
       "      <td>8</td>\n",
       "    </tr>\n",
       "    <tr>\n",
       "      <th>176930</th>\n",
       "      <td>2019-07-22 02:18:29</td>\n",
       "      <td>2019-11-22 02:18:29</td>\n",
       "      <td>NaT</td>\n",
       "      <td>2019-11-22</td>\n",
       "      <td>False</td>\n",
       "      <td>True</td>\n",
       "      <td>2</td>\n",
       "      <td>False</td>\n",
       "      <td>False</td>\n",
       "      <td>False</td>\n",
       "      <td>2020-03-22 02:18:29</td>\n",
       "      <td>False</td>\n",
       "      <td>False</td>\n",
       "      <td>2020-03-21 14:11:17</td>\n",
       "      <td>8</td>\n",
       "      <td>8</td>\n",
       "    </tr>\n",
       "    <tr>\n",
       "      <th>181306</th>\n",
       "      <td>2019-07-15 17:02:31</td>\n",
       "      <td>2019-11-15 17:02:31</td>\n",
       "      <td>NaT</td>\n",
       "      <td>2019-11-15</td>\n",
       "      <td>False</td>\n",
       "      <td>True</td>\n",
       "      <td>2</td>\n",
       "      <td>False</td>\n",
       "      <td>False</td>\n",
       "      <td>False</td>\n",
       "      <td>2020-03-15 17:02:31</td>\n",
       "      <td>False</td>\n",
       "      <td>False</td>\n",
       "      <td>2020-03-15 04:55:19</td>\n",
       "      <td>8</td>\n",
       "      <td>8</td>\n",
       "    </tr>\n",
       "    <tr>\n",
       "      <th>181869</th>\n",
       "      <td>2019-07-20 20:49:45</td>\n",
       "      <td>2019-11-20 20:49:45</td>\n",
       "      <td>NaT</td>\n",
       "      <td>2019-11-20</td>\n",
       "      <td>False</td>\n",
       "      <td>True</td>\n",
       "      <td>2</td>\n",
       "      <td>False</td>\n",
       "      <td>False</td>\n",
       "      <td>False</td>\n",
       "      <td>2020-03-20 20:49:45</td>\n",
       "      <td>False</td>\n",
       "      <td>False</td>\n",
       "      <td>2020-03-20 08:42:33</td>\n",
       "      <td>8</td>\n",
       "      <td>8</td>\n",
       "    </tr>\n",
       "    <tr>\n",
       "      <th>184656</th>\n",
       "      <td>2019-07-14 19:27:14</td>\n",
       "      <td>2019-11-14 19:27:14</td>\n",
       "      <td>NaT</td>\n",
       "      <td>2019-11-14</td>\n",
       "      <td>False</td>\n",
       "      <td>True</td>\n",
       "      <td>2</td>\n",
       "      <td>False</td>\n",
       "      <td>False</td>\n",
       "      <td>False</td>\n",
       "      <td>2020-03-14 19:27:14</td>\n",
       "      <td>False</td>\n",
       "      <td>False</td>\n",
       "      <td>2020-03-14 07:20:02</td>\n",
       "      <td>8</td>\n",
       "      <td>8</td>\n",
       "    </tr>\n",
       "    <tr>\n",
       "      <th>225439</th>\n",
       "      <td>2019-07-26 10:59:04</td>\n",
       "      <td>2019-11-26 10:59:04</td>\n",
       "      <td>NaT</td>\n",
       "      <td>2019-11-26</td>\n",
       "      <td>False</td>\n",
       "      <td>True</td>\n",
       "      <td>2</td>\n",
       "      <td>False</td>\n",
       "      <td>False</td>\n",
       "      <td>False</td>\n",
       "      <td>2020-03-26 10:59:04</td>\n",
       "      <td>False</td>\n",
       "      <td>False</td>\n",
       "      <td>2020-03-25 22:51:52</td>\n",
       "      <td>8</td>\n",
       "      <td>8</td>\n",
       "    </tr>\n",
       "  </tbody>\n",
       "</table>\n",
       "</div>"
      ],
      "text/plain": [
       "            trial_end_date        last_payment next_payment cancel_date  \\\n",
       "971    2019-07-19 19:56:55 2019-11-19 19:56:55          NaT  2019-11-19   \n",
       "19219  2019-07-26 14:26:18 2019-11-26 14:26:18          NaT  2019-11-26   \n",
       "21633  2019-07-15 14:10:28 2019-11-15 14:10:28          NaT  2019-11-15   \n",
       "27805  2019-07-14 20:05:24 2019-11-14 20:05:24          NaT  2019-11-14   \n",
       "35403  2019-07-17 20:15:23 2019-11-17 20:15:23          NaT  2019-11-17   \n",
       "38732  2019-07-20 18:26:49 2019-11-20 18:26:49          NaT  2019-11-20   \n",
       "41572  2019-07-14 19:54:27 2019-11-14 19:54:27          NaT  2019-11-14   \n",
       "49263  2019-07-26 15:20:54 2019-11-26 15:20:54          NaT  2019-11-26   \n",
       "65559  2019-07-26 12:49:30 2019-11-26 12:49:30          NaT  2019-11-26   \n",
       "71992  2019-07-17 23:18:42 2019-11-17 23:18:42          NaT  2019-11-17   \n",
       "72935  2019-07-21 03:20:56 2019-11-21 03:20:56          NaT  2019-11-21   \n",
       "77190  2019-07-22 02:35:21 2019-11-22 02:35:21          NaT  2019-11-22   \n",
       "95240  2019-07-20 22:25:18 2019-11-20 22:25:18          NaT  2019-11-20   \n",
       "101635 2019-07-14 00:40:06 2019-11-14 00:40:06          NaT  2019-11-14   \n",
       "104476 2019-07-15 02:41:37 2019-11-15 02:41:37          NaT  2019-11-15   \n",
       "107358 2019-07-17 00:49:39 2019-11-17 00:49:39          NaT  2019-11-17   \n",
       "109614 2019-07-16 07:09:12 2019-11-16 07:09:12          NaT  2019-11-16   \n",
       "113654 2019-07-19 17:52:08 2019-11-19 17:52:08          NaT  2019-11-19   \n",
       "117198 2019-07-16 19:44:52 2019-11-16 19:44:52          NaT  2019-11-16   \n",
       "124865 2019-07-24 17:14:08 2019-11-24 17:14:08          NaT  2019-11-24   \n",
       "125020 2019-07-22 19:06:35 2019-11-22 19:06:35          NaT  2019-11-22   \n",
       "138389 2019-07-17 05:10:21 2019-11-17 05:10:21          NaT  2019-11-17   \n",
       "176930 2019-07-22 02:18:29 2019-11-22 02:18:29          NaT  2019-11-22   \n",
       "181306 2019-07-15 17:02:31 2019-11-15 17:02:31          NaT  2019-11-15   \n",
       "181869 2019-07-20 20:49:45 2019-11-20 20:49:45          NaT  2019-11-20   \n",
       "184656 2019-07-14 19:27:14 2019-11-14 19:27:14          NaT  2019-11-14   \n",
       "225439 2019-07-26 10:59:04 2019-11-26 10:59:04          NaT  2019-11-26   \n",
       "\n",
       "        current_sub_TF  trial_completed  payment_period  \\\n",
       "971              False             True               2   \n",
       "19219            False             True               2   \n",
       "21633            False             True               2   \n",
       "27805            False             True               2   \n",
       "35403            False             True               2   \n",
       "38732            False             True               2   \n",
       "41572            False             True               2   \n",
       "49263            False             True               2   \n",
       "65559            False             True               2   \n",
       "71992            False             True               2   \n",
       "72935            False             True               2   \n",
       "77190            False             True               2   \n",
       "95240            False             True               2   \n",
       "101635           False             True               2   \n",
       "104476           False             True               2   \n",
       "107358           False             True               2   \n",
       "109614           False             True               2   \n",
       "113654           False             True               2   \n",
       "117198           False             True               2   \n",
       "124865           False             True               2   \n",
       "125020           False             True               2   \n",
       "138389           False             True               2   \n",
       "176930           False             True               2   \n",
       "181306           False             True               2   \n",
       "181869           False             True               2   \n",
       "184656           False             True               2   \n",
       "225439           False             True               2   \n",
       "\n",
       "        initial_credit_card_declined  last_payment_before_next_payment  \\\n",
       "971                            False                             False   \n",
       "19219                          False                             False   \n",
       "21633                          False                             False   \n",
       "27805                          False                             False   \n",
       "35403                          False                             False   \n",
       "38732                          False                             False   \n",
       "41572                          False                             False   \n",
       "49263                          False                             False   \n",
       "65559                          False                             False   \n",
       "71992                           True                             False   \n",
       "72935                          False                             False   \n",
       "77190                          False                             False   \n",
       "95240                          False                             False   \n",
       "101635                         False                             False   \n",
       "104476                         False                             False   \n",
       "107358                         False                             False   \n",
       "109614                         False                             False   \n",
       "113654                         False                             False   \n",
       "117198                         False                             False   \n",
       "124865                         False                             False   \n",
       "125020                          True                             False   \n",
       "138389                         False                             False   \n",
       "176930                         False                             False   \n",
       "181306                         False                             False   \n",
       "181869                         False                             False   \n",
       "184656                         False                             False   \n",
       "225439                         False                             False   \n",
       "\n",
       "        last_payment_after_next_payment            check_np  con2_   con2  \\\n",
       "971                               False 2020-03-19 19:56:55  False  False   \n",
       "19219                             False 2020-03-26 14:26:18  False  False   \n",
       "21633                             False 2020-03-15 14:10:28  False  False   \n",
       "27805                             False 2020-03-14 20:05:24  False  False   \n",
       "35403                             False 2020-03-17 20:15:23  False  False   \n",
       "38732                             False 2020-03-20 18:26:49  False  False   \n",
       "41572                             False 2020-03-14 19:54:27  False  False   \n",
       "49263                             False 2020-03-26 15:20:54  False  False   \n",
       "65559                             False 2020-03-26 12:49:30  False  False   \n",
       "71992                             False 2020-03-17 23:18:42  False  False   \n",
       "72935                             False 2020-03-21 03:20:56  False  False   \n",
       "77190                             False 2020-03-22 02:35:21  False  False   \n",
       "95240                             False 2020-03-20 22:25:18  False  False   \n",
       "101635                            False 2020-03-14 00:40:06  False  False   \n",
       "104476                            False 2020-03-15 02:41:37  False  False   \n",
       "107358                            False 2020-03-17 00:49:39  False  False   \n",
       "109614                            False 2020-03-16 07:09:12  False  False   \n",
       "113654                            False 2020-03-19 17:52:08  False  False   \n",
       "117198                            False 2020-03-16 19:44:52  False  False   \n",
       "124865                            False 2020-03-24 17:14:08  False  False   \n",
       "125020                            False 2020-03-22 19:06:35  False  False   \n",
       "138389                            False 2020-03-17 05:10:21  False  False   \n",
       "176930                            False 2020-03-22 02:18:29  False  False   \n",
       "181306                            False 2020-03-15 17:02:31  False  False   \n",
       "181869                            False 2020-03-20 20:49:45  False  False   \n",
       "184656                            False 2020-03-14 19:27:14  False  False   \n",
       "225439                            False 2020-03-26 10:59:04  False  False   \n",
       "\n",
       "                      con3  months  a  \n",
       "971    2020-03-19 07:49:43       8  8  \n",
       "19219  2020-03-26 02:19:06       8  8  \n",
       "21633  2020-03-15 02:03:16       8  8  \n",
       "27805  2020-03-14 07:58:12       8  8  \n",
       "35403  2020-03-17 08:08:11       8  8  \n",
       "38732  2020-03-20 06:19:37       8  8  \n",
       "41572  2020-03-14 07:47:15       8  8  \n",
       "49263  2020-03-26 03:13:42       8  8  \n",
       "65559  2020-03-26 00:42:18       8  8  \n",
       "71992  2020-03-17 11:11:30       8  8  \n",
       "72935  2020-03-20 15:13:44       8  8  \n",
       "77190  2020-03-21 14:28:09       8  8  \n",
       "95240  2020-03-20 10:18:06       8  8  \n",
       "101635 2020-03-13 12:32:54       8  8  \n",
       "104476 2020-03-14 14:34:25       8  8  \n",
       "107358 2020-03-16 12:42:27       8  8  \n",
       "109614 2020-03-15 19:02:00       8  8  \n",
       "113654 2020-03-19 05:44:56       8  8  \n",
       "117198 2020-03-16 07:37:40       8  8  \n",
       "124865 2020-03-24 05:06:56       8  8  \n",
       "125020 2020-03-22 06:59:23       8  8  \n",
       "138389 2020-03-16 17:03:09       8  8  \n",
       "176930 2020-03-21 14:11:17       8  8  \n",
       "181306 2020-03-15 04:55:19       8  8  \n",
       "181869 2020-03-20 08:42:33       8  8  \n",
       "184656 2020-03-14 07:20:02       8  8  \n",
       "225439 2020-03-25 22:51:52       8  8  "
      ]
     },
     "execution_count": 296,
     "metadata": {},
     "output_type": "execute_result"
    }
   ],
   "source": [
    "c_l_t[(c_l_t['cancel_date'] < c_l_t['last_payment'])]\n",
    "# they cancel at the date of last_payment date, but cancel_date time =  0:00, therefore < last_payment"
   ]
  },
  {
   "cell_type": "code",
   "execution_count": 287,
   "metadata": {},
   "outputs": [
    {
     "data": {
      "text/plain": [
       "45"
      ]
     },
     "execution_count": 287,
     "metadata": {},
     "output_type": "execute_result"
    }
   ],
   "source": [
    "9439-9394"
   ]
  },
  {
   "cell_type": "code",
   "execution_count": 288,
   "metadata": {},
   "outputs": [
    {
     "data": {
      "text/plain": [
       "18"
      ]
     },
     "execution_count": 288,
     "metadata": {},
     "output_type": "execute_result"
    }
   ],
   "source": [
    "9439-9421"
   ]
  },
  {
   "cell_type": "code",
   "execution_count": 289,
   "metadata": {},
   "outputs": [
    {
     "data": {
      "text/plain": [
       "45"
      ]
     },
     "execution_count": 289,
     "metadata": {},
     "output_type": "execute_result"
    }
   ],
   "source": [
    "27+ 18"
   ]
  },
  {
   "cell_type": "code",
   "execution_count": 335,
   "metadata": {},
   "outputs": [],
   "source": [
    "#df2['one'].fillna('missing')\n",
    "# df2.loc[['a', 'c', 'h'], ['one', 'timestamp']] = np.nan\n",
    "dfr = c_l_t.copy()\n",
    "rest18 = dfr[dfr['last_payment'].isna()]\n",
    "# rest18.groupby('payment_period')['cancel_date'].agg('count')"
   ]
  },
  {
   "cell_type": "code",
   "execution_count": 336,
   "metadata": {},
   "outputs": [
    {
     "data": {
      "text/plain": [
       "payment_period\n",
       "0    18\n",
       "Name: cancel_date, dtype: int64"
      ]
     },
     "execution_count": 336,
     "metadata": {},
     "output_type": "execute_result"
    }
   ],
   "source": [
    "rest18.groupby('payment_period')['cancel_date'].agg('count')\n",
    "# all period =0"
   ]
  },
  {
   "cell_type": "code",
   "execution_count": 337,
   "metadata": {},
   "outputs": [
    {
     "data": {
      "text/html": [
       "<div>\n",
       "<style scoped>\n",
       "    .dataframe tbody tr th:only-of-type {\n",
       "        vertical-align: middle;\n",
       "    }\n",
       "\n",
       "    .dataframe tbody tr th {\n",
       "        vertical-align: top;\n",
       "    }\n",
       "\n",
       "    .dataframe thead th {\n",
       "        text-align: right;\n",
       "    }\n",
       "</style>\n",
       "<table border=\"1\" class=\"dataframe\">\n",
       "  <thead>\n",
       "    <tr style=\"text-align: right;\">\n",
       "      <th></th>\n",
       "      <th>trial_end_date</th>\n",
       "      <th>last_payment</th>\n",
       "      <th>next_payment</th>\n",
       "      <th>cancel_date</th>\n",
       "      <th>current_sub_TF</th>\n",
       "      <th>trial_completed</th>\n",
       "      <th>payment_period</th>\n",
       "      <th>initial_credit_card_declined</th>\n",
       "      <th>last_payment_before_next_payment</th>\n",
       "      <th>last_payment_after_next_payment</th>\n",
       "      <th>check_np</th>\n",
       "      <th>con2_</th>\n",
       "      <th>con2</th>\n",
       "      <th>con3</th>\n",
       "      <th>months</th>\n",
       "      <th>a</th>\n",
       "    </tr>\n",
       "  </thead>\n",
       "  <tbody>\n",
       "    <tr>\n",
       "      <th>30279</th>\n",
       "      <td>2019-07-26 06:59:49</td>\n",
       "      <td>NaT</td>\n",
       "      <td>NaT</td>\n",
       "      <td>2019-08-02</td>\n",
       "      <td>False</td>\n",
       "      <td>True</td>\n",
       "      <td>0</td>\n",
       "      <td>False</td>\n",
       "      <td>False</td>\n",
       "      <td>False</td>\n",
       "      <td>NaT</td>\n",
       "      <td>False</td>\n",
       "      <td>False</td>\n",
       "      <td>2019-07-26 06:59:49</td>\n",
       "      <td>0</td>\n",
       "      <td>0</td>\n",
       "    </tr>\n",
       "    <tr>\n",
       "      <th>47943</th>\n",
       "      <td>2019-10-27 00:00:00</td>\n",
       "      <td>NaT</td>\n",
       "      <td>NaT</td>\n",
       "      <td>2019-11-03</td>\n",
       "      <td>False</td>\n",
       "      <td>True</td>\n",
       "      <td>0</td>\n",
       "      <td>False</td>\n",
       "      <td>False</td>\n",
       "      <td>False</td>\n",
       "      <td>NaT</td>\n",
       "      <td>False</td>\n",
       "      <td>False</td>\n",
       "      <td>2019-10-27 00:00:00</td>\n",
       "      <td>0</td>\n",
       "      <td>0</td>\n",
       "    </tr>\n",
       "    <tr>\n",
       "      <th>48657</th>\n",
       "      <td>2019-07-27 19:16:41</td>\n",
       "      <td>NaT</td>\n",
       "      <td>NaT</td>\n",
       "      <td>2019-08-04</td>\n",
       "      <td>False</td>\n",
       "      <td>True</td>\n",
       "      <td>0</td>\n",
       "      <td>False</td>\n",
       "      <td>False</td>\n",
       "      <td>False</td>\n",
       "      <td>NaT</td>\n",
       "      <td>False</td>\n",
       "      <td>False</td>\n",
       "      <td>2019-07-27 19:16:41</td>\n",
       "      <td>0</td>\n",
       "      <td>0</td>\n",
       "    </tr>\n",
       "    <tr>\n",
       "      <th>61304</th>\n",
       "      <td>2019-07-26 15:11:24</td>\n",
       "      <td>NaT</td>\n",
       "      <td>NaT</td>\n",
       "      <td>2019-08-03</td>\n",
       "      <td>False</td>\n",
       "      <td>True</td>\n",
       "      <td>0</td>\n",
       "      <td>False</td>\n",
       "      <td>False</td>\n",
       "      <td>False</td>\n",
       "      <td>NaT</td>\n",
       "      <td>False</td>\n",
       "      <td>False</td>\n",
       "      <td>2019-07-26 15:11:24</td>\n",
       "      <td>0</td>\n",
       "      <td>0</td>\n",
       "    </tr>\n",
       "    <tr>\n",
       "      <th>63042</th>\n",
       "      <td>2019-07-28 02:39:26</td>\n",
       "      <td>NaT</td>\n",
       "      <td>NaT</td>\n",
       "      <td>2019-08-05</td>\n",
       "      <td>False</td>\n",
       "      <td>True</td>\n",
       "      <td>0</td>\n",
       "      <td>False</td>\n",
       "      <td>False</td>\n",
       "      <td>False</td>\n",
       "      <td>NaT</td>\n",
       "      <td>False</td>\n",
       "      <td>False</td>\n",
       "      <td>2019-07-28 02:39:26</td>\n",
       "      <td>0</td>\n",
       "      <td>0</td>\n",
       "    </tr>\n",
       "    <tr>\n",
       "      <th>75285</th>\n",
       "      <td>2019-07-27 02:26:06</td>\n",
       "      <td>NaT</td>\n",
       "      <td>NaT</td>\n",
       "      <td>2019-08-01</td>\n",
       "      <td>False</td>\n",
       "      <td>True</td>\n",
       "      <td>0</td>\n",
       "      <td>False</td>\n",
       "      <td>False</td>\n",
       "      <td>False</td>\n",
       "      <td>NaT</td>\n",
       "      <td>False</td>\n",
       "      <td>False</td>\n",
       "      <td>2019-07-27 02:26:06</td>\n",
       "      <td>0</td>\n",
       "      <td>0</td>\n",
       "    </tr>\n",
       "    <tr>\n",
       "      <th>78117</th>\n",
       "      <td>2019-07-26 02:10:39</td>\n",
       "      <td>NaT</td>\n",
       "      <td>NaT</td>\n",
       "      <td>2019-08-07</td>\n",
       "      <td>False</td>\n",
       "      <td>True</td>\n",
       "      <td>0</td>\n",
       "      <td>False</td>\n",
       "      <td>False</td>\n",
       "      <td>False</td>\n",
       "      <td>NaT</td>\n",
       "      <td>False</td>\n",
       "      <td>False</td>\n",
       "      <td>2019-07-26 02:10:39</td>\n",
       "      <td>0</td>\n",
       "      <td>0</td>\n",
       "    </tr>\n",
       "    <tr>\n",
       "      <th>78342</th>\n",
       "      <td>2019-07-25 05:44:14</td>\n",
       "      <td>NaT</td>\n",
       "      <td>NaT</td>\n",
       "      <td>2019-08-02</td>\n",
       "      <td>False</td>\n",
       "      <td>True</td>\n",
       "      <td>0</td>\n",
       "      <td>False</td>\n",
       "      <td>False</td>\n",
       "      <td>False</td>\n",
       "      <td>NaT</td>\n",
       "      <td>False</td>\n",
       "      <td>False</td>\n",
       "      <td>2019-07-25 05:44:14</td>\n",
       "      <td>0</td>\n",
       "      <td>0</td>\n",
       "    </tr>\n",
       "    <tr>\n",
       "      <th>81545</th>\n",
       "      <td>2019-07-26 14:49:33</td>\n",
       "      <td>NaT</td>\n",
       "      <td>NaT</td>\n",
       "      <td>2019-08-05</td>\n",
       "      <td>False</td>\n",
       "      <td>True</td>\n",
       "      <td>0</td>\n",
       "      <td>False</td>\n",
       "      <td>False</td>\n",
       "      <td>False</td>\n",
       "      <td>NaT</td>\n",
       "      <td>False</td>\n",
       "      <td>False</td>\n",
       "      <td>2019-07-26 14:49:33</td>\n",
       "      <td>0</td>\n",
       "      <td>0</td>\n",
       "    </tr>\n",
       "    <tr>\n",
       "      <th>82156</th>\n",
       "      <td>2019-07-28 13:58:47</td>\n",
       "      <td>NaT</td>\n",
       "      <td>NaT</td>\n",
       "      <td>2019-08-09</td>\n",
       "      <td>False</td>\n",
       "      <td>True</td>\n",
       "      <td>0</td>\n",
       "      <td>False</td>\n",
       "      <td>False</td>\n",
       "      <td>False</td>\n",
       "      <td>NaT</td>\n",
       "      <td>False</td>\n",
       "      <td>False</td>\n",
       "      <td>2019-07-28 13:58:47</td>\n",
       "      <td>0</td>\n",
       "      <td>0</td>\n",
       "    </tr>\n",
       "    <tr>\n",
       "      <th>99854</th>\n",
       "      <td>2019-07-27 20:28:01</td>\n",
       "      <td>NaT</td>\n",
       "      <td>NaT</td>\n",
       "      <td>2019-08-04</td>\n",
       "      <td>False</td>\n",
       "      <td>True</td>\n",
       "      <td>0</td>\n",
       "      <td>True</td>\n",
       "      <td>False</td>\n",
       "      <td>False</td>\n",
       "      <td>NaT</td>\n",
       "      <td>False</td>\n",
       "      <td>False</td>\n",
       "      <td>2019-07-27 20:28:01</td>\n",
       "      <td>0</td>\n",
       "      <td>0</td>\n",
       "    </tr>\n",
       "    <tr>\n",
       "      <th>103075</th>\n",
       "      <td>2019-09-16 00:00:00</td>\n",
       "      <td>NaT</td>\n",
       "      <td>NaT</td>\n",
       "      <td>2019-09-26</td>\n",
       "      <td>False</td>\n",
       "      <td>True</td>\n",
       "      <td>0</td>\n",
       "      <td>False</td>\n",
       "      <td>False</td>\n",
       "      <td>False</td>\n",
       "      <td>NaT</td>\n",
       "      <td>False</td>\n",
       "      <td>False</td>\n",
       "      <td>2019-09-16 00:00:00</td>\n",
       "      <td>0</td>\n",
       "      <td>0</td>\n",
       "    </tr>\n",
       "    <tr>\n",
       "      <th>152568</th>\n",
       "      <td>2019-07-24 15:55:08</td>\n",
       "      <td>NaT</td>\n",
       "      <td>NaT</td>\n",
       "      <td>2019-08-01</td>\n",
       "      <td>False</td>\n",
       "      <td>True</td>\n",
       "      <td>0</td>\n",
       "      <td>False</td>\n",
       "      <td>False</td>\n",
       "      <td>False</td>\n",
       "      <td>NaT</td>\n",
       "      <td>False</td>\n",
       "      <td>False</td>\n",
       "      <td>2019-07-24 15:55:08</td>\n",
       "      <td>0</td>\n",
       "      <td>0</td>\n",
       "    </tr>\n",
       "    <tr>\n",
       "      <th>156629</th>\n",
       "      <td>2019-11-12 00:00:00</td>\n",
       "      <td>NaT</td>\n",
       "      <td>NaT</td>\n",
       "      <td>2019-11-16</td>\n",
       "      <td>False</td>\n",
       "      <td>True</td>\n",
       "      <td>0</td>\n",
       "      <td>False</td>\n",
       "      <td>False</td>\n",
       "      <td>False</td>\n",
       "      <td>NaT</td>\n",
       "      <td>False</td>\n",
       "      <td>False</td>\n",
       "      <td>2019-11-12 00:00:00</td>\n",
       "      <td>0</td>\n",
       "      <td>0</td>\n",
       "    </tr>\n",
       "    <tr>\n",
       "      <th>160136</th>\n",
       "      <td>2019-07-28 00:09:29</td>\n",
       "      <td>NaT</td>\n",
       "      <td>NaT</td>\n",
       "      <td>2019-08-09</td>\n",
       "      <td>False</td>\n",
       "      <td>True</td>\n",
       "      <td>0</td>\n",
       "      <td>False</td>\n",
       "      <td>False</td>\n",
       "      <td>False</td>\n",
       "      <td>NaT</td>\n",
       "      <td>False</td>\n",
       "      <td>False</td>\n",
       "      <td>2019-07-28 00:09:29</td>\n",
       "      <td>0</td>\n",
       "      <td>0</td>\n",
       "    </tr>\n",
       "    <tr>\n",
       "      <th>177337</th>\n",
       "      <td>2019-10-07 00:00:00</td>\n",
       "      <td>NaT</td>\n",
       "      <td>NaT</td>\n",
       "      <td>2019-10-13</td>\n",
       "      <td>False</td>\n",
       "      <td>True</td>\n",
       "      <td>0</td>\n",
       "      <td>False</td>\n",
       "      <td>False</td>\n",
       "      <td>False</td>\n",
       "      <td>NaT</td>\n",
       "      <td>False</td>\n",
       "      <td>False</td>\n",
       "      <td>2019-10-07 00:00:00</td>\n",
       "      <td>0</td>\n",
       "      <td>0</td>\n",
       "    </tr>\n",
       "    <tr>\n",
       "      <th>182980</th>\n",
       "      <td>2019-07-25 03:31:01</td>\n",
       "      <td>NaT</td>\n",
       "      <td>NaT</td>\n",
       "      <td>2019-08-06</td>\n",
       "      <td>False</td>\n",
       "      <td>True</td>\n",
       "      <td>0</td>\n",
       "      <td>False</td>\n",
       "      <td>False</td>\n",
       "      <td>False</td>\n",
       "      <td>NaT</td>\n",
       "      <td>False</td>\n",
       "      <td>False</td>\n",
       "      <td>2019-07-25 03:31:01</td>\n",
       "      <td>0</td>\n",
       "      <td>0</td>\n",
       "    </tr>\n",
       "    <tr>\n",
       "      <th>225582</th>\n",
       "      <td>2019-07-25 20:53:25</td>\n",
       "      <td>NaT</td>\n",
       "      <td>NaT</td>\n",
       "      <td>2019-08-03</td>\n",
       "      <td>False</td>\n",
       "      <td>True</td>\n",
       "      <td>0</td>\n",
       "      <td>False</td>\n",
       "      <td>False</td>\n",
       "      <td>False</td>\n",
       "      <td>NaT</td>\n",
       "      <td>False</td>\n",
       "      <td>False</td>\n",
       "      <td>2019-07-25 20:53:25</td>\n",
       "      <td>0</td>\n",
       "      <td>0</td>\n",
       "    </tr>\n",
       "  </tbody>\n",
       "</table>\n",
       "</div>"
      ],
      "text/plain": [
       "            trial_end_date last_payment next_payment cancel_date  \\\n",
       "30279  2019-07-26 06:59:49          NaT          NaT  2019-08-02   \n",
       "47943  2019-10-27 00:00:00          NaT          NaT  2019-11-03   \n",
       "48657  2019-07-27 19:16:41          NaT          NaT  2019-08-04   \n",
       "61304  2019-07-26 15:11:24          NaT          NaT  2019-08-03   \n",
       "63042  2019-07-28 02:39:26          NaT          NaT  2019-08-05   \n",
       "75285  2019-07-27 02:26:06          NaT          NaT  2019-08-01   \n",
       "78117  2019-07-26 02:10:39          NaT          NaT  2019-08-07   \n",
       "78342  2019-07-25 05:44:14          NaT          NaT  2019-08-02   \n",
       "81545  2019-07-26 14:49:33          NaT          NaT  2019-08-05   \n",
       "82156  2019-07-28 13:58:47          NaT          NaT  2019-08-09   \n",
       "99854  2019-07-27 20:28:01          NaT          NaT  2019-08-04   \n",
       "103075 2019-09-16 00:00:00          NaT          NaT  2019-09-26   \n",
       "152568 2019-07-24 15:55:08          NaT          NaT  2019-08-01   \n",
       "156629 2019-11-12 00:00:00          NaT          NaT  2019-11-16   \n",
       "160136 2019-07-28 00:09:29          NaT          NaT  2019-08-09   \n",
       "177337 2019-10-07 00:00:00          NaT          NaT  2019-10-13   \n",
       "182980 2019-07-25 03:31:01          NaT          NaT  2019-08-06   \n",
       "225582 2019-07-25 20:53:25          NaT          NaT  2019-08-03   \n",
       "\n",
       "        current_sub_TF  trial_completed  payment_period  \\\n",
       "30279            False             True               0   \n",
       "47943            False             True               0   \n",
       "48657            False             True               0   \n",
       "61304            False             True               0   \n",
       "63042            False             True               0   \n",
       "75285            False             True               0   \n",
       "78117            False             True               0   \n",
       "78342            False             True               0   \n",
       "81545            False             True               0   \n",
       "82156            False             True               0   \n",
       "99854            False             True               0   \n",
       "103075           False             True               0   \n",
       "152568           False             True               0   \n",
       "156629           False             True               0   \n",
       "160136           False             True               0   \n",
       "177337           False             True               0   \n",
       "182980           False             True               0   \n",
       "225582           False             True               0   \n",
       "\n",
       "        initial_credit_card_declined  last_payment_before_next_payment  \\\n",
       "30279                          False                             False   \n",
       "47943                          False                             False   \n",
       "48657                          False                             False   \n",
       "61304                          False                             False   \n",
       "63042                          False                             False   \n",
       "75285                          False                             False   \n",
       "78117                          False                             False   \n",
       "78342                          False                             False   \n",
       "81545                          False                             False   \n",
       "82156                          False                             False   \n",
       "99854                           True                             False   \n",
       "103075                         False                             False   \n",
       "152568                         False                             False   \n",
       "156629                         False                             False   \n",
       "160136                         False                             False   \n",
       "177337                         False                             False   \n",
       "182980                         False                             False   \n",
       "225582                         False                             False   \n",
       "\n",
       "        last_payment_after_next_payment check_np  con2_   con2  \\\n",
       "30279                             False      NaT  False  False   \n",
       "47943                             False      NaT  False  False   \n",
       "48657                             False      NaT  False  False   \n",
       "61304                             False      NaT  False  False   \n",
       "63042                             False      NaT  False  False   \n",
       "75285                             False      NaT  False  False   \n",
       "78117                             False      NaT  False  False   \n",
       "78342                             False      NaT  False  False   \n",
       "81545                             False      NaT  False  False   \n",
       "82156                             False      NaT  False  False   \n",
       "99854                             False      NaT  False  False   \n",
       "103075                            False      NaT  False  False   \n",
       "152568                            False      NaT  False  False   \n",
       "156629                            False      NaT  False  False   \n",
       "160136                            False      NaT  False  False   \n",
       "177337                            False      NaT  False  False   \n",
       "182980                            False      NaT  False  False   \n",
       "225582                            False      NaT  False  False   \n",
       "\n",
       "                      con3  months  a  \n",
       "30279  2019-07-26 06:59:49       0  0  \n",
       "47943  2019-10-27 00:00:00       0  0  \n",
       "48657  2019-07-27 19:16:41       0  0  \n",
       "61304  2019-07-26 15:11:24       0  0  \n",
       "63042  2019-07-28 02:39:26       0  0  \n",
       "75285  2019-07-27 02:26:06       0  0  \n",
       "78117  2019-07-26 02:10:39       0  0  \n",
       "78342  2019-07-25 05:44:14       0  0  \n",
       "81545  2019-07-26 14:49:33       0  0  \n",
       "82156  2019-07-28 13:58:47       0  0  \n",
       "99854  2019-07-27 20:28:01       0  0  \n",
       "103075 2019-09-16 00:00:00       0  0  \n",
       "152568 2019-07-24 15:55:08       0  0  \n",
       "156629 2019-11-12 00:00:00       0  0  \n",
       "160136 2019-07-28 00:09:29       0  0  \n",
       "177337 2019-10-07 00:00:00       0  0  \n",
       "182980 2019-07-25 03:31:01       0  0  \n",
       "225582 2019-07-25 20:53:25       0  0  "
      ]
     },
     "execution_count": 337,
     "metadata": {},
     "output_type": "execute_result"
    }
   ],
   "source": [
    "rest18 # cancel date is late than trial_end_date, and all period = 0  & current_sub_TF == False\n",
    "#"
   ]
  },
  {
   "cell_type": "code",
   "execution_count": 338,
   "metadata": {},
   "outputs": [],
   "source": [
    "df_date['cancel_date_before_trial_end_date'] = df_date['cancel_date']< df_date['trial_end_date']\n"
   ]
  },
  {
   "cell_type": "code",
   "execution_count": 339,
   "metadata": {},
   "outputs": [],
   "source": [
    "df_date['cancel_date_after_lastpayment_date'] = df_date['cancel_date']> df_date['last_payment']"
   ]
  },
  {
   "cell_type": "code",
   "execution_count": 340,
   "metadata": {},
   "outputs": [
    {
     "name": "stdout",
     "output_type": "stream",
     "text": [
      "<class 'pandas.core.frame.DataFrame'>\n",
      "RangeIndex: 227628 entries, 0 to 227627\n",
      "Data columns (total 18 columns):\n",
      " #   Column                              Non-Null Count   Dtype         \n",
      "---  ------                              --------------   -----         \n",
      " 0   trial_end_date                      227628 non-null  datetime64[ns]\n",
      " 1   last_payment                        132237 non-null  datetime64[ns]\n",
      " 2   next_payment                        130250 non-null  datetime64[ns]\n",
      " 3   cancel_date                         36831 non-null   datetime64[ns]\n",
      " 4   current_sub_TF                      227628 non-null  bool          \n",
      " 5   trial_completed                     227628 non-null  bool          \n",
      " 6   payment_period                      227628 non-null  int64         \n",
      " 7   initial_credit_card_declined        227628 non-null  bool          \n",
      " 8   last_payment_before_next_payment    227628 non-null  bool          \n",
      " 9   last_payment_after_next_payment     227628 non-null  bool          \n",
      " 10  check_np                            132237 non-null  datetime64[ns]\n",
      " 11  con2_                               227628 non-null  bool          \n",
      " 12  con2                                227628 non-null  bool          \n",
      " 13  con3                                227628 non-null  datetime64[ns]\n",
      " 14  months                              227628 non-null  int64         \n",
      " 15  a                                   227628 non-null  int64         \n",
      " 16  cancel_date_before_trial_end_date   227628 non-null  bool          \n",
      " 17  cancel_date_after_lastpayment_date  227628 non-null  bool          \n",
      "dtypes: bool(9), datetime64[ns](6), int64(3)\n",
      "memory usage: 17.6 MB\n"
     ]
    }
   ],
   "source": [
    "df_date.info()"
   ]
  },
  {
   "cell_type": "code",
   "execution_count": 347,
   "metadata": {},
   "outputs": [
    {
     "data": {
      "text/plain": [
       "current_sub_TF  trial_completed  initial_credit_card_declined  cancel_date_before_trial_end_date  cancel_date_after_lastpayment_date  payment_period\n",
       "False           False            False                         True                               False                               0                 24977\n",
       "                                                                                                                                      1                   262\n",
       "                                 True                          True                               False                               0                  1250\n",
       "                                                                                                                                      1                     7\n",
       "                True             False                         False                              False                               0                 57650\n",
       "                                                                                                                                      1                  1016\n",
       "                                                                                                                                      2                    84\n",
       "                                                                                                  True                                1                  8314\n",
       "                                                                                                                                      2                   529\n",
       "                                 True                          False                              False                               0                  2664\n",
       "                                                                                                                                      1                    69\n",
       "                                                                                                                                      2                     5\n",
       "                                                                                                  True                                1                   515\n",
       "                                                                                                                                      2                    36\n",
       "True            False            False                         True                               False                               0                   843\n",
       "                                 True                          True                               False                               0                    53\n",
       "                True             False                         False                              False                               0                  7473\n",
       "                                                                                                                                      1                 73229\n",
       "                                                                                                                                      2                 39828\n",
       "                                                                                                                                      3                  2220\n",
       "                                 True                          False                              False                               0                   481\n",
       "                                                                                                                                      1                  3556\n",
       "                                                                                                                                      2                  2439\n",
       "                                                                                                                                      3                   128\n",
       "dtype: int64"
      ]
     },
     "execution_count": 347,
     "metadata": {},
     "output_type": "execute_result"
    }
   ],
   "source": [
    "# based on 3 conditions: current_sub_TF, payment_period, trial_completed\n",
    "df_date.groupby(['current_sub_TF','trial_completed','initial_credit_card_declined','cancel_date_before_trial_end_date','cancel_date_after_lastpayment_date', 'payment_period']).size()"
   ]
  },
  {
   "cell_type": "code",
   "execution_count": 345,
   "metadata": {},
   "outputs": [
    {
     "data": {
      "text/plain": [
       "227628"
      ]
     },
     "execution_count": 345,
     "metadata": {},
     "output_type": "execute_result"
    }
   ],
   "source": [
    "24977+1250+57650+2664+843+53+7473+481+262+7+1016+8314+69+515+73229+3556+84+529+5+36+39828+2439+2220+128"
   ]
  },
  {
   "cell_type": "code",
   "execution_count": 348,
   "metadata": {},
   "outputs": [],
   "source": [
    "#df = pd.DataFrame(df.groupby(['Country','Sub','Source']).size(),columns=['Count'])\n",
    "# based on 3 conditions: current_sub_TF, payment_period, trial_completed\n",
    "user = pd.DataFrame(df_date.groupby(['current_sub_TF','trial_completed','initial_credit_card_declined','cancel_date_before_trial_end_date','cancel_date_after_lastpayment_date', 'payment_period']).size(), columns = ['count'])"
   ]
  },
  {
   "cell_type": "code",
   "execution_count": 351,
   "metadata": {},
   "outputs": [],
   "source": [
    "user.to_csv('user.csv')"
   ]
  },
  {
   "cell_type": "code",
   "execution_count": 352,
   "metadata": {},
   "outputs": [
    {
     "data": {
      "text/plain": [
       "66541"
      ]
     },
     "execution_count": 352,
     "metadata": {},
     "output_type": "execute_result"
    }
   ],
   "source": [
    "4977+1250+57650+2664"
   ]
  },
  {
   "attachments": {
    "2ecbc182-d554-487e-a2af-e7b6d8000983.png": {
     "image/png": "[encoded data removed]"
    }
   },
   "cell_type": "markdown",
   "metadata": {},
   "source": [
    "![image.png](attachment:2ecbc182-d554-487e-a2af-e7b6d8000983.png)"
   ]
  }
 ],
 "metadata": {
  "kernelspec": {
   "display_name": "Python 3",
   "language": "python",
   "name": "python3"
  },
  "language_info": {
   "codemirror_mode": {
    "name": "ipython",
    "version": 3
   },
   "file_extension": ".py",
   "mimetype": "text/x-python",
   "name": "python",
   "nbconvert_exporter": "python",
   "pygments_lexer": "ipython3",
   "version": "3.8.3"
  }
 },
 "nbformat": 4,
 "nbformat_minor": 4
}
