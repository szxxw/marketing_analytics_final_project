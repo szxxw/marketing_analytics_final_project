{
 "cells": [
  {
   "cell_type": "markdown",
   "metadata": {},
   "source": [
    "# AB testing"
   ]
  },
  {
   "cell_type": "code",
   "execution_count": 2,
   "metadata": {},
   "outputs": [],
   "source": [
    "import pandas as pd\n",
    "import numpy as np\n",
    "from matplotlib import pyplot as plt\n",
    "import math\n",
    "import scipy.stats as st\n",
    "from scipy.stats import norm\n"
   ]
  },
  {
   "cell_type": "code",
   "execution_count": 3,
   "metadata": {},
   "outputs": [],
   "source": [
    "not_in_trial = pd.read_csv('not_in_trial.csv')"
   ]
  },
  {
   "cell_type": "code",
   "execution_count": 4,
   "metadata": {},
   "outputs": [
    {
     "data": {
      "text/plain": [
       "<matplotlib.axes._subplots.AxesSubplot at 0x28d64520190>"
      ]
     },
     "execution_count": 4,
     "metadata": {},
     "output_type": "execute_result"
    },
    {
     "data": {
      "image/png": "[encoded data removed]",
      "text/plain": [
       "<Figure size 432x288 with 1 Axes>"
      ]
     },
     "metadata": {
      "needs_background": "light"
     },
     "output_type": "display_data"
    }
   ],
   "source": [
    "not_in_trial.join_fee.plot(kind = 'hist') # find some records's join fees are < 0"
   ]
  },
  {
   "cell_type": "code",
   "execution_count": 5,
   "metadata": {},
   "outputs": [
    {
     "data": {
      "text/plain": [
       "(13, 35)"
      ]
     },
     "execution_count": 5,
     "metadata": {},
     "output_type": "execute_result"
    }
   ],
   "source": [
    "not_in_trial[not_in_trial.join_fee < 0].shape\n",
    "# 13 records with join fees < 0\n",
    "# decide to ignore them when sum join fees"
   ]
  },
  {
   "cell_type": "code",
   "execution_count": 6,
   "metadata": {},
   "outputs": [
    {
     "data": {
      "text/plain": [
       "count    185083.000000\n",
       "mean          0.111453\n",
       "std           0.175980\n",
       "min          -0.660600\n",
       "25%           0.036700\n",
       "50%           0.036700\n",
       "75%           0.036700\n",
       "max           0.734000\n",
       "Name: join_fee, dtype: float64"
      ]
     },
     "execution_count": 6,
     "metadata": {},
     "output_type": "execute_result"
    }
   ],
   "source": [
    "not_in_trial.join_fee.describe() \n",
    "# total case 185083"
   ]
  },
  {
   "cell_type": "code",
   "execution_count": 7,
   "metadata": {},
   "outputs": [
    {
     "name": "stdout",
     "output_type": "stream",
     "text": [
      "31954\n",
      "153116\n"
     ]
    }
   ],
   "source": [
    "# do no include records with negative join fees (13 records)\n",
    "take_join_fee_size = not_in_trial[not_in_trial.join_fee>0].shape[0]# 153116 took join fee\n",
    "not_take_join_fee_size = not_in_trial[not_in_trial.join_fee == 0].shape[0] # 31954 not taken join fee\n",
    "print(not_take_join_fee_size) \n",
    "print(take_join_fee_size) "
   ]
  },
  {
   "cell_type": "code",
   "execution_count": 8,
   "metadata": {},
   "outputs": [
    {
     "data": {
      "text/plain": [
       "0.587841897646229"
      ]
     },
     "execution_count": 8,
     "metadata": {},
     "output_type": "execute_result"
    }
   ],
   "source": [
    "# compute the conversion rate of people who are charged join fees when sign up\n",
    "take_fee_con_r = not_in_trial[(not_in_trial.join_fee>0) & (not_in_trial.user_label != 'never_sub')].shape[0]/take_join_fee_size\n",
    "take_fee_con_r"
   ]
  },
  {
   "cell_type": "code",
   "execution_count": 9,
   "metadata": {},
   "outputs": [
    {
     "data": {
      "text/plain": [
       "0.5605870939475496"
      ]
     },
     "execution_count": 9,
     "metadata": {},
     "output_type": "execute_result"
    }
   ],
   "source": [
    "# compute the conversion rate of people who are not charged join fees when sign up\n",
    "not_take_fee_con_r = not_in_trial[(not_in_trial.join_fee ==0) & (not_in_trial.user_label != 'never_sub')].shape[0]/not_take_join_fee_size\n",
    "not_take_fee_con_r"
   ]
  },
  {
   "cell_type": "code",
   "execution_count": 13,
   "metadata": {},
   "outputs": [],
   "source": [
    "# Conducting the A/B test \n",
    "# if we assume one sample (Variant B: not taking join fees) and Variant A (taking join fees) as baseline = population, p_f and n_f are variant A stats\n",
    "# we do a one-sample and one-side hypotheis test, confidence = 1- alpha\n",
    "# Ha: Not Taking join fees can decrease the user conversion rate\n",
    "# Ha: conversion_rate_B < conversion_rate_A (left tail)\n",
    "def do_abtesting(pa, pb, b_size, alpha, num_sides_f = 1 ):\n",
    "    \"\"\"\n",
    "    pa: the conversion rate of variant A\n",
    "    pb: the conversion rate of variant B\n",
    "    b_size: the sample size of variant B\n",
    "    alpha: stantistic significance\n",
    "    \"\"\"\n",
    "    # calculating the Z-score of variant B\n",
    "    stv_b = math.sqrt(pa*(1-pa)/b_size)\n",
    "    # print(stv_b)\n",
    "    z_b = (pb - pa)/stv_b\n",
    "   # print(z_b)\n",
    "    # comparing the z-score to the value of statistical significance at the level of a\n",
    "    # one-tailed test\n",
    "    z_confi = norm.ppf((alpha/num_sides_f)) # or 1-alpha\n",
    "    # get p value:\n",
    "    p_value = ((1-norm.cdf(abs(z_b))) * num_sides_f)\n",
    "    if z_b > z_confi:\n",
    "        print('z-score of variant b: %3.3f > z-score of the confidence rate: %3.3f, the p value is %3.1f%%' %(z_b, z_confi, 100*p_value))\n",
    "        print()\n",
    "        print('We fail to reject the null hypothesis given that confidence rate.' )\n",
    "        print('There is no evidence to support the claim that implementing alternative B can decrease the conversion rates over applying alternative A.')\n",
    "        print('Therefore, implementing alternative B can decrease the conversion rate over applying alternative A.')\n",
    "    else:\n",
    "        print('z-score of variant b: %3.3f < z-score of the confidence rate: %3.3f, the p value is %3.1f%%' %(z_b, z_confi, 100*p_value))\n",
    "        print()\n",
    "        print('We reject the null hypothesis given that confidence rate.')\n",
    "        print()\n",
    "        print('Therefore, implementing alternative B can decrease the conversion rate over applying alternative A.')\n",
    "       "
   ]
  },
  {
   "cell_type": "code",
   "execution_count": 14,
   "metadata": {},
   "outputs": [
    {
     "name": "stdout",
     "output_type": "stream",
     "text": [
      "z-score of variant b: -9.898 < z-score of the confidence rate: -1.645, the p value is 0.0%\n",
      "\n",
      "We reject the null hypothesis given that confidence rate.\n",
      "\n",
      "Therefore, implementing alternative B can decrease the conversion rate over applying alternative A.\n"
     ]
    }
   ],
   "source": [
    "# one-side test\n",
    "do_abtesting(pa = take_fee_con_r, pb = not_take_fee_con_r,b_size =  not_take_join_fee_size, alpha = 0.05, num_sides_f =1)"
   ]
  },
  {
   "cell_type": "markdown",
   "metadata": {},
   "source": [
    "# A/B test Conclusion\n",
    "Not charing join fees led to a 2.73% decrease in conversions at the 95% confidence level.\n",
    " The company should charge join fees from people."
   ]
  }
 ],
 "metadata": {
  "kernelspec": {
   "display_name": "Python 3",
   "language": "python",
   "name": "python3"
  },
  "language_info": {
   "codemirror_mode": {
    "name": "ipython",
    "version": 3
   },
   "file_extension": ".py",
   "mimetype": "text/x-python",
   "name": "python",
   "nbconvert_exporter": "python",
   "pygments_lexer": "ipython3",
   "version": "3.8.3"
  }
 },
 "nbformat": 4,
 "nbformat_minor": 4
}
